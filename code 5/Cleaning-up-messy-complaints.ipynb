{
 "cells": [
  {
   "cell_type": "markdown",
   "metadata": {},
   "source": [
    "One of the main problems with messy data is: how do you know if it's messy or not?\n",
    "\n",
    "We're going to use the NYC 311 service request dataset again here, since it's big and a bit unwieldy."
   ]
  },
  {
   "cell_type": "code",
   "execution_count": 26,
   "metadata": {
    "collapsed": false
   },
   "outputs": [],
   "source": [
    "# The usual preamble\n",
    "%matplotlib inline\n",
    "\n",
    "from os.path import join\n",
    "import pandas as pd\n",
    "import matplotlib.pyplot as plt\n",
    "import numpy as np\n",
    "plt.style.use('ggplot')\n",
    "# Make the graphs a bit prettier, and bigger\n",
    "plt.rcParams['figure.figsize'] = (15, 5)\n",
    "plt.rcParams['font.family'] = 'sans-serif'\n",
    "\n",
    "# This is necessary to show lots of columns in pandas 0.12. \n",
    "# Not necessary in pandas 0.13.\n",
    "pd.set_option('display.width', 5000) \n",
    "pd.set_option('display.max_columns', 60)"
   ]
  },
  {
   "cell_type": "code",
   "execution_count": 38,
   "metadata": {
    "collapsed": false
   },
   "outputs": [],
   "source": [
    "requests = pd.read_csv(join('..', 'data', 'service-requests.zip'), compression='zip')"
   ]
  },
  {
   "cell_type": "code",
   "execution_count": 39,
   "metadata": {
    "collapsed": false
   },
   "outputs": [
    {
     "name": "stdout",
     "output_type": "stream",
     "text": [
      "<class 'pandas.core.frame.DataFrame'>\n",
      "RangeIndex: 205699 entries, 0 to 205698\n",
      "Data columns (total 53 columns):\n",
      "Unique Key                        205699 non-null int64\n",
      "Created Date                      205699 non-null object\n",
      "Closed Date                       177647 non-null object\n",
      "Agency                            205699 non-null object\n",
      "Agency Name                       205699 non-null object\n",
      "Complaint Type                    205699 non-null object\n",
      "Descriptor                        198646 non-null object\n",
      "Location Type                     158071 non-null object\n",
      "Incident Zip                      193820 non-null object\n",
      "Incident Address                  159835 non-null object\n",
      "Street Name                       159824 non-null object\n",
      "Cross Street 1                    114730 non-null object\n",
      "Cross Street 2                    113886 non-null object\n",
      "Intersection Street 1             32093 non-null object\n",
      "Intersection Street 2             31937 non-null object\n",
      "Address Type                      195803 non-null object\n",
      "City                              193845 non-null object\n",
      "Landmark                          78 non-null object\n",
      "Facility Type                     76150 non-null object\n",
      "Status                            205683 non-null object\n",
      "Due Date                          116093 non-null object\n",
      "Resolution Description            201360 non-null object\n",
      "Resolution Action Updated Date    190831 non-null object\n",
      "Community Board                   205699 non-null object\n",
      "Borough                           205699 non-null object\n",
      "X Coordinate (State Plane)        185032 non-null float64\n",
      "Y Coordinate (State Plane)        185032 non-null float64\n",
      "Park Facility Name                205699 non-null object\n",
      "Park Borough                      205699 non-null object\n",
      "School Name                       205699 non-null object\n",
      "School Number                     205626 non-null object\n",
      "School Region                     203019 non-null object\n",
      "School Code                       203019 non-null object\n",
      "School Phone Number               205699 non-null object\n",
      "School Address                    205699 non-null object\n",
      "School City                       205699 non-null object\n",
      "School State                      205699 non-null object\n",
      "School Zip                        205699 non-null object\n",
      "School Not Found                  114529 non-null object\n",
      "School or Citywide Complaint      0 non-null float64\n",
      "Vehicle Type                      10 non-null object\n",
      "Taxi Company Borough              155 non-null object\n",
      "Taxi Pick Up Location             1331 non-null object\n",
      "Bridge Highway Name               367 non-null object\n",
      "Bridge Highway Direction          367 non-null object\n",
      "Road Ramp                         362 non-null object\n",
      "Bridge Highway Segment            425 non-null object\n",
      "Garage Lot Name                   21 non-null object\n",
      "Ferry Direction                   46 non-null object\n",
      "Ferry Terminal Name               149 non-null object\n",
      "Latitude                          185032 non-null float64\n",
      "Longitude                         185032 non-null float64\n",
      "Location                          185032 non-null object\n",
      "dtypes: float64(5), int64(1), object(47)\n",
      "memory usage: 83.2+ MB\n"
     ]
    }
   ],
   "source": [
    "requests.info()"
   ]
  },
  {
   "cell_type": "markdown",
   "metadata": {},
   "source": [
    "### How do we know if it's messy? "
   ]
  },
  {
   "cell_type": "markdown",
   "metadata": {},
   "source": [
    "To get a sense for whether a column has problems, you can use `.nunique()`, `.describe()` or `.value_counts()` to look at all its values, or plot a histogram to get a sense of the distribution.\n",
    "\n",
    "When we look at the unique values in \"Incident Zip\", it quickly becomes clear that this is a mess.\n",
    "\n",
    "Some of the problems:\n",
    "\n",
    "* Some have been parsed as strings, and some as floats\n",
    "* There are `nan`s \n",
    "* Some of the zip codes are `29616-0759` or `83`\n",
    "* There are some N/A values that pandas didn't recognize, like 'N/A' and 'NO CLUE'\n",
    "\n",
    "What we can do:\n",
    "\n",
    "* Normalize 'N/A' and 'NO CLUE' into regular nan values\n",
    "* Look at what's up with the 83, and decide what to do\n",
    "* Make everything strings"
   ]
  },
  {
   "cell_type": "code",
   "execution_count": 49,
   "metadata": {
    "collapsed": false
   },
   "outputs": [
    {
     "data": {
      "text/plain": [
       "array([nan, '10037', '10030', '11377', '11105', '10453', '11204', '10459',\n",
       "       '11232', '10038', '10016', '11234', '11235', '11423', '11368',\n",
       "       '10040', '10001', '11415', '11229', '11432', '11103', '10012',\n",
       "       '11375', '11367', '11213', '10003', '10463', '10467', '10465',\n",
       "       '11355', '11205', '11236', '11218', '11434', '11208', '11212',\n",
       "       '11385', '10460', '10468', '11226', '11207', '10010', '11417',\n",
       "       '10458', '10024', '11358', '11222', '11360', '11206', '11209',\n",
       "       '11378', '10027', '10456', '11215', '11220', '11210', '11102',\n",
       "       '11416', '11412', '11691', '10022', '11219', '11233', '10451',\n",
       "       '10469', '10023', '10454', '11201', '10036', '11419', '11249',\n",
       "       '10075', '10019', '11214', '11237', '11225', '10306', '11372',\n",
       "       '10031', '11238', '11357', '11354', '11373', '11421', '10462',\n",
       "       '10314', '10457', '10034', '10065', '10282', '11228', '10025',\n",
       "       '10303', '10018', '11694', '11216', '11217', '10002', '10466',\n",
       "       '10305', '11101', '10455', '10308', '11203', '10021', '10028',\n",
       "       '11413', '11369', '11435', '10302', '11379', '11361', '11230',\n",
       "       '11420', '10011', '11374', '11223', '11365', '10461', '10312',\n",
       "       '10304', '10009', '11366', '10464', '10301', '10307', '11422',\n",
       "       '11370', '11221', '11433', '10007', '10309', '10026', '11356',\n",
       "       '11106', '10473', '11224', '11211', '11411', '11436', '11362',\n",
       "       '11429', '10039', '10032', '10013', '10280', '10033', '11231',\n",
       "       '10475', '08837', '11001', '11104', '11005', '10471', '11428',\n",
       "       '10472', '11364', '11427', '10029', '10470', '10014', '11414',\n",
       "       '10452', '11418', '10035', '10128', '10474', '10017', '11426',\n",
       "       '10310', '11692', '07114', '18773-9460', '11109', '11693', '11430',\n",
       "       '11004', '10005', '10006', '10004', '11363', '11239', '10041',\n",
       "       '10119', '10281', '00083', '10069', '07073', '10020', '11791',\n",
       "       '07054', '10803', '11793', '34653', '11590', '23833', 11233.0,\n",
       "       11368.0, 10305.0, 11210.0, 11215.0, 11385.0, 10014.0, 11231.0,\n",
       "       11203.0, 11103.0, 10312.0, 11217.0, 10453.0, 11205.0, 11229.0,\n",
       "       11365.0, 10467.0, 10016.0, 10025.0, 11218.0, 11417.0, 11226.0,\n",
       "       10306.0, 10032.0, 10460.0, 10037.0, 11237.0, 11420.0, 11414.0,\n",
       "       10468.0, 11224.0, 11366.0, 11222.0, 11102.0, 10019.0, 10462.0,\n",
       "       11236.0, 11216.0, 10472.0, 11208.0, 11379.0, 10309.0, 11105.0,\n",
       "       11230.0, 10036.0, 11212.0, 11235.0, 10029.0, 10018.0, 10455.0,\n",
       "       11375.0, 11234.0, 11434.0, 10310.0, 11221.0, 11358.0, 10463.0,\n",
       "       11377.0, 11207.0, 11364.0, 11219.0, 11223.0, 10466.0, 10458.0,\n",
       "       11416.0, 10011.0, 11206.0, 11101.0, 11204.0, 10021.0, 10035.0,\n",
       "       11429.0, 11213.0, 10454.0, 10314.0, 11209.0, 10301.0, 11693.0,\n",
       "       11369.0, 11415.0, 10033.0, 10003.0, 10022.0, 10308.0, 10030.0,\n",
       "       10031.0, 11361.0, 11106.0, 11356.0, 10017.0, 10465.0, 11413.0,\n",
       "       10028.0, 10023.0, 10012.0, 11354.0, 11360.0, 11238.0, 11412.0,\n",
       "       10024.0, 10039.0, 10464.0, 11040.0, 11201.0, 10005.0, 10002.0,\n",
       "       11418.0, 10006.0, 11211.0, 11691.0, 11435.0, 10027.0, 10026.0,\n",
       "       11220.0, 11422.0, 10457.0, 11428.0, 11433.0, 11355.0, 10038.0,\n",
       "       11249.0, 10128.0, 11373.0, 11436.0, 10007.0, 10473.0, 11421.0,\n",
       "       10456.0, 10009.0, 10469.0, 10307.0, 10302.0, 11225.0, 10303.0,\n",
       "       10282.0, 11214.0, 11432.0, 11367.0, 10034.0, 10010.0, 11419.0,\n",
       "       10451.0, 10459.0, 11228.0, 11423.0, 10452.0, 11370.0, 11363.0,\n",
       "       10461.0, 10001.0, 10013.0, 11692.0, 10470.0, 11378.0, 10471.0,\n",
       "       10304.0, 11104.0, 11694.0, 11232.0, 11411.0, 11357.0, 11362.0,\n",
       "       11697.0, 11372.0, 11427.0, 10474.0, 10004.0, 10065.0, 11374.0,\n",
       "       10040.0, 11004.0, 11426.0, 11001.0, 10475.0, 10075.0, 11109.0,\n",
       "       11430.0, 10069.0, 11747.0, 11239.0, 7006.0, 11251.0, 30084.0,\n",
       "       10112.0, 10020.0, 10044.0, 11005.0, 7114.0, 10280.0, 10118.0,\n",
       "       60077.0, 10000.0, 0.0, 7310.0, 31131.0, 10281.0, 83.0, 11241.0,\n",
       "       11753.0, 6902.0, 10528.0, 7666.0, 98057.0, 7305.0, 11959.0, 10803.0,\n",
       "       7047.0, 11791.0, 11729.0, 10129.0, 11710.0, 11581.0, '07758',\n",
       "       '10044', '10129', '98057', 'UNKNOWN', '10000', '10096', '11040',\n",
       "       '10107', '07607', '11695', '07011', '23285', '10112', '07666',\n",
       "       '32231', '33024', '32255-1268', '11570', '10103', '07087', '11963',\n",
       "       '11580', 33021.0, 10552.0, 10271.0, 10523.0, '11021', '75266-9023',\n",
       "       '11697', '11251', '000000', '11794', '07302', '10278', '10951',\n",
       "       '07093', '10701', '14009', 10550.0, 11516.0, 19044.0, 10103.0,\n",
       "       10041.0, 10605.0, 11096.0, 7087.0, 11459.0, 12222.0, 11003.0,\n",
       "       10107.0, 10119.0, 11520.0, 11576.0, 60062.0, 7086.0, 11566.0,\n",
       "       14901.0, 45040.0, '10153', '40290-1094', '89120-6224', '11704',\n",
       "       '11596', '11753', '14221', '07024', '07030-5773', '11050'], dtype=object)"
      ]
     },
     "execution_count": 49,
     "metadata": {},
     "output_type": "execute_result"
    }
   ],
   "source": [
    "requests['Incident Zip'].unique()"
   ]
  },
  {
   "cell_type": "markdown",
   "metadata": {},
   "source": [
    "### Fixing the missing values and string/float confusion"
   ]
  },
  {
   "cell_type": "markdown",
   "metadata": {},
   "source": [
    "We can pass a `na_values` option to `pd.read_csv` to clean this up a little bit. We can also specify that the type of Incident Zip is a string, not a float."
   ]
  },
  {
   "cell_type": "code",
   "execution_count": 1,
   "metadata": {
    "collapsed": false
   },
   "outputs": [
    {
     "name": "stderr",
     "output_type": "stream",
     "text": [
      "/Users/Stefan/.virtualenvs/ga_ds/lib/python2.7/site-packages/IPython/core/interactiveshell.py:2717: DtypeWarning: Columns (17,40,47,48) have mixed types. Specify dtype option on import or set low_memory=False.\n",
      "  interactivity=interactivity, compiler=compiler, result=result)\n"
     ]
    }
   ],
   "source": [
    "na_values = ['UNKNOWN', np.nan, '0']\n",
    "requests = pd.read_csv('../data/service-requests.zip', compression='zip', \n",
    "                       na_values=na_values, dtype={'Incident Zip': str})"
   ]
  },
  {
   "cell_type": "code",
   "execution_count": 2,
   "metadata": {
    "collapsed": false
   },
   "outputs": [
    {
     "data": {
      "text/plain": [
       "26547          00000\n",
       "121000        000000\n",
       "6780           00083\n",
       "31795          06902\n",
       "19192          07006\n",
       "80458          07011\n",
       "200859         07024\n",
       "203102    07030-5773\n",
       "39457          07047\n",
       "12693          07054\n",
       "8609           07073\n",
       "170733         07086\n",
       "92967          07087\n",
       "125195         07093\n",
       "1332           07114\n",
       "122154         07302\n",
       "35126          07305\n",
       "26677          07310\n",
       "76332          07607\n",
       "34112          07666\n",
       "67483          07758\n",
       "518            08837\n",
       "25216          10000\n",
       "25             10001\n",
       "219            10002\n",
       "             ...    \n",
       "38040          11959\n",
       "95010          11963\n",
       "156247         12222\n",
       "127685         14009\n",
       "196510         14221\n",
       "172724         14901\n",
       "1432      18773-9460\n",
       "131571         19044\n",
       "80576          23285\n",
       "15420          23833\n",
       "19816          30084\n",
       "27705          31131\n",
       "85190          32231\n",
       "86752     32255-1268\n",
       "100346         33021\n",
       "85388          33024\n",
       "13639          34653\n",
       "182093    40290-1094\n",
       "172737         45040\n",
       "169855         60062\n",
       "24813          60077\n",
       "116258    75266-9023\n",
       "185198    89120-6224\n",
       "35073          98057\n",
       "0                NaN\n",
       "Name: Incident Zip, dtype: object"
      ]
     },
     "execution_count": 2,
     "metadata": {},
     "output_type": "execute_result"
    }
   ],
   "source": [
    "requests['Incident Zip'].drop_duplicates().sort_values()"
   ]
  },
  {
   "cell_type": "markdown",
   "metadata": {},
   "source": [
    "### What's up with the dashes?"
   ]
  },
  {
   "cell_type": "markdown",
   "metadata": {},
   "source": [
    "Let's look at all the zip codes with more than 5 digits, make sure they're okay, and then truncate them."
   ]
  },
  {
   "cell_type": "code",
   "execution_count": 75,
   "metadata": {
    "collapsed": false
   },
   "outputs": [
    {
     "data": {
      "text/plain": [
       "1432      18773-9460\n",
       "86752     32255-1268\n",
       "116258    75266-9023\n",
       "182093    40290-1094\n",
       "185198    89120-6224\n",
       "203102    07030-5773\n",
       "Name: Incident Zip, dtype: object"
      ]
     },
     "execution_count": 75,
     "metadata": {},
     "output_type": "execute_result"
    }
   ],
   "source": [
    "requests.loc[requests['Incident Zip'].str.contains('-').fillna(False), 'Incident Zip']"
   ]
  },
  {
   "cell_type": "markdown",
   "metadata": {},
   "source": [
    "Let's get rid of the part after the hyphen."
   ]
  },
  {
   "cell_type": "code",
   "execution_count": 76,
   "metadata": {
    "collapsed": false
   },
   "outputs": [],
   "source": [
    "requests['Incident Zip'] = requests['Incident Zip'].str.split('-').str.get(0)"
   ]
  },
  {
   "cell_type": "code",
   "execution_count": 77,
   "metadata": {
    "collapsed": false
   },
   "outputs": [
    {
     "data": {
      "text/plain": [
       "Series([], Name: Incident Zip, dtype: object)"
      ]
     },
     "execution_count": 77,
     "metadata": {},
     "output_type": "execute_result"
    }
   ],
   "source": [
    "requests.loc[requests['Incident Zip'].str.contains('-').fillna(False), 'Incident Zip']"
   ]
  },
  {
   "cell_type": "code",
   "execution_count": 80,
   "metadata": {
    "collapsed": false
   },
   "outputs": [
    {
     "data": {
      "text/plain": [
       "5.0    193818\n",
       "6.0         1\n",
       "Name: Incident Zip, dtype: int64"
      ]
     },
     "execution_count": 80,
     "metadata": {},
     "output_type": "execute_result"
    }
   ],
   "source": [
    "requests['Incident Zip'].str.len().value_counts()"
   ]
  },
  {
   "cell_type": "code",
   "execution_count": 46,
   "metadata": {
    "collapsed": false
   },
   "outputs": [
    {
     "data": {
      "text/html": [
       "<div style=\"max-height:1000px;max-width:1500px;overflow:auto;\">\n",
       "<table border=\"1\" class=\"dataframe\">\n",
       "  <thead>\n",
       "    <tr style=\"text-align: right;\">\n",
       "      <th></th>\n",
       "      <th>Unique Key</th>\n",
       "      <th>Created Date</th>\n",
       "      <th>Closed Date</th>\n",
       "      <th>Agency</th>\n",
       "      <th>Agency Name</th>\n",
       "      <th>Complaint Type</th>\n",
       "      <th>Descriptor</th>\n",
       "      <th>Location Type</th>\n",
       "      <th>Incident Zip</th>\n",
       "      <th>Incident Address</th>\n",
       "      <th>Street Name</th>\n",
       "      <th>Cross Street 1</th>\n",
       "      <th>Cross Street 2</th>\n",
       "      <th>Intersection Street 1</th>\n",
       "      <th>Intersection Street 2</th>\n",
       "      <th>Address Type</th>\n",
       "      <th>City</th>\n",
       "      <th>Landmark</th>\n",
       "      <th>Facility Type</th>\n",
       "      <th>Status</th>\n",
       "      <th>Due Date</th>\n",
       "      <th>Resolution Action Updated Date</th>\n",
       "      <th>Community Board</th>\n",
       "      <th>Borough</th>\n",
       "      <th>X Coordinate (State Plane)</th>\n",
       "      <th>Y Coordinate (State Plane)</th>\n",
       "      <th>Park Facility Name</th>\n",
       "      <th>Park Borough</th>\n",
       "      <th>School Name</th>\n",
       "      <th>School Number</th>\n",
       "      <th>School Region</th>\n",
       "      <th>School Code</th>\n",
       "      <th>School Phone Number</th>\n",
       "      <th>School Address</th>\n",
       "      <th>School City</th>\n",
       "      <th>School State</th>\n",
       "      <th>School Zip</th>\n",
       "      <th>School Not Found</th>\n",
       "      <th>School or Citywide Complaint</th>\n",
       "      <th>Vehicle Type</th>\n",
       "      <th>Taxi Company Borough</th>\n",
       "      <th>Taxi Pick Up Location</th>\n",
       "      <th>Bridge Highway Name</th>\n",
       "      <th>Bridge Highway Direction</th>\n",
       "      <th>Road Ramp</th>\n",
       "      <th>Bridge Highway Segment</th>\n",
       "      <th>Garage Lot Name</th>\n",
       "      <th>Ferry Direction</th>\n",
       "      <th>Ferry Terminal Name</th>\n",
       "      <th>Latitude</th>\n",
       "      <th>Longitude</th>\n",
       "      <th>Location</th>\n",
       "    </tr>\n",
       "  </thead>\n",
       "  <tbody>\n",
       "    <tr>\n",
       "      <th>42600</th>\n",
       "      <td> 26529313</td>\n",
       "      <td> 10/22/2013 02:51:06 PM</td>\n",
       "      <td> NaN</td>\n",
       "      <td> TLC</td>\n",
       "      <td> Taxi and Limousine Commission</td>\n",
       "      <td> Taxi Complaint</td>\n",
       "      <td> Driver Complaint</td>\n",
       "      <td>    NaN</td>\n",
       "      <td> 00000</td>\n",
       "      <td>          EWR EWR</td>\n",
       "      <td>            EWR</td>\n",
       "      <td> NaN</td>\n",
       "      <td> NaN</td>\n",
       "      <td> NaN</td>\n",
       "      <td> NaN</td>\n",
       "      <td> NaN</td>\n",
       "      <td> NEWARK</td>\n",
       "      <td> NaN</td>\n",
       "      <td> NaN</td>\n",
       "      <td> Assigned</td>\n",
       "      <td> 12/07/2013 09:53:51 AM</td>\n",
       "      <td> 10/23/2013 09:54:43 AM</td>\n",
       "      <td> 0 Unspecified</td>\n",
       "      <td> Unspecified</td>\n",
       "      <td>NaN</td>\n",
       "      <td>NaN</td>\n",
       "      <td> Unspecified</td>\n",
       "      <td> Unspecified</td>\n",
       "      <td> Unspecified</td>\n",
       "      <td> Unspecified</td>\n",
       "      <td> Unspecified</td>\n",
       "      <td> Unspecified</td>\n",
       "      <td> Unspecified</td>\n",
       "      <td> Unspecified</td>\n",
       "      <td> Unspecified</td>\n",
       "      <td> Unspecified</td>\n",
       "      <td> Unspecified</td>\n",
       "      <td> N</td>\n",
       "      <td>NaN</td>\n",
       "      <td> NaN</td>\n",
       "      <td> NaN</td>\n",
       "      <td> Other</td>\n",
       "      <td> NaN</td>\n",
       "      <td> NaN</td>\n",
       "      <td> NaN</td>\n",
       "      <td> NaN</td>\n",
       "      <td> NaN</td>\n",
       "      <td> NaN</td>\n",
       "      <td> NaN</td>\n",
       "      <td>NaN</td>\n",
       "      <td>NaN</td>\n",
       "      <td> NaN</td>\n",
       "    </tr>\n",
       "    <tr>\n",
       "      <th>60843</th>\n",
       "      <td> 26507389</td>\n",
       "      <td> 10/17/2013 05:48:44 PM</td>\n",
       "      <td> NaN</td>\n",
       "      <td> TLC</td>\n",
       "      <td> Taxi and Limousine Commission</td>\n",
       "      <td> Taxi Complaint</td>\n",
       "      <td> Driver Complaint</td>\n",
       "      <td> Street</td>\n",
       "      <td> 00000</td>\n",
       "      <td> 1 NEWARK AIRPORT</td>\n",
       "      <td> NEWARK AIRPORT</td>\n",
       "      <td> NaN</td>\n",
       "      <td> NaN</td>\n",
       "      <td> NaN</td>\n",
       "      <td> NaN</td>\n",
       "      <td> NaN</td>\n",
       "      <td> NEWARK</td>\n",
       "      <td> NaN</td>\n",
       "      <td> NaN</td>\n",
       "      <td> Assigned</td>\n",
       "      <td> 12/02/2013 11:59:46 AM</td>\n",
       "      <td> 10/18/2013 12:01:08 PM</td>\n",
       "      <td> 0 Unspecified</td>\n",
       "      <td> Unspecified</td>\n",
       "      <td>NaN</td>\n",
       "      <td>NaN</td>\n",
       "      <td> Unspecified</td>\n",
       "      <td> Unspecified</td>\n",
       "      <td> Unspecified</td>\n",
       "      <td> Unspecified</td>\n",
       "      <td> Unspecified</td>\n",
       "      <td> Unspecified</td>\n",
       "      <td> Unspecified</td>\n",
       "      <td> Unspecified</td>\n",
       "      <td> Unspecified</td>\n",
       "      <td> Unspecified</td>\n",
       "      <td> Unspecified</td>\n",
       "      <td> N</td>\n",
       "      <td>NaN</td>\n",
       "      <td> NaN</td>\n",
       "      <td> NaN</td>\n",
       "      <td> Other</td>\n",
       "      <td> NaN</td>\n",
       "      <td> NaN</td>\n",
       "      <td> NaN</td>\n",
       "      <td> NaN</td>\n",
       "      <td> NaN</td>\n",
       "      <td> NaN</td>\n",
       "      <td> NaN</td>\n",
       "      <td>NaN</td>\n",
       "      <td>NaN</td>\n",
       "      <td> NaN</td>\n",
       "    </tr>\n",
       "  </tbody>\n",
       "</table>\n",
       "</div>"
      ],
      "text/plain": [
       "       Unique Key            Created Date Closed Date Agency                    Agency Name  Complaint Type        Descriptor Location Type Incident Zip  Incident Address     Street Name Cross Street 1 Cross Street 2 Intersection Street 1 Intersection Street 2 Address Type    City Landmark Facility Type    Status                Due Date Resolution Action Updated Date Community Board      Borough  X Coordinate (State Plane)  Y Coordinate (State Plane) Park Facility Name Park Borough  School Name School Number School Region  School Code School Phone Number School Address  School City School State   School Zip School Not Found  School or Citywide Complaint Vehicle Type Taxi Company Borough Taxi Pick Up Location Bridge Highway Name Bridge Highway Direction Road Ramp Bridge Highway Segment Garage Lot Name Ferry Direction Ferry Terminal Name  Latitude  Longitude Location\n",
       "42600    26529313  10/22/2013 02:51:06 PM         NaN    TLC  Taxi and Limousine Commission  Taxi Complaint  Driver Complaint           NaN        00000           EWR EWR             EWR            NaN            NaN                   NaN                   NaN          NaN  NEWARK      NaN           NaN  Assigned  12/07/2013 09:53:51 AM         10/23/2013 09:54:43 AM   0 Unspecified  Unspecified                         NaN                         NaN        Unspecified  Unspecified  Unspecified   Unspecified   Unspecified  Unspecified         Unspecified    Unspecified  Unspecified  Unspecified  Unspecified                N                           NaN          NaN                  NaN                 Other                 NaN                      NaN       NaN                    NaN             NaN             NaN                 NaN       NaN        NaN      NaN\n",
       "60843    26507389  10/17/2013 05:48:44 PM         NaN    TLC  Taxi and Limousine Commission  Taxi Complaint  Driver Complaint        Street        00000  1 NEWARK AIRPORT  NEWARK AIRPORT            NaN            NaN                   NaN                   NaN          NaN  NEWARK      NaN           NaN  Assigned  12/02/2013 11:59:46 AM         10/18/2013 12:01:08 PM   0 Unspecified  Unspecified                         NaN                         NaN        Unspecified  Unspecified  Unspecified   Unspecified   Unspecified  Unspecified         Unspecified    Unspecified  Unspecified  Unspecified  Unspecified                N                           NaN          NaN                  NaN                 Other                 NaN                      NaN       NaN                    NaN             NaN             NaN                 NaN       NaN        NaN      NaN"
      ]
     },
     "execution_count": 46,
     "metadata": {},
     "output_type": "execute_result"
    }
   ],
   "source": [
    "requests[requests['Incident Zip'] == '00000']"
   ]
  },
  {
   "cell_type": "markdown",
   "metadata": {},
   "source": [
    "This looks bad to me. Let's set these to nan."
   ]
  },
  {
   "cell_type": "code",
   "execution_count": 47,
   "metadata": {
    "collapsed": false
   },
   "outputs": [],
   "source": [
    "zero_zips = requests['Incident Zip'] == '00000'\n",
    "requests.loc[zero_zips, 'Incident Zip'] = np.nan"
   ]
  },
  {
   "cell_type": "code",
   "execution_count": 78,
   "metadata": {
    "collapsed": false
   },
   "outputs": [
    {
     "data": {
      "text/plain": [
       "array([nan, '00000', '000000', '00083', '06902', '07006', '07011', '07024',\n",
       "       '07030', '07047', '07054', '07073', '07086', '07087', '07093',\n",
       "       '07114', '07302', '07305', '07310', '07607', '07666', '07758',\n",
       "       '08837', '10000', '10001', '10002', '10003', '10004', '10005',\n",
       "       '10006', '10007', '10009', '10010', '10011', '10012', '10013',\n",
       "       '10014', '10016', '10017', '10018', '10019', '10020', '10021',\n",
       "       '10022', '10023', '10024', '10025', '10026', '10027', '10028',\n",
       "       '10029', '10030', '10031', '10032', '10033', '10034', '10035',\n",
       "       '10036', '10037', '10038', '10039', '10040', '10041', '10044',\n",
       "       '10065', '10069', '10075', '10096', '10103', '10107', '10112',\n",
       "       '10118', '10119', '10128', '10129', '10153', '10271', '10278',\n",
       "       '10280', '10281', '10282', '10301', '10302', '10303', '10304',\n",
       "       '10305', '10306', '10307', '10308', '10309', '10310', '10312',\n",
       "       '10314', '10451', '10452', '10453', '10454', '10455', '10456',\n",
       "       '10457', '10458', '10459', '10460', '10461', '10462', '10463',\n",
       "       '10464', '10465', '10466', '10467', '10468', '10469', '10470',\n",
       "       '10471', '10472', '10473', '10474', '10475', '10523', '10528',\n",
       "       '10550', '10552', '10605', '10701', '10803', '10951', '11001',\n",
       "       '11003', '11004', '11005', '11021', '11040', '11050', '11096',\n",
       "       '11101', '11102', '11103', '11104', '11105', '11106', '11109',\n",
       "       '11201', '11203', '11204', '11205', '11206', '11207', '11208',\n",
       "       '11209', '11210', '11211', '11212', '11213', '11214', '11215',\n",
       "       '11216', '11217', '11218', '11219', '11220', '11221', '11222',\n",
       "       '11223', '11224', '11225', '11226', '11228', '11229', '11230',\n",
       "       '11231', '11232', '11233', '11234', '11235', '11236', '11237',\n",
       "       '11238', '11239', '11241', '11249', '11251', '11354', '11355',\n",
       "       '11356', '11357', '11358', '11360', '11361', '11362', '11363',\n",
       "       '11364', '11365', '11366', '11367', '11368', '11369', '11370',\n",
       "       '11372', '11373', '11374', '11375', '11377', '11378', '11379',\n",
       "       '11385', '11411', '11412', '11413', '11414', '11415', '11416',\n",
       "       '11417', '11418', '11419', '11420', '11421', '11422', '11423',\n",
       "       '11426', '11427', '11428', '11429', '11430', '11432', '11433',\n",
       "       '11434', '11435', '11436', '11459', '11516', '11520', '11566',\n",
       "       '11570', '11576', '11580', '11581', '11590', '11596', '11691',\n",
       "       '11692', '11693', '11694', '11695', '11697', '11704', '11710',\n",
       "       '11729', '11747', '11753', '11791', '11793', '11794', '11959',\n",
       "       '11963', '12222', '14009', '14221', '14901', '18773', '19044',\n",
       "       '23285', '23833', '30084', '31131', '32231', '32255', '33021',\n",
       "       '33024', '34653', '40290', '45040', '60062', '60077', '75266',\n",
       "       '89120', '98057'], dtype=object)"
      ]
     },
     "execution_count": 78,
     "metadata": {},
     "output_type": "execute_result"
    }
   ],
   "source": [
    "unique_zips = requests['Incident Zip'].unique()\n",
    "unique_zips.sort()\n",
    "unique_zips"
   ]
  },
  {
   "cell_type": "markdown",
   "metadata": {},
   "source": [
    "Amazing! This is much cleaner. There's something a bit weird here, though -- I looked up 77056 on Google maps, and that's in Texas.\n",
    "\n",
    "Let's take a closer look:"
   ]
  },
  {
   "cell_type": "code",
   "execution_count": 5,
   "metadata": {
    "collapsed": false
   },
   "outputs": [],
   "source": [
    "zips = requests['Incident Zip']\n",
    "# Let's say the zips starting with '0' and '1' are okay, for now. (this isn't actually true -- 13221 is in Syracuse, and why?)\n",
    "is_close = zips.str.startswith('0') | zips.str.startswith('1')\n",
    "# There are a bunch of NaNs, but we're not interested in them right now, so we'll say they're False\n",
    "is_far = ~(is_close) & zips.notnull()"
   ]
  },
  {
   "cell_type": "code",
   "execution_count": 50,
   "metadata": {
    "collapsed": false
   },
   "outputs": [
    {
     "data": {
      "text/plain": [
       "12102    77056\n",
       "13450    70711\n",
       "29136    77092\n",
       "30939    55164\n",
       "44008    90010\n",
       "47048    23541\n",
       "57636    92123\n",
       "71001    92123\n",
       "71834    23502\n",
       "80573    61702\n",
       "85821    29616\n",
       "89304    35209\n",
       "94201    41042\n",
       "Name: Incident Zip, dtype: object"
      ]
     },
     "execution_count": 50,
     "metadata": {},
     "output_type": "execute_result"
    }
   ],
   "source": [
    "zips[is_far]"
   ]
  },
  {
   "cell_type": "code",
   "execution_count": 51,
   "metadata": {
    "collapsed": false
   },
   "outputs": [
    {
     "data": {
      "text/html": [
       "<div style=\"max-height:1000px;max-width:1500px;overflow:auto;\">\n",
       "<table border=\"1\" class=\"dataframe\">\n",
       "  <thead>\n",
       "    <tr style=\"text-align: right;\">\n",
       "      <th></th>\n",
       "      <th>Incident Zip</th>\n",
       "      <th>Descriptor</th>\n",
       "      <th>City</th>\n",
       "    </tr>\n",
       "  </thead>\n",
       "  <tbody>\n",
       "    <tr>\n",
       "      <th>71834</th>\n",
       "      <td> 23502</td>\n",
       "      <td>        Harassment</td>\n",
       "      <td>     NORFOLK</td>\n",
       "    </tr>\n",
       "    <tr>\n",
       "      <th>47048</th>\n",
       "      <td> 23541</td>\n",
       "      <td>        Harassment</td>\n",
       "      <td>     NORFOLK</td>\n",
       "    </tr>\n",
       "    <tr>\n",
       "      <th>85821</th>\n",
       "      <td> 29616</td>\n",
       "      <td>     Debt Not Owed</td>\n",
       "      <td>  GREENVILLE</td>\n",
       "    </tr>\n",
       "    <tr>\n",
       "      <th>89304</th>\n",
       "      <td> 35209</td>\n",
       "      <td>        Harassment</td>\n",
       "      <td>  BIRMINGHAM</td>\n",
       "    </tr>\n",
       "    <tr>\n",
       "      <th>94201</th>\n",
       "      <td> 41042</td>\n",
       "      <td>        Harassment</td>\n",
       "      <td>    FLORENCE</td>\n",
       "    </tr>\n",
       "    <tr>\n",
       "      <th>30939</th>\n",
       "      <td> 55164</td>\n",
       "      <td>        Harassment</td>\n",
       "      <td>    ST. PAUL</td>\n",
       "    </tr>\n",
       "    <tr>\n",
       "      <th>80573</th>\n",
       "      <td> 61702</td>\n",
       "      <td>   Billing Dispute</td>\n",
       "      <td>  BLOOMIGTON</td>\n",
       "    </tr>\n",
       "    <tr>\n",
       "      <th>13450</th>\n",
       "      <td> 70711</td>\n",
       "      <td>  Contract Dispute</td>\n",
       "      <td>     CLIFTON</td>\n",
       "    </tr>\n",
       "    <tr>\n",
       "      <th>12102</th>\n",
       "      <td> 77056</td>\n",
       "      <td>     Debt Not Owed</td>\n",
       "      <td>     HOUSTON</td>\n",
       "    </tr>\n",
       "    <tr>\n",
       "      <th>29136</th>\n",
       "      <td> 77092</td>\n",
       "      <td> False Advertising</td>\n",
       "      <td>     HOUSTON</td>\n",
       "    </tr>\n",
       "    <tr>\n",
       "      <th>44008</th>\n",
       "      <td> 90010</td>\n",
       "      <td>   Billing Dispute</td>\n",
       "      <td> LOS ANGELES</td>\n",
       "    </tr>\n",
       "    <tr>\n",
       "      <th>57636</th>\n",
       "      <td> 92123</td>\n",
       "      <td>        Harassment</td>\n",
       "      <td>   SAN DIEGO</td>\n",
       "    </tr>\n",
       "    <tr>\n",
       "      <th>71001</th>\n",
       "      <td> 92123</td>\n",
       "      <td>   Billing Dispute</td>\n",
       "      <td>   SAN DIEGO</td>\n",
       "    </tr>\n",
       "  </tbody>\n",
       "</table>\n",
       "</div>"
      ],
      "text/plain": [
       "      Incident Zip         Descriptor         City\n",
       "71834        23502         Harassment      NORFOLK\n",
       "47048        23541         Harassment      NORFOLK\n",
       "85821        29616      Debt Not Owed   GREENVILLE\n",
       "89304        35209         Harassment   BIRMINGHAM\n",
       "94201        41042         Harassment     FLORENCE\n",
       "30939        55164         Harassment     ST. PAUL\n",
       "80573        61702    Billing Dispute   BLOOMIGTON\n",
       "13450        70711   Contract Dispute      CLIFTON\n",
       "12102        77056      Debt Not Owed      HOUSTON\n",
       "29136        77092  False Advertising      HOUSTON\n",
       "44008        90010    Billing Dispute  LOS ANGELES\n",
       "57636        92123         Harassment    SAN DIEGO\n",
       "71001        92123    Billing Dispute    SAN DIEGO"
      ]
     },
     "execution_count": 51,
     "metadata": {},
     "output_type": "execute_result"
    }
   ],
   "source": [
    "requests[is_far][['Incident Zip', 'Descriptor', 'City']].sort('Incident Zip')"
   ]
  },
  {
   "cell_type": "markdown",
   "metadata": {},
   "source": [
    "Okay, there really are requests coming from LA and Houston! Good to know. Filtering by zip code is probably a bad way to handle this -- we should really be looking at the city instead."
   ]
  },
  {
   "cell_type": "code",
   "execution_count": 52,
   "metadata": {
    "collapsed": false
   },
   "outputs": [
    {
     "data": {
      "text/plain": [
       "BROOKLYN            31662\n",
       "NEW YORK            22664\n",
       "BRONX               18438\n",
       "STATEN ISLAND        4766\n",
       "JAMAICA              2246\n",
       "FLUSHING             1803\n",
       "ASTORIA              1568\n",
       "RIDGEWOOD            1073\n",
       "CORONA                707\n",
       "OZONE PARK            693\n",
       "LONG ISLAND CITY      678\n",
       "FAR ROCKAWAY          652\n",
       "ELMHURST              647\n",
       "WOODSIDE              609\n",
       "EAST ELMHURST         562\n",
       "...\n",
       "MELVILLE                  1\n",
       "PORT JEFFERSON STATION    1\n",
       "NORWELL                   1\n",
       "EAST ROCKAWAY             1\n",
       "BIRMINGHAM                1\n",
       "ROSLYN                    1\n",
       "LOS ANGELES               1\n",
       "MINEOLA                   1\n",
       "JERSEY CITY               1\n",
       "ST. PAUL                  1\n",
       "CLIFTON                   1\n",
       "COL.ANVURES               1\n",
       "EDGEWATER                 1\n",
       "ROSELYN                   1\n",
       "CENTRAL ISLIP             1\n",
       "Length: 100, dtype: int64"
      ]
     },
     "execution_count": 52,
     "metadata": {},
     "output_type": "execute_result"
    }
   ],
   "source": [
    "requests['City'].str.upper().value_counts()"
   ]
  },
  {
   "cell_type": "markdown",
   "metadata": {},
   "source": [
    "It looks like these are legitimate complaints, so we'll just leave them alone."
   ]
  },
  {
   "cell_type": "markdown",
   "metadata": {},
   "source": [
    "# 7.5 Putting it together"
   ]
  },
  {
   "cell_type": "markdown",
   "metadata": {},
   "source": [
    "Here's what we ended up doing to clean up our zip codes, all together:"
   ]
  },
  {
   "cell_type": "code",
   "execution_count": 53,
   "metadata": {
    "collapsed": false
   },
   "outputs": [],
   "source": [
    "na_values = ['NO CLUE', 'N/A', '0']\n",
    "requests = pd.read_csv('../data/311-service-requests.csv', \n",
    "                       na_values=na_values, \n",
    "                       dtype={'Incident Zip': str})"
   ]
  },
  {
   "cell_type": "code",
   "execution_count": 54,
   "metadata": {
    "collapsed": false
   },
   "outputs": [],
   "source": [
    "def fix_zip_codes(zips):\n",
    "    # Truncate everything to length 5 \n",
    "    zips = zips.str.slice(0, 5)\n",
    "    \n",
    "    # Set 00000 zip codes to nan\n",
    "    zero_zips = zips == '00000'\n",
    "    zips[zero_zips] = np.nan\n",
    "    \n",
    "    return zips"
   ]
  },
  {
   "cell_type": "code",
   "execution_count": 55,
   "metadata": {
    "collapsed": false
   },
   "outputs": [],
   "source": [
    "requests['Incident Zip'] = fix_zip_codes(requests['Incident Zip'])"
   ]
  },
  {
   "cell_type": "code",
   "execution_count": 56,
   "metadata": {
    "collapsed": false
   },
   "outputs": [
    {
     "data": {
      "text/plain": [
       "array(['11432', '11378', '10032', '10023', '10027', '11372', '11419',\n",
       "       '11417', '10011', '11225', '11218', '10003', '10029', '10466',\n",
       "       '11219', '10025', '10310', '11236', nan, '10033', '11216', '10016',\n",
       "       '10305', '10312', '10026', '10309', '10036', '11433', '11235',\n",
       "       '11213', '11379', '11101', '10014', '11231', '11234', '10457',\n",
       "       '10459', '10465', '11207', '10002', '10034', '11233', '10453',\n",
       "       '10456', '10469', '11374', '11221', '11421', '11215', '10007',\n",
       "       '10019', '11205', '11418', '11369', '11249', '10005', '10009',\n",
       "       '11211', '11412', '10458', '11229', '10065', '10030', '11222',\n",
       "       '10024', '10013', '11420', '11365', '10012', '11214', '11212',\n",
       "       '10022', '11232', '11040', '11226', '10281', '11102', '11208',\n",
       "       '10001', '10472', '11414', '11223', '10040', '11220', '11373',\n",
       "       '11203', '11691', '11356', '10017', '10452', '10280', '11217',\n",
       "       '10031', '11201', '11358', '10128', '11423', '10039', '10010',\n",
       "       '11209', '10021', '10037', '11413', '11375', '11238', '10473',\n",
       "       '11103', '11354', '11361', '11106', '11385', '10463', '10467',\n",
       "       '11204', '11237', '11377', '11364', '11434', '11435', '11210',\n",
       "       '11228', '11368', '11694', '10464', '11415', '10314', '10301',\n",
       "       '10018', '10038', '11105', '11230', '10468', '11104', '10471',\n",
       "       '11416', '10075', '11422', '11355', '10028', '10462', '10306',\n",
       "       '10461', '11224', '11429', '10035', '11366', '11362', '11206',\n",
       "       '10460', '10304', '11360', '11411', '10455', '10475', '10069',\n",
       "       '10303', '10308', '10302', '11357', '10470', '11367', '11370',\n",
       "       '10454', '10451', '11436', '11426', '10153', '11004', '11428',\n",
       "       '11427', '11001', '11363', '10004', '10474', '11430', '10000',\n",
       "       '10307', '11239', '10119', '10006', '10048', '11697', '11692',\n",
       "       '11693', '10573', '00083', '11559', '10020', '77056', '11776',\n",
       "       '70711', '10282', '11109', '10044', '02061', '77092', '14225',\n",
       "       '55164', '19711', '07306', '90010', '11747', '23541', '11788',\n",
       "       '07604', '10112', '11563', '11580', '07087', '11042', '07093',\n",
       "       '11501', '92123', '11575', '07109', '11797', '10803', '11716',\n",
       "       '11722', '11549', '10162', '23502', '11518', '07020', '08807',\n",
       "       '11577', '07114', '11003', '07201', '61702', '10103', '29616',\n",
       "       '35209', '11520', '11735', '10129', '11005', '41042', '11590',\n",
       "       '06901', '07208', '11530', '13221', '10954', '11111', '10107'], dtype=object)"
      ]
     },
     "execution_count": 56,
     "metadata": {},
     "output_type": "execute_result"
    }
   ],
   "source": [
    "requests['Incident Zip'].unique()"
   ]
  },
  {
   "cell_type": "markdown",
   "metadata": {},
   "source": [
    "<style>\n",
    "    @font-face {\n",
    "        font-family: \"Computer Modern\";\n",
    "        src: url('http://mirrors.ctan.org/fonts/cm-unicode/fonts/otf/cmunss.otf');\n",
    "    }\n",
    "    div.cell{\n",
    "        width:800px;\n",
    "        margin-left:16% !important;\n",
    "        margin-right:auto;\n",
    "    }\n",
    "    h1 {\n",
    "        font-family: Helvetica, serif;\n",
    "    }\n",
    "    h4{\n",
    "        margin-top:12px;\n",
    "        margin-bottom: 3px;\n",
    "       }\n",
    "    div.text_cell_render{\n",
    "        font-family: Computer Modern, \"Helvetica Neue\", Arial, Helvetica, Geneva, sans-serif;\n",
    "        line-height: 145%;\n",
    "        font-size: 130%;\n",
    "        width:800px;\n",
    "        margin-left:auto;\n",
    "        margin-right:auto;\n",
    "    }\n",
    "    .CodeMirror{\n",
    "            font-family: \"Source Code Pro\", source-code-pro,Consolas, monospace;\n",
    "    }\n",
    "    .text_cell_render h5 {\n",
    "        font-weight: 300;\n",
    "        font-size: 22pt;\n",
    "        color: #4057A1;\n",
    "        font-style: italic;\n",
    "        margin-bottom: .5em;\n",
    "        margin-top: 0.5em;\n",
    "        display: block;\n",
    "    }\n",
    "    \n",
    "    .warning{\n",
    "        color: rgb( 240, 20, 20 )\n",
    "        }  "
   ]
  }
 ],
 "metadata": {
  "kernelspec": {
   "display_name": "Python 2",
   "language": "python",
   "name": "python2"
  },
  "language_info": {
   "codemirror_mode": {
    "name": "ipython",
    "version": 2
   },
   "file_extension": ".py",
   "mimetype": "text/x-python",
   "name": "python",
   "nbconvert_exporter": "python",
   "pygments_lexer": "ipython2",
   "version": "2.7.11"
  }
 },
 "nbformat": 4,
 "nbformat_minor": 0
}
