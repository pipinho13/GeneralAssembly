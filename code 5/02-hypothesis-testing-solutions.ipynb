{
 "cells": [
  {
   "cell_type": "markdown",
   "metadata": {
    "slideshow": {
     "slide_type": "slide"
    }
   },
   "source": [
    "### Statistics Fundamentals, revisited"
   ]
  },
  {
   "cell_type": "code",
   "execution_count": 21,
   "metadata": {
    "ExecuteTime": {
     "end_time": "2017-01-31T19:23:41.373244",
     "start_time": "2017-01-31T19:23:41.366103"
    },
    "collapsed": false,
    "slideshow": {
     "slide_type": "fragment"
    }
   },
   "outputs": [],
   "source": [
    "import numpy as np\n",
    "import pandas as pd\n",
    "from scipy.stats import norm, skew, kurtosis, t\n",
    "from scipy.stats.mstats import normaltest\n",
    "from IPython.display import *\n",
    "import matplotlib.pyplot as plt\n",
    "plt.style.use('ggplot')\n",
    "%matplotlib inline"
   ]
  },
  {
   "cell_type": "markdown",
   "metadata": {
    "slideshow": {
     "slide_type": "slide"
    }
   },
   "source": [
    "#### The Normal Distribution\n",
    "$\\tilde{X}$: normally distributed, mean $\\mu_X$, standard deviation $\\sigma_X$:\n",
    "\n",
    "$$ X \\sim N(\\mu_x, \\sigma_x )$$\n",
    "\n",
    "has probability density function (pdf):\n",
    "\n",
    "$$ \\text{pdf}(x,\\mu,\\sigma) = \\frac{1}{\\sigma \\sqrt{2 \\pi}}\n",
    "e^{-\\frac{1}{2}\\left(\\frac{\\mu - x}{\\sigma}\\right)^2}$$"
   ]
  },
  {
   "cell_type": "markdown",
   "metadata": {
    "slideshow": {
     "slide_type": "slide"
    }
   },
   "source": [
    "#### Exponential & Logarithmic Functions"
   ]
  },
  {
   "cell_type": "code",
   "execution_count": 12,
   "metadata": {
    "ExecuteTime": {
     "end_time": "2017-01-31T19:17:57.370859",
     "start_time": "2017-01-31T19:17:57.173967"
    },
    "code_folding": [],
    "collapsed": false,
    "slideshow": {
     "slide_type": "fragment"
    }
   },
   "outputs": [
    {
     "name": "stderr",
     "output_type": "stream",
     "text": [
      "/Users/Stefan/.virtualenvs/ga_dat/lib/python2.7/site-packages/ipykernel/__main__.py:3: RuntimeWarning: invalid value encountered in log\n",
      "  app.launch_new_instance()\n"
     ]
    },
    {
     "data": {
      "image/png": "[encoded data removed]",
      "text/plain": [
       "<matplotlib.figure.Figure at 0x10ad4f290>"
      ]
     },
     "metadata": {},
     "output_type": "display_data"
    }
   ],
   "source": [
    "x = np.linspace(-5, 5, 1000) # 1K even-spaced numbers\n",
    "data = pd.DataFrame({'Exponential': np.exp(x), \n",
    "                     'Logarithmic': np.log(x), 'x': x}, index=x)\n",
    "data.plot(xlim=[-5, 5], ylim=[-5, 5], style={'x': 'k--'}, figsize=(4,4));"
   ]
  },
  {
   "cell_type": "markdown",
   "metadata": {
    "ExecuteTime": {
     "end_time": "2016-07-08T13:40:09.396132",
     "start_time": "2016-07-08T13:40:09.389417"
    },
    "code_folding": [
     2,
     3
    ],
    "collapsed": false,
    "slideshow": {
     "slide_type": "slide"
    }
   },
   "source": [
    "#### Standard Normal Distribution\n",
    "\n",
    "Using\n",
    "$$\\mu = 0, $$ and \n",
    "$$\\sigma = 1 $$\n",
    "the above simplifies to:\n",
    "$$ \\text{pdf}(x) = \\frac {e^{- \\frac {x^{2}}{2}}} {\\sqrt{2 \\pi}} $$\n"
   ]
  },
  {
   "cell_type": "markdown",
   "metadata": {
    "slideshow": {
     "slide_type": "slide"
    }
   },
   "source": [
    "#### Standardizing normal distributions\n",
    "We can standardize any variable that has a normal distribution so that it has a standard normal distribution by subtracting the mean and dividing by the standard deviation. In other words:\n",
    "\n",
    "$$ X \\sim N(\\mu_x, \\sigma_x ) \\iff \\frac{X - \\mu_x}{\\sigma_x} \\sim N(0, 1)$$"
   ]
  },
  {
   "cell_type": "code",
   "execution_count": 22,
   "metadata": {
    "ExecuteTime": {
     "end_time": "2017-01-31T19:23:45.878365",
     "start_time": "2017-01-31T19:23:45.874649"
    },
    "collapsed": true,
    "slideshow": {
     "slide_type": "notes"
    }
   },
   "outputs": [],
   "source": [
    "from ipywidgets import interact, interactive, fixed\n",
    "import ipywidgets as widgets\n",
    "x = np.linspace(-10, 10, 10000) "
   ]
  },
  {
   "cell_type": "code",
   "execution_count": 23,
   "metadata": {
    "ExecuteTime": {
     "end_time": "2017-01-31T19:23:47.633720",
     "start_time": "2017-01-31T19:23:47.234272"
    },
    "code_folding": [],
    "collapsed": false,
    "scrolled": true,
    "slideshow": {
     "slide_type": "slide"
    }
   },
   "outputs": [
    {
     "data": {
      "image/png": "[encoded data removed]",
      "text/plain": [
       "<matplotlib.figure.Figure at 0x10b91cbd0>"
      ]
     },
     "metadata": {},
     "output_type": "display_data"
    }
   ],
   "source": [
    "@interact(mu=(-10.0,10.0,0.5), sigma=(1.0, 5))\n",
    "def normal_pdf(mu=0, sigma=1):\n",
    "    y = norm.pdf(x, loc=mu, scale=sigma)\n",
    "    df = pd.Series(y, x, name='Normal Distribution')\n",
    "    df.plot(figsize=(10, 4), ylim=[0, np.max(norm.pdf(x))*1.05], legend=True)\n",
    "    plt.fill_between(x, df.values, alpha=0.3)\n",
    "    plt.fill_between(x[np.where(np.logical_and(x>=mu-2*sigma, x<=mu+2*sigma))], df[mu-2*sigma:mu+2*sigma].values, alpha=0.5)    \n",
    "    plt.fill_between(x[np.where(np.logical_and(x>=mu-sigma, x<=mu+sigma))], df[mu-sigma:mu+sigma].values, alpha=0.5)        "
   ]
  },
  {
   "cell_type": "markdown",
   "metadata": {
    "slideshow": {
     "slide_type": "slide"
    }
   },
   "source": [
    "#### The 68 - 95 - 99 rule revisited"
   ]
  },
  {
   "cell_type": "markdown",
   "metadata": {
    "slideshow": {
     "slide_type": "fragment"
    }
   },
   "source": [
    "#### Question: write a loop that prints the percentage of values within 1, 2 and 3 standard deviations from the mean."
   ]
  },
  {
   "cell_type": "code",
   "execution_count": 5,
   "metadata": {
    "ExecuteTime": {
     "end_time": "2017-01-31T18:12:58.419661",
     "start_time": "2017-01-31T18:12:58.412747"
    },
    "code_folding": [],
    "collapsed": false,
    "slideshow": {
     "slide_type": "fragment"
    }
   },
   "outputs": [
    {
     "name": "stdout",
     "output_type": "stream",
     "text": [
      "Percent of values within:\n",
      "- 1 standard deviations: 68.27%\n",
      "- 2 standard deviations: 95.45%\n",
      "- 3 standard deviations: 99.73%\n"
     ]
    }
   ],
   "source": [
    "print 'Percent of values within:'\n",
    "for diff in [1,2,3]:\n",
    "    print '- {0} standard deviations: {1:.2f}%'\\\n",
    "        .format(diff, (norm.cdf(diff) - norm.cdf(-diff)) * 100)"
   ]
  },
  {
   "cell_type": "markdown",
   "metadata": {
    "slideshow": {
     "slide_type": "fragment"
    }
   },
   "source": [
    "#### Question: How do these relate to confidence intervals?"
   ]
  },
  {
   "cell_type": "markdown",
   "metadata": {
    "slideshow": {
     "slide_type": "notes"
    }
   },
   "source": [
    "Answer: "
   ]
  },
  {
   "cell_type": "code",
   "execution_count": 24,
   "metadata": {
    "ExecuteTime": {
     "end_time": "2017-01-31T19:25:35.584881",
     "start_time": "2017-01-31T19:25:35.579032"
    },
    "collapsed": false,
    "slideshow": {
     "slide_type": "notes"
    }
   },
   "outputs": [],
   "source": [
    "## Setting up the base data independent of interactive feature\n",
    "x = np.linspace(-3, 3, 10000)\n",
    "data = pd.DataFrame({'pdf': norm.pdf(x), 'cdf': norm.cdf(x)}, index=x)"
   ]
  },
  {
   "cell_type": "code",
   "execution_count": 25,
   "metadata": {
    "ExecuteTime": {
     "end_time": "2017-01-31T19:25:36.714473",
     "start_time": "2017-01-31T19:25:36.314416"
    },
    "code_folding": [
     1
    ],
    "collapsed": false,
    "scrolled": false,
    "slideshow": {
     "slide_type": "slide"
    }
   },
   "outputs": [
    {
     "data": {
      "image/png": "[encoded data removed]",
      "text/plain": [
       "<matplotlib.figure.Figure at 0x10bfd2210>"
      ]
     },
     "metadata": {},
     "output_type": "display_data"
    }
   ],
   "source": [
    "@interact(value=(-3.0,3.0, 0.1))\n",
    "def normal_cdf(value):\n",
    "    ax = data.plot(figsize=(10, 4), ylim=[0, 1.05], title='Standard Normal Distribution');    \n",
    "    idx = np.abs(x-value).argmin()\n",
    "    plt.fill_between(x[0:idx], 0, norm.pdf(x[:idx]), alpha=0.5)\n",
    "    plt.axvline(value, 0, norm.cdf(x[idx])/1.05, ls='--', c='black')\n",
    "    plt.axhline(norm.cdf(value), xmin=0, xmax=(value + 3) / 6, ls='--', c='black')\n",
    "    ax.text(0.75, 0.85, '$p(x\\\\leq%.2f)=%.2f$'%(value, norm.cdf(value)), transform=ax.transAxes, fontsize=14, verticalalignment='top', bbox=dict(boxstyle='round', facecolor='darkgrey', alpha=0.5));"
   ]
  },
  {
   "cell_type": "markdown",
   "metadata": {
    "slideshow": {
     "slide_type": "slide"
    }
   },
   "source": [
    "#### Question: Using the slider, calculate $P( \\tilde{x} \\leq -1)$"
   ]
  },
  {
   "cell_type": "markdown",
   "metadata": {
    "slideshow": {
     "slide_type": "notes"
    }
   },
   "source": [
    "Answer:"
   ]
  },
  {
   "cell_type": "markdown",
   "metadata": {
    "slideshow": {
     "slide_type": "fragment"
    }
   },
   "source": [
    "#### Question: Calculate $P( \\tilde{x} \\geq -1)$"
   ]
  },
  {
   "cell_type": "markdown",
   "metadata": {
    "slideshow": {
     "slide_type": "notes"
    }
   },
   "source": [
    "Answer:"
   ]
  },
  {
   "cell_type": "markdown",
   "metadata": {
    "slideshow": {
     "slide_type": "fragment"
    }
   },
   "source": [
    "#### Question: Calculate $P( -1 \\leq \\tilde{x} \\leq 1)$:"
   ]
  },
  {
   "cell_type": "markdown",
   "metadata": {
    "slideshow": {
     "slide_type": "slide"
    }
   },
   "source": [
    "#### Statistical Functions"
   ]
  },
  {
   "cell_type": "markdown",
   "metadata": {
    "slideshow": {
     "slide_type": "fragment"
    }
   },
   "source": [
    "[scipy.stats](http://docs.scipy.org/doc/scipy/reference/stats.html) makes dozens of distributions and related functionality available. Let's look in more detail at one example, [scipy.stats.norm](http://docs.scipy.org/doc/scipy/reference/generated/scipy.stats.norm.html#scipy.stats.norm)."
   ]
  },
  {
   "cell_type": "markdown",
   "metadata": {
    "slideshow": {
     "slide_type": "fragment"
    }
   },
   "source": [
    "#### Calculate $\\mu$, $\\sigma$, skewness and kurtosis for  \n",
    "$$X \\sim N(\\mu_X=10, \\sigma_X=20)$$"
   ]
  },
  {
   "cell_type": "code",
   "execution_count": 11,
   "metadata": {
    "collapsed": false,
    "slideshow": {
     "slide_type": "fragment"
    }
   },
   "outputs": [
    {
     "data": {
      "text/plain": [
       "(array(10.0), array(400.0), array(0.0), array(0.0))"
      ]
     },
     "execution_count": 11,
     "metadata": {},
     "output_type": "execute_result"
    }
   ],
   "source": [
    "norm.stats(10,20, 'mvsk')"
   ]
  },
  {
   "cell_type": "markdown",
   "metadata": {
    "slideshow": {
     "slide_type": "slide"
    }
   },
   "source": [
    "#### Which method returns the probability that values are below the given value? "
   ]
  },
  {
   "cell_type": "markdown",
   "metadata": {
    "slideshow": {
     "slide_type": "notes"
    }
   },
   "source": [
    "Answer:"
   ]
  },
  {
   "cell_type": "code",
   "execution_count": 14,
   "metadata": {
    "collapsed": false
   },
   "outputs": [
    {
     "data": {
      "text/plain": [
       "0.15865525393145707"
      ]
     },
     "execution_count": 14,
     "metadata": {},
     "output_type": "execute_result"
    }
   ],
   "source": [
    "norm.cdf(x=-1)"
   ]
  },
  {
   "cell_type": "markdown",
   "metadata": {
    "slideshow": {
     "slide_type": "fragment"
    }
   },
   "source": [
    "#### Which method returns the probability that values are above the given value? "
   ]
  },
  {
   "cell_type": "code",
   "execution_count": 16,
   "metadata": {
    "collapsed": false
   },
   "outputs": [
    {
     "data": {
      "text/plain": [
       "0.84134474606854293"
      ]
     },
     "execution_count": 16,
     "metadata": {},
     "output_type": "execute_result"
    }
   ],
   "source": [
    "norm.sf(x=-1)"
   ]
  },
  {
   "cell_type": "markdown",
   "metadata": {
    "slideshow": {
     "slide_type": "notes"
    }
   },
   "source": [
    "Answer:"
   ]
  },
  {
   "cell_type": "markdown",
   "metadata": {
    "slideshow": {
     "slide_type": "fragment"
    }
   },
   "source": [
    "#### Redo the calculations that used the slider."
   ]
  },
  {
   "cell_type": "markdown",
   "metadata": {
    "slideshow": {
     "slide_type": "slide"
    }
   },
   "source": [
    "#### Which method returns the percentile, i.e. the value for which  values are below with the given probability?"
   ]
  },
  {
   "cell_type": "markdown",
   "metadata": {
    "slideshow": {
     "slide_type": "fragment"
    }
   },
   "source": [
    "#### Question: Calculate $X$ for $P(\\tilde{x} \\leq X) = 0.25$."
   ]
  },
  {
   "cell_type": "code",
   "execution_count": 18,
   "metadata": {
    "collapsed": false,
    "slideshow": {
     "slide_type": "slide"
    }
   },
   "outputs": [
    {
     "data": {
      "text/plain": [
       "-0.80642124701824036"
      ]
     },
     "execution_count": 18,
     "metadata": {},
     "output_type": "execute_result"
    }
   ],
   "source": [
    "norm.ppf(0.21)"
   ]
  },
  {
   "cell_type": "markdown",
   "metadata": {
    "slideshow": {
     "slide_type": "slide"
    }
   },
   "source": [
    "#### Let's plot two different distributions"
   ]
  },
  {
   "cell_type": "markdown",
   "metadata": {
    "slideshow": {
     "slide_type": "fragment"
    }
   },
   "source": [
    "#### Question: plot the lognormal distribution (take a look at the docs)"
   ]
  },
  {
   "cell_type": "markdown",
   "metadata": {
    "slideshow": {
     "slide_type": "fragment"
    }
   },
   "source": [
    "#### Question: plot the logistic distribution"
   ]
  },
  {
   "cell_type": "code",
   "execution_count": 8,
   "metadata": {
    "ExecuteTime": {
     "end_time": "2017-01-31T18:16:50.942625",
     "start_time": "2017-01-31T18:16:50.770170"
    },
    "collapsed": false,
    "slideshow": {
     "slide_type": "slide"
    }
   },
   "outputs": [
    {
     "data": {
      "image/png": "[encoded data removed]",
      "text/plain": [
       "<matplotlib.figure.Figure at 0x10bc55710>"
      ]
     },
     "metadata": {},
     "output_type": "display_data"
    }
   ],
   "source": [
    "from scipy.stats import lognorm\n",
    "x = np.arange(0, 10, 0.01)\n",
    "pdf = lognorm.pdf(x, s=1)\n",
    "pd.Series(pdf, index=x).plot();"
   ]
  },
  {
   "cell_type": "markdown",
   "metadata": {
    "slideshow": {
     "slide_type": "slide"
    }
   },
   "source": [
    "#### Critical values for hypothesis tests"
   ]
  },
  {
   "cell_type": "markdown",
   "metadata": {
    "slideshow": {
     "slide_type": "fragment"
    }
   },
   "source": [
    "So far, we looked at the probability that values lie between upper and lower bounds defined by standard deviations from the mean.\n",
    "\n",
    "We can also identify values that correspond to certain cumulative probabilities. These will be useful for hypothesis testing."
   ]
  },
  {
   "cell_type": "markdown",
   "metadata": {
    "slideshow": {
     "slide_type": "slide"
    }
   },
   "source": [
    "#### Question: write a function that print the values for which 1%, 5%, and 10% for values are smaller / larger. Do the same for 'two-tailed' tests."
   ]
  },
  {
   "cell_type": "code",
   "execution_count": 26,
   "metadata": {
    "ExecuteTime": {
     "end_time": "2017-01-31T19:34:15.853719",
     "start_time": "2017-01-31T19:34:15.848592"
    },
    "collapsed": false,
    "slideshow": {
     "slide_type": "slide"
    }
   },
   "outputs": [],
   "source": [
    "def critical_values(alphas, type='one-tailed'):\n",
    "    \"\"\"Calculate the critical values corresponding to given thresholds\"\"\"\n",
    "    if type not in ['one-tailed', 'two-tailed']:\n",
    "        return 'type needs to be one-tailed or two-tailed'\n",
    "    for alpha in alphas:\n",
    "        x = alpha / 2 if type == 'two-tailed' else alpha\n",
    "        print '{0}%: [{1:.2f}, {2:.2f}]' \\\n",
    "        .format(int((1-alpha)*100), norm.ppf(x), norm.ppf(1-x))"
   ]
  },
  {
   "cell_type": "code",
   "execution_count": 27,
   "metadata": {
    "ExecuteTime": {
     "end_time": "2017-01-31T19:34:16.854680",
     "start_time": "2017-01-31T19:34:16.848107"
    },
    "collapsed": false,
    "slideshow": {
     "slide_type": "slide"
    }
   },
   "outputs": [
    {
     "name": "stdout",
     "output_type": "stream",
     "text": [
      "Two-sided tests - critical values:\n",
      "99%: [-2.58, 2.58]\n",
      "95%: [-1.96, 1.96]\n",
      "90%: [-1.64, 1.64]\n"
     ]
    }
   ],
   "source": [
    "print 'Two-sided tests - critical values:'\n",
    "critical_values([0.01, 0.05, 0.1], 'two-tailed')\n",
    "#     print '{0}%: [{1:.2f}, {2:.2f}]'.format(int((1-2*value)*100), norm.ppf(value), norm.ppf(1-value))"
   ]
  },
  {
   "cell_type": "code",
   "execution_count": 36,
   "metadata": {
    "collapsed": false,
    "slideshow": {
     "slide_type": "fragment"
    }
   },
   "outputs": [
    {
     "name": "stdout",
     "output_type": "stream",
     "text": [
      "One-sided tests - critical values:\n",
      "99%: [-2.33, 2.33]\n",
      "95%: [-1.64, 1.64]\n",
      "90%: [-1.28, 1.28]\n"
     ]
    }
   ],
   "source": [
    "    print 'One-sided tests - critical values:'\n",
    "critical_values([0.01, 0.05, 0.1], 'one-tailed')"
   ]
  },
  {
   "cell_type": "markdown",
   "metadata": {
    "slideshow": {
     "slide_type": "fragment"
    }
   },
   "source": [
    "Answer:"
   ]
  },
  {
   "cell_type": "markdown",
   "metadata": {
    "slideshow": {
     "slide_type": "slide"
    }
   },
   "source": [
    "### Samples & Sample Statistics"
   ]
  },
  {
   "cell_type": "markdown",
   "metadata": {
    "slideshow": {
     "slide_type": "fragment"
    }
   },
   "source": [
    "Our data are always a **sample** of a **population** or **universe**, which contains all our elements of interest.\n",
    "\n",
    "If sampling is random, so that each member of the population had equal probability to be selected, the values in the sample will be distributed just as the population."
   ]
  },
  {
   "cell_type": "markdown",
   "metadata": {
    "slideshow": {
     "slide_type": "slide"
    }
   },
   "source": [
    "One task of a data scientist is to use information contained in our sample to estimate unknown values for population parameters, like the mean, or the standard deviation, or differences between means for different groups. "
   ]
  },
  {
   "cell_type": "markdown",
   "metadata": {
    "slideshow": {
     "slide_type": "slide"
    }
   },
   "source": [
    "The values we compute from our sample data to estimate population parameters are called **sample statistics**. Because our data constitute a random sample, the sample statistics are also random in nature, and have a **sampling distribution** that depends on the (assumed) distribution of the underlying sample."
   ]
  },
  {
   "cell_type": "markdown",
   "metadata": {
    "slideshow": {
     "slide_type": "slide"
    }
   },
   "source": [
    "#### The distribution of the sample mean $\\bar{X}$\n",
    "\n",
    "* **Central Limit Theorem**: N > 30 => normal distribution\n",
    "* **unbiased estimate**: $\\bar{X} = \\mu_X$\n",
    "* **standard error**: $s_{\\bar{X}} = \\frac{s_X}{\\sqrt{N}}$\n",
    "\n",
    "$$ \\bar{X} \\sim N(\\mu_X, \\frac {\\sigma_X^2}{N}) $$"
   ]
  },
  {
   "cell_type": "markdown",
   "metadata": {
    "slideshow": {
     "slide_type": "slide"
    }
   },
   "source": [
    "#### Standardizing the Sample Mean Distribution\n",
    "We can standardize the sample mean by subtracting the mean, and dividing by the sample standard deviation so that it follows a **standard** normal distribution:\n",
    "\n",
    "$$ \\frac {\\bar{X} - \\mu_X}{\\frac {\\sigma_X}{\\sqrt{N}}} \\sim N(0, 1) = Z$$"
   ]
  },
  {
   "cell_type": "markdown",
   "metadata": {
    "slideshow": {
     "slide_type": "slide"
    }
   },
   "source": [
    "#### Sample Mean Confidence Interval\n",
    "\n",
    "Now we can calculate the probabilities that the mean lies in a given interval using the standard normal distribution:\n",
    "$$ P(a< \\bar{X} < b) = P\\left(\\frac{a-\\mu_X}{\\sigma_X} < Z < \\frac{b-\\mu_X}{\\sigma_X}\\right) $$"
   ]
  },
  {
   "cell_type": "markdown",
   "metadata": {
    "slideshow": {
     "slide_type": "slide"
    }
   },
   "source": [
    "#### Question: How likely is it to observe $\\bar{X}=2$ if $\\mu_X=0$?"
   ]
  },
  {
   "cell_type": "markdown",
   "metadata": {
    "slideshow": {
     "slide_type": "notes"
    }
   },
   "source": [
    "Answer:"
   ]
  },
  {
   "cell_type": "markdown",
   "metadata": {
    "slideshow": {
     "slide_type": "slide"
    }
   },
   "source": [
    "#### When $\\sigma_X$ is unknown: The student t-Distribution\n",
    "Our discussion of the distribution of our estimate of the sample mean above assumed that we know the true standard deviation of the population $\\sigma_X$. \n",
    "\n",
    "However, we typlically rely on our estimate of the sample standard deviation instead. This estimate also has a sampling distribution, and combining the estimates of the mean and the standard deviation yields a new distribution, the `t distribution`, which takes a `degrees of freedom` parameter."
   ]
  },
  {
   "cell_type": "markdown",
   "metadata": {
    "slideshow": {
     "slide_type": "slide"
    }
   },
   "source": [
    "#### For small samples (N<120), t has higher kurtosis than N(0, 1)"
   ]
  },
  {
   "cell_type": "code",
   "execution_count": 14,
   "metadata": {
    "code_folding": [
     0
    ],
    "collapsed": false,
    "slideshow": {
     "slide_type": "fragment"
    }
   },
   "outputs": [
    {
     "data": {
      "image/png": "[encoded data removed]",
      "text/plain": [
       "<matplotlib.figure.Figure at 0x1113e1e50>"
      ]
     },
     "metadata": {},
     "output_type": "display_data"
    }
   ],
   "source": [
    "def plot_t_distribution(df_list=[20, 200]):\n",
    "    x = np.linspace(-3, 3, 1000)\n",
    "    for df in df_list:\n",
    "        plt.plot(x, t.pdf(x, df=df), label='t ~ {}'.format(df))\n",
    "    plt.plot(x, norm.pdf(x), label='N(0, 1)', ls='--', c='black')\n",
    "    plt.legend(loc='best', shadow=True);\n",
    "plot_t_distribution()"
   ]
  },
  {
   "cell_type": "markdown",
   "metadata": {
    "slideshow": {
     "slide_type": "slide"
    }
   },
   "source": [
    "#### Use a list comprehension to show the base stats for the t Distribution with $\\text{df}=10, 20, ... 200$"
   ]
  },
  {
   "cell_type": "code",
   "execution_count": 15,
   "metadata": {
    "collapsed": false,
    "slideshow": {
     "slide_type": "fragment"
    }
   },
   "outputs": [
    {
     "name": "stdout",
     "output_type": "stream",
     "text": [
      "       0       1    2       3\n",
      "10   0.0  1.2500  0.0  1.0000\n",
      "40   0.0  1.0526  0.0  0.1667\n",
      "70   0.0  1.0294  0.0  0.0909\n",
      "100  0.0  1.0204  0.0  0.0625\n",
      "130  0.0  1.0156  0.0  0.0476\n",
      "160  0.0  1.0127  0.0  0.0385\n",
      "190  0.0  1.0106  0.0  0.0323\n"
     ]
    }
   ],
   "source": [
    "print pd.concat([pd.Series(t(df=df).stats('mvsk')).to_frame(df) \n",
    "                 for df in range(10, 201, 30)], axis=1).T"
   ]
  },
  {
   "cell_type": "markdown",
   "metadata": {
    "slideshow": {
     "slide_type": "slide"
    }
   },
   "source": [
    "#### Example: Sample Mean\n",
    "Using our estimate $s_X$, we now get for the distribution of the sample mean:\n",
    "\n",
    "$$ \\frac {\\bar{X} - \\mu_X}{\\frac {s_X}{\\sqrt{N}}} \\sim  t_{N-1}$$"
   ]
  },
  {
   "cell_type": "markdown",
   "metadata": {
    "slideshow": {
     "slide_type": "slide"
    }
   },
   "source": [
    "#### Confidence Interval\n",
    "A confidence interval estimate consists of a lower bound and an upper bound within which we expect $x$ to reside with given probability. \n",
    "\n",
    "A confidence interval estimate for the sample mean obtains these values from the matching sampling distribution - the $t$ distribution."
   ]
  },
  {
   "cell_type": "markdown",
   "metadata": {
    "slideshow": {
     "slide_type": "slide"
    }
   },
   "source": [
    "So for confidence level $1 - \\alpha$, for instance 95%:\n",
    "$$ P\\left(t_{N-1, \\frac{\\alpha}{2}} \\leq \\frac {\\bar{X} - \\mu_X}{\\frac {s_X}{\\sqrt{N}}} \\leq t_{N-1, 1-\\frac{\\alpha}{2}}\\right) = 1 - \\alpha $$\n",
    "This implies the following confidence interval boundaries \n",
    "$$ P\\left(\\bar{X} - t_{N-1, 1-\\frac{\\alpha}{2}} \\frac{s_X}{\\sqrt{N}} \\leq \\mu_X \\leq \\bar{X} + t_{N-1, 1-\\frac{\\alpha}{2}} \\frac{s_X}{\\sqrt{N}} \\right) = 1 - \\alpha $$"
   ]
  },
  {
   "cell_type": "markdown",
   "metadata": {
    "slideshow": {
     "slide_type": "slide"
    }
   },
   "source": [
    "#### Question: Let's calculate a confidence interval for the following values:"
   ]
  },
  {
   "cell_type": "code",
   "execution_count": 37,
   "metadata": {
    "collapsed": false,
    "slideshow": {
     "slide_type": "fragment"
    }
   },
   "outputs": [
    {
     "data": {
      "text/plain": [
       "array([  2,  79,  -8, -86,   6, -29,  88, -80,   2,  21, -26, -13,  16,\n",
       "        -1,   3,  51,  30,  49, -48, -99, -13,  57, -63,  29,  91,  87,\n",
       "       -80,  60, -43, -79, -12, -52, -42,  69,  87, -86,  89,  89,  74,\n",
       "        89, -50,   7, -46, -37,  30, -50,  34, -80, -28,  66])"
      ]
     },
     "execution_count": 37,
     "metadata": {},
     "output_type": "execute_result"
    }
   ],
   "source": [
    "np.random.seed(42)\n",
    "values = np.random.randint(-100, 100, 50)\n",
    "values\n"
   ]
  },
  {
   "cell_type": "code",
   "execution_count": 42,
   "metadata": {
    "collapsed": false
   },
   "outputs": [
    {
     "name": "stdout",
     "output_type": "stream",
     "text": [
      "3.08 58.1499960517\n",
      "-2.00957523449 2.00957523449\n",
      "-13.4460460033 19.6060460033\n"
     ]
    }
   ],
   "source": [
    "mu, s = np.mean(values), np.std(values, ddof=1)\n",
    "print mu, s\n",
    "l, u = t.interval(0.95, 49)\n",
    "print l, u\n",
    "print mu + l * s / np.sqrt(50), mu + u * s / np.sqrt(50)\n"
   ]
  },
  {
   "cell_type": "code",
   "execution_count": 43,
   "metadata": {
    "collapsed": false,
    "slideshow": {
     "slide_type": "notes"
    }
   },
   "outputs": [
    {
     "name": "stdout",
     "output_type": "stream",
     "text": [
      "Critical value: 2.01\n",
      "Interval: [-13.45, 19.61]\n"
     ]
    }
   ],
   "source": [
    "t_alpha = t.ppf(0.975, df=49)\n",
    "lower = mu - t_alpha * s / np.sqrt(50)\n",
    "upper = mu + t_alpha * s / np.sqrt(50)\n",
    "print 'Critical value: {:.2f}'.format(t_alpha)\n",
    "print 'Interval: [{0:.2f}, {1:.2f}]'.format(lower, upper)"
   ]
  },
  {
   "cell_type": "markdown",
   "metadata": {
    "slideshow": {
     "slide_type": "slide"
    }
   },
   "source": [
    "#### Hypothesis Test: Null Hypothesis\n",
    "Now let's test the hypothesis that the population mean equals a certain value, given our sample mean estimate, which is our **test statistic**.\n",
    "\n",
    "$$ H_0: \\mu_x=a$$\n",
    "$$ H_1: \\mu_x\\neq a$$"
   ]
  },
  {
   "cell_type": "markdown",
   "metadata": {
    "slideshow": {
     "slide_type": "slide"
    }
   },
   "source": [
    "Similar to our confidence interval estimate, we are going to create an interval that assumes that our $H_0$ is true. If our sample value falls outside this interval, we reject $H_0$. If not, we cannot reject $H_0$. \n",
    "\n",
    "Note that rejecting $H_0$ does not imply that $H_1$ is necessarily true; the value that we observed just happens to make $H_0$ very unlikely.\n",
    "\n",
    "$$ \\left( a \\pm t_{N-1, 1-\\alpha/2}\\frac{s_X}{N} \\right)$$"
   ]
  },
  {
   "cell_type": "markdown",
   "metadata": {
    "slideshow": {
     "slide_type": "slide"
    }
   },
   "source": [
    "#### p-value\n",
    "\n",
    "Just how unlikely is our sample finding **if** $H_0$ is true? We simply obtain this value from the distribution that assumes $H_0$ is true as we did above. The resulting value is our p-value.\n",
    "\n",
    "$$P(x\\geq \\bar{X}) = 1 - cdf_{H_0}(\\bar{X})$$"
   ]
  },
  {
   "cell_type": "markdown",
   "metadata": {
    "slideshow": {
     "slide_type": "slide"
    }
   },
   "source": [
    "#### Significance of Regression Coefficients\n",
    "Under certain assumptions (esp. normally distributed errors), the regression coefficients are normally distributed:\n",
    "\n",
    "$$ \\hat{\\beta_i} \\sim N\\left(\\beta, \\frac{\\sigma_Y^2}{\\sum_{i=1}^{N}(X_i-\\bar{X})^2}\\right) $$"
   ]
  },
  {
   "cell_type": "markdown",
   "metadata": {
    "slideshow": {
     "slide_type": "slide"
    }
   },
   "source": [
    "#### Hypothesis Tests\n",
    "For the hypothesis that a parameter equals certain value $a$:\n",
    "\n",
    "$$H_0: \\beta_1=a$$\n",
    "$$H_1: \\beta_1\\neq a$$\n",
    "We calculate critical values as follows:\n",
    "\n",
    "$$\\left|\\frac{\\hat{\\beta_j}-a}{s_{\\hat{\\beta_j}}}\\right| > t_{\\left(n-k-1-\\frac{\\alpha}{2}\\right)}$$"
   ]
  },
  {
   "cell_type": "markdown",
   "metadata": {
    "slideshow": {
     "slide_type": "slide"
    }
   },
   "source": [
    "### Advertisement Regression Example\n",
    "#### Run a regression for our advertisement data and interpret the results"
   ]
  },
  {
   "cell_type": "code",
   "execution_count": 19,
   "metadata": {
    "collapsed": false,
    "slideshow": {
     "slide_type": "fragment"
    }
   },
   "outputs": [
    {
     "name": "stdout",
     "output_type": "stream",
     "text": [
      "<class 'pandas.core.frame.DataFrame'>\n",
      "Int64Index: 200 entries, 1 to 200\n",
      "Data columns (total 4 columns):\n",
      "TV           200 non-null float64\n",
      "Radio        200 non-null float64\n",
      "Newspaper    200 non-null float64\n",
      "Sales        200 non-null float64\n",
      "dtypes: float64(4)\n",
      "memory usage: 7.8 KB\n"
     ]
    }
   ],
   "source": [
    "data = pd.read_csv('http://www-bcf.usc.edu/~gareth/ISL/Advertising.csv', \n",
    "                   index_col=0)\n",
    "data.info()"
   ]
  },
  {
   "cell_type": "code",
   "execution_count": 20,
   "metadata": {
    "collapsed": false,
    "slideshow": {
     "slide_type": "slide"
    }
   },
   "outputs": [
    {
     "name": "stdout",
     "output_type": "stream",
     "text": [
      "   const     TV  Radio  Newspaper\n",
      "1      1  230.1   37.8       69.2\n",
      "2      1   44.5   39.3       45.1\n",
      "3      1   17.2   45.9       69.3\n",
      "4      1  151.5   41.3       58.5\n",
      "5      1  180.8   10.8       58.4\n"
     ]
    },
    {
     "data": {
      "text/html": [
       "<table class=\"simpletable\">\n",
       "<caption>OLS Regression Results</caption>\n",
       "<tr>\n",
       "  <th>Dep. Variable:</th>          <td>Sales</td>      <th>  R-squared:         </th> <td>   0.897</td>\n",
       "</tr>\n",
       "<tr>\n",
       "  <th>Model:</th>                   <td>OLS</td>       <th>  Adj. R-squared:    </th> <td>   0.896</td>\n",
       "</tr>\n",
       "<tr>\n",
       "  <th>Method:</th>             <td>Least Squares</td>  <th>  F-statistic:       </th> <td>   570.3</td>\n",
       "</tr>\n",
       "<tr>\n",
       "  <th>Date:</th>             <td>Tue, 04 Oct 2016</td> <th>  Prob (F-statistic):</th> <td>1.58e-96</td>\n",
       "</tr>\n",
       "<tr>\n",
       "  <th>Time:</th>                 <td>20:46:33</td>     <th>  Log-Likelihood:    </th> <td> -386.18</td>\n",
       "</tr>\n",
       "<tr>\n",
       "  <th>No. Observations:</th>      <td>   200</td>      <th>  AIC:               </th> <td>   780.4</td>\n",
       "</tr>\n",
       "<tr>\n",
       "  <th>Df Residuals:</th>          <td>   196</td>      <th>  BIC:               </th> <td>   793.6</td>\n",
       "</tr>\n",
       "<tr>\n",
       "  <th>Df Model:</th>              <td>     3</td>      <th>                     </th>     <td> </td>   \n",
       "</tr>\n",
       "<tr>\n",
       "  <th>Covariance Type:</th>      <td>nonrobust</td>    <th>                     </th>     <td> </td>   \n",
       "</tr>\n",
       "</table>\n",
       "<table class=\"simpletable\">\n",
       "<tr>\n",
       "      <td></td>         <th>coef</th>     <th>std err</th>      <th>t</th>      <th>P>|t|</th> <th>[95.0% Conf. Int.]</th> \n",
       "</tr>\n",
       "<tr>\n",
       "  <th>const</th>     <td>    2.9389</td> <td>    0.312</td> <td>    9.422</td> <td> 0.000</td> <td>    2.324     3.554</td>\n",
       "</tr>\n",
       "<tr>\n",
       "  <th>TV</th>        <td>    0.0458</td> <td>    0.001</td> <td>   32.809</td> <td> 0.000</td> <td>    0.043     0.049</td>\n",
       "</tr>\n",
       "<tr>\n",
       "  <th>Radio</th>     <td>    0.1885</td> <td>    0.009</td> <td>   21.893</td> <td> 0.000</td> <td>    0.172     0.206</td>\n",
       "</tr>\n",
       "<tr>\n",
       "  <th>Newspaper</th> <td>   -0.0010</td> <td>    0.006</td> <td>   -0.177</td> <td> 0.860</td> <td>   -0.013     0.011</td>\n",
       "</tr>\n",
       "</table>\n",
       "<table class=\"simpletable\">\n",
       "<tr>\n",
       "  <th>Omnibus:</th>       <td>60.414</td> <th>  Durbin-Watson:     </th> <td>   2.084</td>\n",
       "</tr>\n",
       "<tr>\n",
       "  <th>Prob(Omnibus):</th> <td> 0.000</td> <th>  Jarque-Bera (JB):  </th> <td> 151.241</td>\n",
       "</tr>\n",
       "<tr>\n",
       "  <th>Skew:</th>          <td>-1.327</td> <th>  Prob(JB):          </th> <td>1.44e-33</td>\n",
       "</tr>\n",
       "<tr>\n",
       "  <th>Kurtosis:</th>      <td> 6.332</td> <th>  Cond. No.          </th> <td>    454.</td>\n",
       "</tr>\n",
       "</table>"
      ],
      "text/plain": [
       "<class 'statsmodels.iolib.summary.Summary'>\n",
       "\"\"\"\n",
       "                            OLS Regression Results                            \n",
       "==============================================================================\n",
       "Dep. Variable:                  Sales   R-squared:                       0.897\n",
       "Model:                            OLS   Adj. R-squared:                  0.896\n",
       "Method:                 Least Squares   F-statistic:                     570.3\n",
       "Date:                Tue, 04 Oct 2016   Prob (F-statistic):           1.58e-96\n",
       "Time:                        20:46:33   Log-Likelihood:                -386.18\n",
       "No. Observations:                 200   AIC:                             780.4\n",
       "Df Residuals:                     196   BIC:                             793.6\n",
       "Df Model:                           3                                         \n",
       "Covariance Type:            nonrobust                                         \n",
       "==============================================================================\n",
       "                 coef    std err          t      P>|t|      [95.0% Conf. Int.]\n",
       "------------------------------------------------------------------------------\n",
       "const          2.9389      0.312      9.422      0.000         2.324     3.554\n",
       "TV             0.0458      0.001     32.809      0.000         0.043     0.049\n",
       "Radio          0.1885      0.009     21.893      0.000         0.172     0.206\n",
       "Newspaper     -0.0010      0.006     -0.177      0.860        -0.013     0.011\n",
       "==============================================================================\n",
       "Omnibus:                       60.414   Durbin-Watson:                   2.084\n",
       "Prob(Omnibus):                  0.000   Jarque-Bera (JB):              151.241\n",
       "Skew:                          -1.327   Prob(JB):                     1.44e-33\n",
       "Kurtosis:                       6.332   Cond. No.                         454.\n",
       "==============================================================================\n",
       "\n",
       "Warnings:\n",
       "[1] Standard Errors assume that the covariance matrix of the errors is correctly specified.\n",
       "\"\"\""
      ]
     },
     "execution_count": 20,
     "metadata": {},
     "output_type": "execute_result"
    }
   ],
   "source": [
    "import statsmodels.api as sm\n",
    "X = data[['TV', 'Radio', 'Newspaper']]\n",
    "Y= data['Sales']\n",
    "X = sm.add_constant(X)\n",
    "print X.head()\n",
    "model = sm.OLS(Y, X)\n",
    "# model = sm.OLS('Sales ~ TV + Radio + Newspaper')\n",
    "results = model.fit()\n",
    "results.summary()\n"
   ]
  },
  {
   "cell_type": "markdown",
   "metadata": {
    "slideshow": {
     "slide_type": "slide"
    }
   },
   "source": [
    "#### Apply seaborn coefplot to this dataset. What are the available options?"
   ]
  },
  {
   "cell_type": "code",
   "execution_count": 52,
   "metadata": {
    "collapsed": false
   },
   "outputs": [
    {
     "data": {
      "image/png": "[encoded data removed]",
      "text/plain": [
       "<matplotlib.figure.Figure at 0x111d74d90>"
      ]
     },
     "metadata": {},
     "output_type": "display_data"
    }
   ],
   "source": [
    "import seaborn as sns\n",
    "sns.coefplot(formula='Sales ~ const + TV + Radio + Newspaper', data=pd.concat([Y, X], axis=1))"
   ]
  },
  {
   "cell_type": "markdown",
   "metadata": {
    "slideshow": {
     "slide_type": "slide"
    }
   },
   "source": [
    "### Simulating the Standard Error of the Mean\n",
    "Let's simulate the standard error of the mean by selecting random samples from a hypothetical population with $\\mu = 1000 $ and $\\sigma = 200 $.\n",
    "\n",
    "* Simulate 1,000 samples of various sizes N=100, 200, 300, ... 5,000\n",
    "* calculate the mean for each sample, and \n",
    "* the standard error of the means for each sample size\n",
    "* plot the result"
   ]
  },
  {
   "cell_type": "code",
   "execution_count": 53,
   "metadata": {
    "collapsed": false,
    "slideshow": {
     "slide_type": "slide"
    }
   },
   "outputs": [
    {
     "data": {
      "image/png": "[encoded data removed]",
      "text/plain": [
       "<matplotlib.figure.Figure at 0x111d3fe90>"
      ]
     },
     "metadata": {},
     "output_type": "display_data"
    }
   ],
   "source": [
    "mu, sigma = 1000, 200\n",
    "standard_error, mean_distribution = {}, {}\n",
    "for N in list(np.arange(100, 10001, 100)):\n",
    "    sample_means = [np.mean(np.random.normal(mu, sigma, N)) for _ in range(1000)]\n",
    "    if N==100 or N % 2000 == 0:\n",
    "        mean_distribution[N] = sample_means\n",
    "    standard_error[N] = np.std(sample_means)\n",
    "pd.Series(standard_error, name='Standard Error of the Mean').T.sort_index().plot(legend=True);"
   ]
  },
  {
   "cell_type": "code",
   "execution_count": 22,
   "metadata": {
    "collapsed": false,
    "slideshow": {
     "slide_type": "slide"
    }
   },
   "outputs": [
    {
     "data": {
      "image/png": "[encoded data removed]",
      "text/plain": [
       "<matplotlib.figure.Figure at 0x111586490>"
      ]
     },
     "metadata": {},
     "output_type": "display_data"
    }
   ],
   "source": [
    "dist = pd.DataFrame(mean_distribution)\n",
    "dist.plot.density(figsize=(10,5), xlim=[980, 1020]);"
   ]
  },
  {
   "cell_type": "code",
   "execution_count": 23,
   "metadata": {
    "collapsed": false,
    "slideshow": {
     "slide_type": "slide"
    }
   },
   "outputs": [
    {
     "name": "stdout",
     "output_type": "stream",
     "text": [
      "           100     2000    4000    6000    8000    10000\n",
      "p_value   0.5253  0.5383  0.9850  0.2735  0.3372  0.7898\n",
      "skew     -0.0861  0.0590  0.0003  0.1103  0.0891 -0.0528\n",
      "kurtosis -0.0462 -0.1320 -0.0432 -0.1230  0.1305 -0.0201\n"
     ]
    }
   ],
   "source": [
    "def get_stats(means):\n",
    "    return pd.Series([normaltest(means).pvalue, skew(means), kurtosis(means)], \n",
    "                     index=['p_value', 'skew', 'kurtosis'])\n",
    "\n",
    "print dist.apply(get_stats)"
   ]
  },
  {
   "cell_type": "code",
   "execution_count": 24,
   "metadata": {
    "collapsed": false,
    "slideshow": {
     "slide_type": "slide"
    }
   },
   "outputs": [
    {
     "name": "stdout",
     "output_type": "stream",
     "text": [
      "p_value     0.3177\n",
      "skew       -0.0564\n",
      "kurtosis   -0.1216\n",
      "dtype: float64\n"
     ]
    }
   ],
   "source": [
    "print get_stats(np.random.normal(mu, sigma, 2000))\n",
    "\n",
    "\n",
    "# pd.Series(sample).plot.density(figsize=(10, 5), xlim=[500, 1500]);"
   ]
  }
 ],
 "metadata": {
  "celltoolbar": "Slideshow",
  "kernelspec": {
   "display_name": "GA DAT",
   "language": "python",
   "name": "ga_dat"
  },
  "language_info": {
   "codemirror_mode": {
    "name": "ipython",
    "version": 2
   },
   "file_extension": ".py",
   "mimetype": "text/x-python",
   "name": "python",
   "nbconvert_exporter": "python",
   "pygments_lexer": "ipython2",
   "version": "2.7.12"
  },
  "latex_envs": {
   "bibliofile": "biblio.bib",
   "cite_by": "apalike",
   "current_citInitial": 1,
   "eqLabelWithNumbers": true,
   "eqNumInitial": 0
  },
  "nav_menu": {},
  "toc": {
   "navigate_menu": true,
   "number_sections": true,
   "sideBar": true,
   "threshold": "2",
   "toc_cell": true,
   "toc_section_display": "block",
   "toc_window_display": true
  },
  "widgets": {
   "state": {
    "a710160c77914a67bed56778c06c55d2": {
     "views": [
      {
       "cell_index": 8
      }
     ]
    },
    "d3bec91ff0ae463e88da9be0f2393dd6": {
     "views": [
      {
       "cell_index": 15
      }
     ]
    }
   },
   "version": "1.2.0"
  }
 },
 "nbformat": 4,
 "nbformat_minor": 0
}
