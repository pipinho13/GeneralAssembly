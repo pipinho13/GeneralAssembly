{
 "cells": [
  {
   "cell_type": "code",
   "execution_count": 57,
   "metadata": {
    "collapsed": true
   },
   "outputs": [],
   "source": [
    "#import packages needed for analysis\n",
    "%matplotlib inline\n",
    "import numpy as np\n",
    "import pandas as pd\n",
    "from matplotlib import pyplot as plt\n",
    "from sklearn.linear_model import LinearRegression\n",
    "import statsmodels.formula.api as smf\n",
    "from sklearn import feature_selection\n"
   ]
  },
  {
   "cell_type": "code",
   "execution_count": 65,
   "metadata": {
    "collapsed": false
   },
   "outputs": [
    {
     "data": {
      "text/html": [
       "<div>\n",
       "<table border=\"1\" class=\"dataframe\">\n",
       "  <thead>\n",
       "    <tr style=\"text-align: right;\">\n",
       "      <th></th>\n",
       "      <th>instant</th>\n",
       "      <th>dteday</th>\n",
       "      <th>season</th>\n",
       "      <th>yr</th>\n",
       "      <th>mnth</th>\n",
       "      <th>hr</th>\n",
       "      <th>holiday</th>\n",
       "      <th>weekday</th>\n",
       "      <th>workingday</th>\n",
       "      <th>weathersit</th>\n",
       "      <th>temp</th>\n",
       "      <th>atemp</th>\n",
       "      <th>hum</th>\n",
       "      <th>windspeed</th>\n",
       "      <th>casual</th>\n",
       "      <th>registered</th>\n",
       "      <th>cnt</th>\n",
       "    </tr>\n",
       "  </thead>\n",
       "  <tbody>\n",
       "    <tr>\n",
       "      <th>0</th>\n",
       "      <td>1</td>\n",
       "      <td>2011-01-01</td>\n",
       "      <td>1</td>\n",
       "      <td>0</td>\n",
       "      <td>1</td>\n",
       "      <td>0</td>\n",
       "      <td>0</td>\n",
       "      <td>6</td>\n",
       "      <td>0</td>\n",
       "      <td>1</td>\n",
       "      <td>0.24</td>\n",
       "      <td>0.2879</td>\n",
       "      <td>0.81</td>\n",
       "      <td>0.0</td>\n",
       "      <td>3</td>\n",
       "      <td>13</td>\n",
       "      <td>16</td>\n",
       "    </tr>\n",
       "    <tr>\n",
       "      <th>1</th>\n",
       "      <td>2</td>\n",
       "      <td>2011-01-01</td>\n",
       "      <td>1</td>\n",
       "      <td>0</td>\n",
       "      <td>1</td>\n",
       "      <td>1</td>\n",
       "      <td>0</td>\n",
       "      <td>6</td>\n",
       "      <td>0</td>\n",
       "      <td>1</td>\n",
       "      <td>0.22</td>\n",
       "      <td>0.2727</td>\n",
       "      <td>0.80</td>\n",
       "      <td>0.0</td>\n",
       "      <td>8</td>\n",
       "      <td>32</td>\n",
       "      <td>40</td>\n",
       "    </tr>\n",
       "    <tr>\n",
       "      <th>2</th>\n",
       "      <td>3</td>\n",
       "      <td>2011-01-01</td>\n",
       "      <td>1</td>\n",
       "      <td>0</td>\n",
       "      <td>1</td>\n",
       "      <td>2</td>\n",
       "      <td>0</td>\n",
       "      <td>6</td>\n",
       "      <td>0</td>\n",
       "      <td>1</td>\n",
       "      <td>0.22</td>\n",
       "      <td>0.2727</td>\n",
       "      <td>0.80</td>\n",
       "      <td>0.0</td>\n",
       "      <td>5</td>\n",
       "      <td>27</td>\n",
       "      <td>32</td>\n",
       "    </tr>\n",
       "    <tr>\n",
       "      <th>3</th>\n",
       "      <td>4</td>\n",
       "      <td>2011-01-01</td>\n",
       "      <td>1</td>\n",
       "      <td>0</td>\n",
       "      <td>1</td>\n",
       "      <td>3</td>\n",
       "      <td>0</td>\n",
       "      <td>6</td>\n",
       "      <td>0</td>\n",
       "      <td>1</td>\n",
       "      <td>0.24</td>\n",
       "      <td>0.2879</td>\n",
       "      <td>0.75</td>\n",
       "      <td>0.0</td>\n",
       "      <td>3</td>\n",
       "      <td>10</td>\n",
       "      <td>13</td>\n",
       "    </tr>\n",
       "    <tr>\n",
       "      <th>4</th>\n",
       "      <td>5</td>\n",
       "      <td>2011-01-01</td>\n",
       "      <td>1</td>\n",
       "      <td>0</td>\n",
       "      <td>1</td>\n",
       "      <td>4</td>\n",
       "      <td>0</td>\n",
       "      <td>6</td>\n",
       "      <td>0</td>\n",
       "      <td>1</td>\n",
       "      <td>0.24</td>\n",
       "      <td>0.2879</td>\n",
       "      <td>0.75</td>\n",
       "      <td>0.0</td>\n",
       "      <td>0</td>\n",
       "      <td>1</td>\n",
       "      <td>1</td>\n",
       "    </tr>\n",
       "  </tbody>\n",
       "</table>\n",
       "</div>"
      ],
      "text/plain": [
       "   instant      dteday  season  yr  mnth  hr  holiday  weekday  workingday  \\\n",
       "0        1  2011-01-01       1   0     1   0        0        6           0   \n",
       "1        2  2011-01-01       1   0     1   1        0        6           0   \n",
       "2        3  2011-01-01       1   0     1   2        0        6           0   \n",
       "3        4  2011-01-01       1   0     1   3        0        6           0   \n",
       "4        5  2011-01-01       1   0     1   4        0        6           0   \n",
       "\n",
       "   weathersit  temp   atemp   hum  windspeed  casual  registered  cnt  \n",
       "0           1  0.24  0.2879  0.81        0.0       3          13   16  \n",
       "1           1  0.22  0.2727  0.80        0.0       8          32   40  \n",
       "2           1  0.22  0.2727  0.80        0.0       5          27   32  \n",
       "3           1  0.24  0.2879  0.75        0.0       3          10   13  \n",
       "4           1  0.24  0.2879  0.75        0.0       0           1    1  "
      ]
     },
     "execution_count": 65,
     "metadata": {},
     "output_type": "execute_result"
    }
   ],
   "source": [
    "# load in bike share dataset\n",
    "bike_data = pd.read_csv('../data/bikeshare.csv')\n",
    "bike_data.head()"
   ]
  },
  {
   "cell_type": "markdown",
   "metadata": {},
   "source": [
    "Here is the data dictionary for this: https://archive.ics.uci.edu/ml/datasets/Bike+Sharing+Dataset <br>"
   ]
  },
  {
   "cell_type": "markdown",
   "metadata": {},
   "source": [
    "**Knowledge Check:** which of these variables categorical?  How do you know?<br>\n",
    "**Answer:** weathersit, season are examples of categorical variables.  You know by looking at the data dictionary and using a little common sense.  It is not sufficient to see that the column includes numbers and assume the variable is numeric!  The number scale may be representing an underlying categorical scale."
   ]
  },
  {
   "cell_type": "markdown",
   "metadata": {},
   "source": [
    "### We want to investigate how temperature, humidity and season are associated with numbers of casual riders."
   ]
  },
  {
   "cell_type": "code",
   "execution_count": 73,
   "metadata": {
    "collapsed": false
   },
   "outputs": [
    {
     "name": "stderr",
     "output_type": "stream",
     "text": [
      "/Users/pt/anaconda/lib/python2.7/site-packages/pandas/tools/plotting.py:3369: UserWarning: To output multiple subplots, the figure containing the passed axes is being cleared\n",
      "  \"the passed axes is being cleared\", UserWarning)\n"
     ]
    },
    {
     "data": {
      "image/png": "[encoded data removed]",
      "text/plain": [
       "<matplotlib.figure.Figure at 0x11c734790>"
      ]
     },
     "metadata": {},
     "output_type": "display_data"
    }
   ],
   "source": [
    "# visualize the distribution of each of these variables.\n",
    "columns_to_keep = [\"casual\", \"season\", \"temp\", \"atemp\", \"hum\"]\n",
    "sub_data = bike_data[columns_to_keep]\n",
    "fig, ax = plt.subplots(figsize=(10,10))\n",
    "sub_data.hist(ax=ax);"
   ]
  },
  {
   "cell_type": "markdown",
   "metadata": {},
   "source": [
    "**Knowledge check:** what type of variable is season?  What do we need to do before we can use it in the linear regression model?<br>\n",
    "**Answer:** it's categorical!  So we need to convert it to dummy variables before it goes into the linear model."
   ]
  },
  {
   "cell_type": "code",
   "execution_count": 67,
   "metadata": {
    "collapsed": false
   },
   "outputs": [
    {
     "data": {
      "text/html": [
       "<div>\n",
       "<table border=\"1\" class=\"dataframe\">\n",
       "  <thead>\n",
       "    <tr style=\"text-align: right;\">\n",
       "      <th></th>\n",
       "      <th>season_1</th>\n",
       "      <th>season_2</th>\n",
       "      <th>season_3</th>\n",
       "      <th>season_4</th>\n",
       "    </tr>\n",
       "  </thead>\n",
       "  <tbody>\n",
       "    <tr>\n",
       "      <th>0</th>\n",
       "      <td>1.0</td>\n",
       "      <td>0.0</td>\n",
       "      <td>0.0</td>\n",
       "      <td>0.0</td>\n",
       "    </tr>\n",
       "    <tr>\n",
       "      <th>1</th>\n",
       "      <td>1.0</td>\n",
       "      <td>0.0</td>\n",
       "      <td>0.0</td>\n",
       "      <td>0.0</td>\n",
       "    </tr>\n",
       "    <tr>\n",
       "      <th>2</th>\n",
       "      <td>1.0</td>\n",
       "      <td>0.0</td>\n",
       "      <td>0.0</td>\n",
       "      <td>0.0</td>\n",
       "    </tr>\n",
       "    <tr>\n",
       "      <th>3</th>\n",
       "      <td>1.0</td>\n",
       "      <td>0.0</td>\n",
       "      <td>0.0</td>\n",
       "      <td>0.0</td>\n",
       "    </tr>\n",
       "    <tr>\n",
       "      <th>4</th>\n",
       "      <td>1.0</td>\n",
       "      <td>0.0</td>\n",
       "      <td>0.0</td>\n",
       "      <td>0.0</td>\n",
       "    </tr>\n",
       "  </tbody>\n",
       "</table>\n",
       "</div>"
      ],
      "text/plain": [
       "   season_1  season_2  season_3  season_4\n",
       "0       1.0       0.0       0.0       0.0\n",
       "1       1.0       0.0       0.0       0.0\n",
       "2       1.0       0.0       0.0       0.0\n",
       "3       1.0       0.0       0.0       0.0\n",
       "4       1.0       0.0       0.0       0.0"
      ]
     },
     "execution_count": 67,
     "metadata": {},
     "output_type": "execute_result"
    }
   ],
   "source": [
    "# convert season into dummies\n",
    "seasons = pd.get_dummies(sub_data.season, prefix='season')\n",
    "seasons.head()"
   ]
  },
  {
   "cell_type": "code",
   "execution_count": 68,
   "metadata": {
    "collapsed": false
   },
   "outputs": [
    {
     "data": {
      "text/html": [
       "<div>\n",
       "<table border=\"1\" class=\"dataframe\">\n",
       "  <thead>\n",
       "    <tr style=\"text-align: right;\">\n",
       "      <th></th>\n",
       "      <th>casual</th>\n",
       "      <th>temp</th>\n",
       "      <th>atemp</th>\n",
       "      <th>hum</th>\n",
       "      <th>season_1</th>\n",
       "      <th>season_2</th>\n",
       "      <th>season_3</th>\n",
       "      <th>season_4</th>\n",
       "    </tr>\n",
       "  </thead>\n",
       "  <tbody>\n",
       "    <tr>\n",
       "      <th>0</th>\n",
       "      <td>3</td>\n",
       "      <td>0.24</td>\n",
       "      <td>0.2879</td>\n",
       "      <td>0.81</td>\n",
       "      <td>1.0</td>\n",
       "      <td>0.0</td>\n",
       "      <td>0.0</td>\n",
       "      <td>0.0</td>\n",
       "    </tr>\n",
       "    <tr>\n",
       "      <th>1</th>\n",
       "      <td>8</td>\n",
       "      <td>0.22</td>\n",
       "      <td>0.2727</td>\n",
       "      <td>0.80</td>\n",
       "      <td>1.0</td>\n",
       "      <td>0.0</td>\n",
       "      <td>0.0</td>\n",
       "      <td>0.0</td>\n",
       "    </tr>\n",
       "    <tr>\n",
       "      <th>2</th>\n",
       "      <td>5</td>\n",
       "      <td>0.22</td>\n",
       "      <td>0.2727</td>\n",
       "      <td>0.80</td>\n",
       "      <td>1.0</td>\n",
       "      <td>0.0</td>\n",
       "      <td>0.0</td>\n",
       "      <td>0.0</td>\n",
       "    </tr>\n",
       "    <tr>\n",
       "      <th>3</th>\n",
       "      <td>3</td>\n",
       "      <td>0.24</td>\n",
       "      <td>0.2879</td>\n",
       "      <td>0.75</td>\n",
       "      <td>1.0</td>\n",
       "      <td>0.0</td>\n",
       "      <td>0.0</td>\n",
       "      <td>0.0</td>\n",
       "    </tr>\n",
       "    <tr>\n",
       "      <th>4</th>\n",
       "      <td>0</td>\n",
       "      <td>0.24</td>\n",
       "      <td>0.2879</td>\n",
       "      <td>0.75</td>\n",
       "      <td>1.0</td>\n",
       "      <td>0.0</td>\n",
       "      <td>0.0</td>\n",
       "      <td>0.0</td>\n",
       "    </tr>\n",
       "  </tbody>\n",
       "</table>\n",
       "</div>"
      ],
      "text/plain": [
       "   casual  temp   atemp   hum  season_1  season_2  season_3  season_4\n",
       "0       3  0.24  0.2879  0.81       1.0       0.0       0.0       0.0\n",
       "1       8  0.22  0.2727  0.80       1.0       0.0       0.0       0.0\n",
       "2       5  0.22  0.2727  0.80       1.0       0.0       0.0       0.0\n",
       "3       3  0.24  0.2879  0.75       1.0       0.0       0.0       0.0\n",
       "4       0  0.24  0.2879  0.75       1.0       0.0       0.0       0.0"
      ]
     },
     "execution_count": 68,
     "metadata": {},
     "output_type": "execute_result"
    }
   ],
   "source": [
    "# replace the original season column in the dataframe with the dummy variable columns \n",
    "sub_data = sub_data.join(seasons).drop(\"season\", axis=1)\n",
    "sub_data.head()"
   ]
  },
  {
   "cell_type": "code",
   "execution_count": 69,
   "metadata": {
    "collapsed": false
   },
   "outputs": [
    {
     "data": {
      "text/html": [
       "<div>\n",
       "<table border=\"1\" class=\"dataframe\">\n",
       "  <thead>\n",
       "    <tr style=\"text-align: right;\">\n",
       "      <th></th>\n",
       "      <th>casual</th>\n",
       "      <th>temp</th>\n",
       "      <th>atemp</th>\n",
       "      <th>hum</th>\n",
       "      <th>season_1</th>\n",
       "      <th>season_2</th>\n",
       "      <th>season_3</th>\n",
       "      <th>season_4</th>\n",
       "    </tr>\n",
       "  </thead>\n",
       "  <tbody>\n",
       "    <tr>\n",
       "      <th>casual</th>\n",
       "      <td>1.000000</td>\n",
       "      <td>0.459616</td>\n",
       "      <td>0.454080</td>\n",
       "      <td>-0.347028</td>\n",
       "      <td>-0.246476</td>\n",
       "      <td>0.123983</td>\n",
       "      <td>0.175067</td>\n",
       "      <td>-0.057646</td>\n",
       "    </tr>\n",
       "    <tr>\n",
       "      <th>temp</th>\n",
       "      <td>0.459616</td>\n",
       "      <td>1.000000</td>\n",
       "      <td>0.987672</td>\n",
       "      <td>-0.069881</td>\n",
       "      <td>-0.583859</td>\n",
       "      <td>0.144363</td>\n",
       "      <td>0.642516</td>\n",
       "      <td>-0.217601</td>\n",
       "    </tr>\n",
       "    <tr>\n",
       "      <th>atemp</th>\n",
       "      <td>0.454080</td>\n",
       "      <td>0.987672</td>\n",
       "      <td>1.000000</td>\n",
       "      <td>-0.051918</td>\n",
       "      <td>-0.587470</td>\n",
       "      <td>0.151903</td>\n",
       "      <td>0.619570</td>\n",
       "      <td>-0.198218</td>\n",
       "    </tr>\n",
       "    <tr>\n",
       "      <th>hum</th>\n",
       "      <td>-0.347028</td>\n",
       "      <td>-0.069881</td>\n",
       "      <td>-0.051918</td>\n",
       "      <td>1.000000</td>\n",
       "      <td>-0.135138</td>\n",
       "      <td>-0.000625</td>\n",
       "      <td>0.018184</td>\n",
       "      <td>0.117326</td>\n",
       "    </tr>\n",
       "    <tr>\n",
       "      <th>season_1</th>\n",
       "      <td>-0.246476</td>\n",
       "      <td>-0.583859</td>\n",
       "      <td>-0.587470</td>\n",
       "      <td>-0.135138</td>\n",
       "      <td>1.000000</td>\n",
       "      <td>-0.331312</td>\n",
       "      <td>-0.335693</td>\n",
       "      <td>-0.322401</td>\n",
       "    </tr>\n",
       "    <tr>\n",
       "      <th>season_2</th>\n",
       "      <td>0.123983</td>\n",
       "      <td>0.144363</td>\n",
       "      <td>0.151903</td>\n",
       "      <td>-0.000625</td>\n",
       "      <td>-0.331312</td>\n",
       "      <td>1.000000</td>\n",
       "      <td>-0.344433</td>\n",
       "      <td>-0.330795</td>\n",
       "    </tr>\n",
       "    <tr>\n",
       "      <th>season_3</th>\n",
       "      <td>0.175067</td>\n",
       "      <td>0.642516</td>\n",
       "      <td>0.619570</td>\n",
       "      <td>0.018184</td>\n",
       "      <td>-0.335693</td>\n",
       "      <td>-0.344433</td>\n",
       "      <td>1.000000</td>\n",
       "      <td>-0.335169</td>\n",
       "    </tr>\n",
       "    <tr>\n",
       "      <th>season_4</th>\n",
       "      <td>-0.057646</td>\n",
       "      <td>-0.217601</td>\n",
       "      <td>-0.198218</td>\n",
       "      <td>0.117326</td>\n",
       "      <td>-0.322401</td>\n",
       "      <td>-0.330795</td>\n",
       "      <td>-0.335169</td>\n",
       "      <td>1.000000</td>\n",
       "    </tr>\n",
       "  </tbody>\n",
       "</table>\n",
       "</div>"
      ],
      "text/plain": [
       "            casual      temp     atemp       hum  season_1  season_2  \\\n",
       "casual    1.000000  0.459616  0.454080 -0.347028 -0.246476  0.123983   \n",
       "temp      0.459616  1.000000  0.987672 -0.069881 -0.583859  0.144363   \n",
       "atemp     0.454080  0.987672  1.000000 -0.051918 -0.587470  0.151903   \n",
       "hum      -0.347028 -0.069881 -0.051918  1.000000 -0.135138 -0.000625   \n",
       "season_1 -0.246476 -0.583859 -0.587470 -0.135138  1.000000 -0.331312   \n",
       "season_2  0.123983  0.144363  0.151903 -0.000625 -0.331312  1.000000   \n",
       "season_3  0.175067  0.642516  0.619570  0.018184 -0.335693 -0.344433   \n",
       "season_4 -0.057646 -0.217601 -0.198218  0.117326 -0.322401 -0.330795   \n",
       "\n",
       "          season_3  season_4  \n",
       "casual    0.175067 -0.057646  \n",
       "temp      0.642516 -0.217601  \n",
       "atemp     0.619570 -0.198218  \n",
       "hum       0.018184  0.117326  \n",
       "season_1 -0.335693 -0.322401  \n",
       "season_2 -0.344433 -0.330795  \n",
       "season_3  1.000000 -0.335169  \n",
       "season_4 -0.335169  1.000000  "
      ]
     },
     "execution_count": 69,
     "metadata": {},
     "output_type": "execute_result"
    }
   ],
   "source": [
    "# show a correlation matrix for all the variables\n",
    "sub_data.corr()"
   ]
  },
  {
   "cell_type": "markdown",
   "metadata": {},
   "source": [
    "### Ok, now using either statsmodel or sklearn, fit a linear model predicting casual (the outcome) using the other variables we've selected.  Show the coefficients, intercept, pvalues and r2."
   ]
  },
  {
   "cell_type": "code",
   "execution_count": 70,
   "metadata": {
    "collapsed": false
   },
   "outputs": [
    {
     "data": {
      "text/html": [
       "<table class=\"simpletable\">\n",
       "<caption>OLS Regression Results</caption>\n",
       "<tr>\n",
       "  <th>Dep. Variable:</th>         <td>casual</td>      <th>  R-squared:         </th> <td>   0.330</td> \n",
       "</tr>\n",
       "<tr>\n",
       "  <th>Model:</th>                   <td>OLS</td>       <th>  Adj. R-squared:    </th> <td>   0.330</td> \n",
       "</tr>\n",
       "<tr>\n",
       "  <th>Method:</th>             <td>Least Squares</td>  <th>  F-statistic:       </th> <td>   1428.</td> \n",
       "</tr>\n",
       "<tr>\n",
       "  <th>Date:</th>             <td>Fri, 07 Oct 2016</td> <th>  Prob (F-statistic):</th>  <td>  0.00</td>  \n",
       "</tr>\n",
       "<tr>\n",
       "  <th>Time:</th>                 <td>11:10:58</td>     <th>  Log-Likelihood:    </th> <td> -88919.</td> \n",
       "</tr>\n",
       "<tr>\n",
       "  <th>No. Observations:</th>      <td> 17379</td>      <th>  AIC:               </th> <td>1.779e+05</td>\n",
       "</tr>\n",
       "<tr>\n",
       "  <th>Df Residuals:</th>          <td> 17372</td>      <th>  BIC:               </th> <td>1.779e+05</td>\n",
       "</tr>\n",
       "<tr>\n",
       "  <th>Df Model:</th>              <td>     6</td>      <th>                     </th>     <td> </td>    \n",
       "</tr>\n",
       "<tr>\n",
       "  <th>Covariance Type:</th>      <td>nonrobust</td>    <th>                     </th>     <td> </td>    \n",
       "</tr>\n",
       "</table>\n",
       "<table class=\"simpletable\">\n",
       "<tr>\n",
       "      <td></td>         <th>coef</th>     <th>std err</th>      <th>t</th>      <th>P>|t|</th> <th>[95.0% Conf. Int.]</th> \n",
       "</tr>\n",
       "<tr>\n",
       "  <th>Intercept</th> <td>   13.4872</td> <td>    1.471</td> <td>    9.167</td> <td> 0.000</td> <td>   10.603    16.371</td>\n",
       "</tr>\n",
       "<tr>\n",
       "  <th>temp</th>      <td>  112.8257</td> <td>   10.698</td> <td>   10.546</td> <td> 0.000</td> <td>   91.856   133.796</td>\n",
       "</tr>\n",
       "<tr>\n",
       "  <th>atemp</th>     <td>   28.0793</td> <td>   11.582</td> <td>    2.424</td> <td> 0.015</td> <td>    5.377    50.782</td>\n",
       "</tr>\n",
       "<tr>\n",
       "  <th>hum</th>       <td>  -80.4242</td> <td>    1.647</td> <td>  -48.831</td> <td> 0.000</td> <td>  -83.653   -77.196</td>\n",
       "</tr>\n",
       "<tr>\n",
       "  <th>season_1</th>  <td>    5.4359</td> <td>    0.600</td> <td>    9.065</td> <td> 0.000</td> <td>    4.260     6.611</td>\n",
       "</tr>\n",
       "<tr>\n",
       "  <th>season_2</th>  <td>    7.0326</td> <td>    0.717</td> <td>    9.813</td> <td> 0.000</td> <td>    5.628     8.437</td>\n",
       "</tr>\n",
       "<tr>\n",
       "  <th>season_3</th>  <td>  -10.3994</td> <td>    1.028</td> <td>  -10.119</td> <td> 0.000</td> <td>  -12.414    -8.385</td>\n",
       "</tr>\n",
       "<tr>\n",
       "  <th>season_4</th>  <td>   11.4181</td> <td>    0.625</td> <td>   18.281</td> <td> 0.000</td> <td>   10.194    12.642</td>\n",
       "</tr>\n",
       "</table>\n",
       "<table class=\"simpletable\">\n",
       "<tr>\n",
       "  <th>Omnibus:</th>       <td>9107.798</td> <th>  Durbin-Watson:     </th> <td>   0.175</td> \n",
       "</tr>\n",
       "<tr>\n",
       "  <th>Prob(Omnibus):</th>  <td> 0.000</td>  <th>  Jarque-Bera (JB):  </th> <td>73180.930</td>\n",
       "</tr>\n",
       "<tr>\n",
       "  <th>Skew:</th>           <td> 2.413</td>  <th>  Prob(JB):          </th> <td>    0.00</td> \n",
       "</tr>\n",
       "<tr>\n",
       "  <th>Kurtosis:</th>       <td>11.819</td>  <th>  Cond. No.          </th> <td>3.02e+15</td> \n",
       "</tr>\n",
       "</table>"
      ],
      "text/plain": [
       "<class 'statsmodels.iolib.summary.Summary'>\n",
       "\"\"\"\n",
       "                            OLS Regression Results                            \n",
       "==============================================================================\n",
       "Dep. Variable:                 casual   R-squared:                       0.330\n",
       "Model:                            OLS   Adj. R-squared:                  0.330\n",
       "Method:                 Least Squares   F-statistic:                     1428.\n",
       "Date:                Fri, 07 Oct 2016   Prob (F-statistic):               0.00\n",
       "Time:                        11:10:58   Log-Likelihood:                -88919.\n",
       "No. Observations:               17379   AIC:                         1.779e+05\n",
       "Df Residuals:                   17372   BIC:                         1.779e+05\n",
       "Df Model:                           6                                         \n",
       "Covariance Type:            nonrobust                                         \n",
       "==============================================================================\n",
       "                 coef    std err          t      P>|t|      [95.0% Conf. Int.]\n",
       "------------------------------------------------------------------------------\n",
       "Intercept     13.4872      1.471      9.167      0.000        10.603    16.371\n",
       "temp         112.8257     10.698     10.546      0.000        91.856   133.796\n",
       "atemp         28.0793     11.582      2.424      0.015         5.377    50.782\n",
       "hum          -80.4242      1.647    -48.831      0.000       -83.653   -77.196\n",
       "season_1       5.4359      0.600      9.065      0.000         4.260     6.611\n",
       "season_2       7.0326      0.717      9.813      0.000         5.628     8.437\n",
       "season_3     -10.3994      1.028    -10.119      0.000       -12.414    -8.385\n",
       "season_4      11.4181      0.625     18.281      0.000        10.194    12.642\n",
       "==============================================================================\n",
       "Omnibus:                     9107.798   Durbin-Watson:                   0.175\n",
       "Prob(Omnibus):                  0.000   Jarque-Bera (JB):            73180.930\n",
       "Skew:                           2.413   Prob(JB):                         0.00\n",
       "Kurtosis:                      11.819   Cond. No.                     3.02e+15\n",
       "==============================================================================\n",
       "\n",
       "Warnings:\n",
       "[1] Standard Errors assume that the covariance matrix of the errors is correctly specified.\n",
       "[2] The smallest eigenvalue is 4.08e-27. This might indicate that there are\n",
       "strong multicollinearity problems or that the design matrix is singular.\n",
       "\"\"\""
      ]
     },
     "execution_count": 70,
     "metadata": {},
     "output_type": "execute_result"
    }
   ],
   "source": [
    "# statsmodel\n",
    "lm_stats = smf.ols(formula='casual ~ temp + atemp + hum + season_1 + season_2 + season_3 + season_4', data=sub_data).fit()\n",
    "lm_stats.summary()"
   ]
  },
  {
   "cell_type": "code",
   "execution_count": 71,
   "metadata": {
    "collapsed": false
   },
   "outputs": [
    {
     "name": "stdout",
     "output_type": "stream",
     "text": [
      "coefficients: [  1.12825662e+02   2.85006605e+01  -8.02750450e+01  -1.19919917e+14\n",
      "  -1.19919917e+14  -1.19919917e+14  -1.19919917e+14]\n",
      "intercept: 1.19919917308e+14\n",
      "r2: 0.330267555787\n",
      "[  0.00000000e+000   0.00000000e+000   0.00000000e+000   7.90819136e-239\n",
      "   1.70941845e-060   1.20544330e-119   2.84549156e-014]\n"
     ]
    }
   ],
   "source": [
    "# sklearn\n",
    "# instantiate a linear model\n",
    "lm_sk = LinearRegression()\n",
    "# set our variables\n",
    "X = sub_data.loc[:,[\"temp\",\"atemp\", \"hum\",\"season_1\",\"season_2\",\"season_3\", \"season_4\"]]\n",
    "y = sub_data[\"casual\"]\n",
    "#fit the model\n",
    "lm_sk.fit(X,y)\n",
    "#print the attributes\n",
    "print \"coefficients:\", lm_sk.coef_\n",
    "print \"intercept:\", lm_sk.intercept_\n",
    "print \"r2:\", lm_sk.score(X,y)\n",
    "print feature_selection.f_regression(X, y)[1]"
   ]
  },
  {
   "cell_type": "markdown",
   "metadata": {},
   "source": [
    "**Knowledge check:** hold on.  Was that right?  Don't we have to watch out for colinearity?<br>\n",
    "**Answer** no that wasn't really right, and yes we do.  Remember: when we're looking at a set of predictor variables, we need to take care if they are highly correlated with each other.  But why when the model seems to work?  Because, if we have highly correlated predictors, we can't rely on the coefficient estimates the model produces.  The model simply can't decipher the effect of each predictor.  So, although you might get a result, it may not mean very much!  Garbage in, garbage out!<br>\n",
    "So what should we do?<br>\n",
    "Recall from the work in class, if you look at the correlation matrix, you will see that temp and atemp are very highly correlated with each other.  So we shouldn't use both in the model.  We need to drop one.  Also, we created four dummy variable columns to represent the four season categories.  Again, we need to drop one of these."
   ]
  },
  {
   "cell_type": "markdown",
   "metadata": {},
   "source": [
    "### Repeat the above linear modelling exercise, but first drop the appropriate variables from the dataframe"
   ]
  },
  {
   "cell_type": "code",
   "execution_count": 72,
   "metadata": {
    "collapsed": true
   },
   "outputs": [],
   "source": [
    "# drop atemp and one of the season dummies\n",
    "sub_data.drop([\"atemp\",\"season_4\"], axis=1, inplace=True)"
   ]
  },
  {
   "cell_type": "code",
   "execution_count": 60,
   "metadata": {
    "collapsed": false
   },
   "outputs": [
    {
     "data": {
      "text/html": [
       "<table class=\"simpletable\">\n",
       "<caption>OLS Regression Results</caption>\n",
       "<tr>\n",
       "  <th>Dep. Variable:</th>         <td>casual</td>      <th>  R-squared:         </th> <td>   0.330</td> \n",
       "</tr>\n",
       "<tr>\n",
       "  <th>Model:</th>                   <td>OLS</td>       <th>  Adj. R-squared:    </th> <td>   0.330</td> \n",
       "</tr>\n",
       "<tr>\n",
       "  <th>Method:</th>             <td>Least Squares</td>  <th>  F-statistic:       </th> <td>   1712.</td> \n",
       "</tr>\n",
       "<tr>\n",
       "  <th>Date:</th>             <td>Fri, 07 Oct 2016</td> <th>  Prob (F-statistic):</th>  <td>  0.00</td>  \n",
       "</tr>\n",
       "<tr>\n",
       "  <th>Time:</th>                 <td>11:02:03</td>     <th>  Log-Likelihood:    </th> <td> -88922.</td> \n",
       "</tr>\n",
       "<tr>\n",
       "  <th>No. Observations:</th>      <td> 17379</td>      <th>  AIC:               </th> <td>1.779e+05</td>\n",
       "</tr>\n",
       "<tr>\n",
       "  <th>Df Residuals:</th>          <td> 17373</td>      <th>  BIC:               </th> <td>1.779e+05</td>\n",
       "</tr>\n",
       "<tr>\n",
       "  <th>Df Model:</th>              <td>     5</td>      <th>                     </th>     <td> </td>    \n",
       "</tr>\n",
       "<tr>\n",
       "  <th>Covariance Type:</th>      <td>nonrobust</td>    <th>                     </th>     <td> </td>    \n",
       "</tr>\n",
       "</table>\n",
       "<table class=\"simpletable\">\n",
       "<tr>\n",
       "      <td></td>         <th>coef</th>     <th>std err</th>      <th>t</th>      <th>P>|t|</th> <th>[95.0% Conf. Int.]</th> \n",
       "</tr>\n",
       "<tr>\n",
       "  <th>Intercept</th> <td>   25.6520</td> <td>    1.808</td> <td>   14.188</td> <td> 0.000</td> <td>   22.108    29.196</td>\n",
       "</tr>\n",
       "<tr>\n",
       "  <th>temp</th>      <td>  137.9774</td> <td>    2.612</td> <td>   52.815</td> <td> 0.000</td> <td>  132.857   143.098</td>\n",
       "</tr>\n",
       "<tr>\n",
       "  <th>hum</th>       <td>  -79.9980</td> <td>    1.638</td> <td>  -48.844</td> <td> 0.000</td> <td>  -83.208   -76.788</td>\n",
       "</tr>\n",
       "<tr>\n",
       "  <th>season_1</th>  <td>   -6.1298</td> <td>    0.955</td> <td>   -6.421</td> <td> 0.000</td> <td>   -8.001    -4.259</td>\n",
       "</tr>\n",
       "<tr>\n",
       "  <th>season_2</th>  <td>   -4.4821</td> <td>    0.923</td> <td>   -4.857</td> <td> 0.000</td> <td>   -6.291    -2.673</td>\n",
       "</tr>\n",
       "<tr>\n",
       "  <th>season_3</th>  <td>  -22.1813</td> <td>    1.132</td> <td>  -19.590</td> <td> 0.000</td> <td>  -24.401   -19.962</td>\n",
       "</tr>\n",
       "</table>\n",
       "<table class=\"simpletable\">\n",
       "<tr>\n",
       "  <th>Omnibus:</th>       <td>9130.255</td> <th>  Durbin-Watson:     </th> <td>   0.175</td> \n",
       "</tr>\n",
       "<tr>\n",
       "  <th>Prob(Omnibus):</th>  <td> 0.000</td>  <th>  Jarque-Bera (JB):  </th> <td>73636.905</td>\n",
       "</tr>\n",
       "<tr>\n",
       "  <th>Skew:</th>           <td> 2.419</td>  <th>  Prob(JB):          </th> <td>    0.00</td> \n",
       "</tr>\n",
       "<tr>\n",
       "  <th>Kurtosis:</th>       <td>11.848</td>  <th>  Cond. No.          </th> <td>    14.1</td> \n",
       "</tr>\n",
       "</table>"
      ],
      "text/plain": [
       "<class 'statsmodels.iolib.summary.Summary'>\n",
       "\"\"\"\n",
       "                            OLS Regression Results                            \n",
       "==============================================================================\n",
       "Dep. Variable:                 casual   R-squared:                       0.330\n",
       "Model:                            OLS   Adj. R-squared:                  0.330\n",
       "Method:                 Least Squares   F-statistic:                     1712.\n",
       "Date:                Fri, 07 Oct 2016   Prob (F-statistic):               0.00\n",
       "Time:                        11:02:03   Log-Likelihood:                -88922.\n",
       "No. Observations:               17379   AIC:                         1.779e+05\n",
       "Df Residuals:                   17373   BIC:                         1.779e+05\n",
       "Df Model:                           5                                         \n",
       "Covariance Type:            nonrobust                                         \n",
       "==============================================================================\n",
       "                 coef    std err          t      P>|t|      [95.0% Conf. Int.]\n",
       "------------------------------------------------------------------------------\n",
       "Intercept     25.6520      1.808     14.188      0.000        22.108    29.196\n",
       "temp         137.9774      2.612     52.815      0.000       132.857   143.098\n",
       "hum          -79.9980      1.638    -48.844      0.000       -83.208   -76.788\n",
       "season_1      -6.1298      0.955     -6.421      0.000        -8.001    -4.259\n",
       "season_2      -4.4821      0.923     -4.857      0.000        -6.291    -2.673\n",
       "season_3     -22.1813      1.132    -19.590      0.000       -24.401   -19.962\n",
       "==============================================================================\n",
       "Omnibus:                     9130.255   Durbin-Watson:                   0.175\n",
       "Prob(Omnibus):                  0.000   Jarque-Bera (JB):            73636.905\n",
       "Skew:                           2.419   Prob(JB):                         0.00\n",
       "Kurtosis:                      11.848   Cond. No.                         14.1\n",
       "==============================================================================\n",
       "\n",
       "Warnings:\n",
       "[1] Standard Errors assume that the covariance matrix of the errors is correctly specified.\n",
       "\"\"\""
      ]
     },
     "execution_count": 60,
     "metadata": {},
     "output_type": "execute_result"
    }
   ],
   "source": [
    "# statsmodel\n",
    "lm_stats = smf.ols(formula='casual ~ temp + hum + season_1 + season_2 + season_3', data=sub_data).fit()\n",
    "lm_stats.summary()"
   ]
  },
  {
   "cell_type": "code",
   "execution_count": 61,
   "metadata": {
    "collapsed": false
   },
   "outputs": [
    {
     "name": "stdout",
     "output_type": "stream",
     "text": [
      "coefficients: [ 137.97737895  -79.99804024   -6.12982135   -4.48207579  -22.18132428]\n",
      "intercept: 25.651988429\n",
      "r2: 0.330065273776\n",
      "[  0.00000000e+000   0.00000000e+000   7.90819136e-239   1.70941845e-060\n",
      "   1.20544330e-119]\n"
     ]
    }
   ],
   "source": [
    "#sklearn\n",
    "lm_sk = LinearRegression()\n",
    "X = sub_data.loc[:,[\"temp\",\"hum\",\"season_1\",\"season_2\",\"season_3\"]]\n",
    "y = sub_data[\"casual\"]\n",
    "\n",
    "lm_sk.fit(X,y)\n",
    "print \"coefficients:\", lm_sk.coef_\n",
    "print \"intercept:\", lm_sk.intercept_\n",
    "print \"r2:\", lm_sk.score(X,y)\n",
    "print feature_selection.f_regression(X, y)[1]"
   ]
  },
  {
   "cell_type": "markdown",
   "metadata": {},
   "source": [
    "**Knowledge check:** pick a coefficient, and interpret its value.  What does the p-value indicate?  Also, what is the r2, and how should you interpret that?"
   ]
  },
  {
   "cell_type": "markdown",
   "metadata": {},
   "source": [
    "**Answer:** for example, the hum coefficient is -80.  So keeping all the other variables in the model constant (temperature and season), for each increase in a unit of humidity, on average we expect casual ridership to go down 80 units.  <br>\n",
    "The p-value is ~0.  Remember, to get this p-value, we are actually doing a hypothesis test.  Our null hypothesis in this case is that there is no linear relationship between humidity and casual ridership.  But our p-value is very small, which suggests to us that if this null hypothesis were true, we would be extremely unlikely to see a coefficient of this magnitude.  So we have reason to reject the null, and conclude that the coefficient is signficant. <br>\n",
    "R2 is 0.33.  This means that 33% of the variance we see in our outcome (casual ridership) can be explained by the variance in our predictor variables (temperature, humidity and season)."
   ]
  }
 ],
 "metadata": {
  "kernelspec": {
   "display_name": "Python 2",
   "language": "python",
   "name": "python2"
  },
  "language_info": {
   "codemirror_mode": {
    "name": "ipython",
    "version": 2
   },
   "file_extension": ".py",
   "mimetype": "text/x-python",
   "name": "python",
   "nbconvert_exporter": "python",
   "pygments_lexer": "ipython2",
   "version": "2.7.12"
  }
 },
 "nbformat": 4,
 "nbformat_minor": 0
}
