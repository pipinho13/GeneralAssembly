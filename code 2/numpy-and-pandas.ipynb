{
 "cells": [
  {
   "cell_type": "markdown",
   "metadata": {
    "focus": false,
    "id": "e2d2e96d-e50e-4d2b-9ca2-b748fec717d5",
    "slideshow": {
     "slide_type": "slide"
    }
   },
   "source": [
    "# Agenda\n",
    "* Numpy\n",
    "* Pandas\n",
    "* Lab\n"
   ]
  },
  {
   "cell_type": "markdown",
   "metadata": {
    "focus": false,
    "id": "b4120c3a-6f30-49ba-ab8f-a86e3aa3adbd",
    "slideshow": {
     "slide_type": "subslide"
    }
   },
   "source": [
    "# Introduction\n"
   ]
  },
  {
   "cell_type": "markdown",
   "metadata": {
    "focus": false,
    "id": "485a2c1b-c45a-40da-a088-d164ede434c3",
    "slideshow": {
     "slide_type": "slide"
    }
   },
   "source": [
    "## Create a new notebook for your code-along:\n",
    "\n",
    "From our submission directory, type:\n",
    "    \n",
    "    jupyter notebook\n",
    "\n",
    "From the IPython Dashboard, open a new notebook.\n",
    "Change the title to: \"Numpy and Pandas\""
   ]
  },
  {
   "cell_type": "markdown",
   "metadata": {
    "focus": false,
    "id": "2bd62dd0-8f25-4203-8faf-9ec99b96aef2",
    "slideshow": {
     "slide_type": "slide"
    }
   },
   "source": [
    "# Introduction to Numpy\n",
    "\n",
    "* Overview\n",
    "* ndarray\n",
    "* Indexing and Slicing\n",
    "\n",
    "More info: [http://wiki.scipy.org/Tentative_NumPy_Tutorial](http://wiki.scipy.org/Tentative_NumPy_Tutorial)\n"
   ]
  },
  {
   "cell_type": "markdown",
   "metadata": {
    "focus": false,
    "id": "7db20dcb-cef2-4ae9-b44a-7b04744f74cf",
    "slideshow": {
     "slide_type": "subslide"
    }
   },
   "source": [
    "## Numpy Overview\n",
    "\n",
    "* Why Python for Data? Numpy brings *decades* of C math into Python!\n",
    "* Numpy provides a wrapper for extensive C/C++/Fortran codebases, used for data analysis functionality\n",
    "* NDAarray allows easy vectorized math and broadcasting (i.e. functions for vector elements of different shapes)"
   ]
  },
  {
   "cell_type": "code",
   "execution_count": 79,
   "metadata": {
    "ExecuteTime": {
     "end_time": "2017-01-24T19:05:19.253389",
     "start_time": "2017-01-24T19:05:19.250392"
    },
    "collapsed": false,
    "focus": false,
    "id": "247250c7-2583-41fa-9198-6198b83fd243",
    "slideshow": {
     "slide_type": "subslide"
    }
   },
   "outputs": [],
   "source": [
    "from numpy import * #Load all the numpy packages"
   ]
  },
  {
   "cell_type": "code",
   "execution_count": 80,
   "metadata": {
    "ExecuteTime": {
     "end_time": "2017-01-24T19:05:19.259031",
     "start_time": "2017-01-24T19:05:19.255307"
    },
    "collapsed": true
   },
   "outputs": [],
   "source": [
    "zeros?"
   ]
  },
  {
   "cell_type": "markdown",
   "metadata": {
    "focus": false,
    "id": "21e43d98-4809-4360-8f14-1b1012c3acef",
    "slideshow": {
     "slide_type": "subslide"
    }
   },
   "source": [
    "### A Note About \"import as\" & 'Name spaces'\n",
    "\n",
    "    import * \n",
    "This loads all submodules. Note: this is a waste of memory when incorporated into deployed code. \n",
    "We'll use it here by example - it's fine to use for learning purposes and legibility.\n",
    "\n",
    "As we'll see later, the proper convention is to use:\n",
    "\n",
    "    import numpy as np\n",
    "    \n",
    "And then to specifically call needed methods:\n",
    "\n",
    "![](http://bit.do/cBuMz)"
   ]
  },
  {
   "cell_type": "markdown",
   "metadata": {
    "focus": false,
    "id": "7b1b97a1-ccb0-44a9-a0f8-12dcc590bc66",
    "slideshow": {
     "slide_type": "subslide"
    }
   },
   "source": [
    "### Creating ndarrays"
   ]
  },
  {
   "cell_type": "markdown",
   "metadata": {
    "focus": false,
    "id": "d6f83896-c0f2-4185-a528-481262fe2d91",
    "slideshow": {
     "slide_type": "fragment"
    }
   },
   "source": [
    "An array object represents a multidimensional, homogeneous array of fixed-size items. "
   ]
  },
  {
   "cell_type": "code",
   "execution_count": 81,
   "metadata": {
    "ExecuteTime": {
     "end_time": "2017-01-24T19:05:19.267286",
     "start_time": "2017-01-24T19:05:19.261854"
    },
    "collapsed": false,
    "focus": false,
    "id": "54f9011d-2143-4bb7-81fc-e3216ac4c866",
    "slideshow": {
     "slide_type": "subslide"
    }
   },
   "outputs": [
    {
     "name": "stdout",
     "output_type": "stream",
     "text": [
      "[ 0.  0.  0.]\n"
     ]
    },
    {
     "data": {
      "text/plain": [
       "(3,)"
      ]
     },
     "execution_count": 81,
     "metadata": {},
     "output_type": "execute_result"
    }
   ],
   "source": [
    "# A simple 1-dimensional array:\n",
    "a = zeros((3))\n",
    "print(a)\n",
    "a.shape"
   ]
  },
  {
   "cell_type": "code",
   "execution_count": 82,
   "metadata": {
    "ExecuteTime": {
     "end_time": "2017-01-24T19:05:19.272622",
     "start_time": "2017-01-24T19:05:19.268573"
    },
    "collapsed": false
   },
   "outputs": [
    {
     "name": "stdout",
     "output_type": "stream",
     "text": [
      "(2, 3)\n",
      "[[ 1.  1.  1.]\n",
      " [ 1.  1.  1.]]\n"
     ]
    }
   ],
   "source": [
    "b = ones((2,3))\n",
    "print(b.shape)\n",
    "print(b)"
   ]
  },
  {
   "cell_type": "code",
   "execution_count": 83,
   "metadata": {
    "ExecuteTime": {
     "end_time": "2017-01-24T19:05:19.279703",
     "start_time": "2017-01-24T19:05:19.273881"
    },
    "collapsed": false,
    "focus": false,
    "id": "a84a1773-b477-421f-9f17-e26eb326b408",
    "slideshow": {
     "slide_type": "fragment"
    }
   },
   "outputs": [
    {
     "name": "stdout",
     "output_type": "stream",
     "text": [
      "(2, 3, 4)\n"
     ]
    },
    {
     "data": {
      "text/plain": [
       "array([[[7, 5, 1, 7],\n",
       "        [1, 7, 3, 2],\n",
       "        [6, 7, 3, 4]],\n",
       "\n",
       "       [[9, 9, 4, 2],\n",
       "        [6, 8, 1, 5],\n",
       "        [1, 9, 4, 6]]])"
      ]
     },
     "execution_count": 83,
     "metadata": {},
     "output_type": "execute_result"
    }
   ],
   "source": [
    "# Note the way each array is printed:\n",
    "c = random.randint(1,10,(2,3,4))\n",
    "print(c.shape)\n",
    "c"
   ]
  },
  {
   "cell_type": "code",
   "execution_count": 84,
   "metadata": {
    "ExecuteTime": {
     "end_time": "2017-01-24T19:05:19.283721",
     "start_time": "2017-01-24T19:05:19.281281"
    },
    "collapsed": false
   },
   "outputs": [],
   "source": [
    "demo = arange(24)"
   ]
  },
  {
   "cell_type": "code",
   "execution_count": 85,
   "metadata": {
    "ExecuteTime": {
     "end_time": "2017-01-24T19:05:19.289552",
     "start_time": "2017-01-24T19:05:19.285106"
    },
    "collapsed": false
   },
   "outputs": [
    {
     "data": {
      "text/plain": [
       "array([ 0. ,  0.1,  0.2,  0.3,  0.4,  0.5,  0.6,  0.7,  0.8,  0.9])"
      ]
     },
     "execution_count": 85,
     "metadata": {},
     "output_type": "execute_result"
    }
   ],
   "source": [
    "arange(0, 1, 0.1)"
   ]
  },
  {
   "cell_type": "code",
   "execution_count": 86,
   "metadata": {
    "ExecuteTime": {
     "end_time": "2017-01-24T19:05:19.294839",
     "start_time": "2017-01-24T19:05:19.290891"
    },
    "collapsed": false
   },
   "outputs": [
    {
     "data": {
      "text/plain": [
       "array([ 0,  1,  2,  3,  4,  5,  6,  7,  8,  9, 10, 11, 12, 13, 14, 15, 16,\n",
       "       17, 18, 19, 20, 21, 22, 23])"
      ]
     },
     "execution_count": 86,
     "metadata": {},
     "output_type": "execute_result"
    }
   ],
   "source": [
    "demo"
   ]
  },
  {
   "cell_type": "code",
   "execution_count": 87,
   "metadata": {
    "ExecuteTime": {
     "end_time": "2017-01-24T19:05:19.299893",
     "start_time": "2017-01-24T19:05:19.296135"
    },
    "collapsed": false
   },
   "outputs": [
    {
     "data": {
      "text/plain": [
       "(24,)"
      ]
     },
     "execution_count": 87,
     "metadata": {},
     "output_type": "execute_result"
    }
   ],
   "source": [
    "demo.shape"
   ]
  },
  {
   "cell_type": "code",
   "execution_count": 88,
   "metadata": {
    "ExecuteTime": {
     "end_time": "2017-01-24T19:05:19.305994",
     "start_time": "2017-01-24T19:05:19.301219"
    },
    "collapsed": false
   },
   "outputs": [
    {
     "data": {
      "text/plain": [
       "array([[ 0,  1],\n",
       "       [ 2,  3],\n",
       "       [ 4,  5],\n",
       "       [ 6,  7],\n",
       "       [ 8,  9],\n",
       "       [10, 11],\n",
       "       [12, 13],\n",
       "       [14, 15],\n",
       "       [16, 17],\n",
       "       [18, 19],\n",
       "       [20, 21],\n",
       "       [22, 23]])"
      ]
     },
     "execution_count": 88,
     "metadata": {},
     "output_type": "execute_result"
    }
   ],
   "source": [
    "demo_2d = demo.reshape(-1, 2)\n",
    "demo_2d"
   ]
  },
  {
   "cell_type": "code",
   "execution_count": 89,
   "metadata": {
    "ExecuteTime": {
     "end_time": "2017-01-24T19:05:19.311025",
     "start_time": "2017-01-24T19:05:19.307260"
    },
    "collapsed": false
   },
   "outputs": [
    {
     "data": {
      "text/plain": [
       "(12, 2)"
      ]
     },
     "execution_count": 89,
     "metadata": {},
     "output_type": "execute_result"
    }
   ],
   "source": [
    "demo_2d.shape"
   ]
  },
  {
   "cell_type": "code",
   "execution_count": 90,
   "metadata": {
    "ExecuteTime": {
     "end_time": "2017-01-24T19:05:19.316104",
     "start_time": "2017-01-24T19:05:19.312305"
    },
    "collapsed": false
   },
   "outputs": [
    {
     "data": {
      "text/plain": [
       "(4, 2, 3)"
      ]
     },
     "execution_count": 90,
     "metadata": {},
     "output_type": "execute_result"
    }
   ],
   "source": [
    "demo_3d = demo_2d.reshape(-1, 2, 3)\n",
    "demo_3d.shape\n"
   ]
  },
  {
   "cell_type": "code",
   "execution_count": 91,
   "metadata": {
    "ExecuteTime": {
     "end_time": "2017-01-24T19:05:19.321823",
     "start_time": "2017-01-24T19:05:19.317386"
    },
    "collapsed": false
   },
   "outputs": [
    {
     "data": {
      "text/plain": [
       "array([[[ 0,  1,  2],\n",
       "        [ 3,  4,  5]],\n",
       "\n",
       "       [[ 6,  7,  8],\n",
       "        [ 9, 10, 11]],\n",
       "\n",
       "       [[12, 13, 14],\n",
       "        [15, 16, 17]],\n",
       "\n",
       "       [[18, 19, 20],\n",
       "        [21, 22, 23]]])"
      ]
     },
     "execution_count": 91,
     "metadata": {},
     "output_type": "execute_result"
    }
   ],
   "source": [
    "demo_3d"
   ]
  },
  {
   "cell_type": "markdown",
   "metadata": {
    "collapsed": false,
    "focus": false,
    "id": "67c9acc2-c9a7-4636-acca-038bd99def6d",
    "slideshow": {
     "slide_type": "subslide"
    }
   },
   "source": [
    "### Arithmetic in arrays is element wise"
   ]
  },
  {
   "cell_type": "code",
   "execution_count": 92,
   "metadata": {
    "ExecuteTime": {
     "end_time": "2017-01-24T19:05:19.327550",
     "start_time": "2017-01-24T19:05:19.323275"
    },
    "collapsed": false,
    "focus": false,
    "id": "34461526-ff37-4e7d-8ff9-2f6887c10a1a",
    "slideshow": {
     "slide_type": "fragment"
    }
   },
   "outputs": [
    {
     "name": "stdout",
     "output_type": "stream",
     "text": [
      "[20 30 40 50]\n",
      "[0 1 2 3]\n"
     ]
    }
   ],
   "source": [
    "a = array( [20,30,40,50])\n",
    "b = arange( 4 )\n",
    "print a\n",
    "print b"
   ]
  },
  {
   "cell_type": "code",
   "execution_count": 93,
   "metadata": {
    "ExecuteTime": {
     "end_time": "2017-01-24T19:05:19.332868",
     "start_time": "2017-01-24T19:05:19.328744"
    },
    "collapsed": false,
    "focus": false,
    "id": "9b21c965-2734-4f09-aae0-4d344b93e681",
    "slideshow": {
     "slide_type": "fragment"
    }
   },
   "outputs": [
    {
     "data": {
      "text/plain": [
       "array([20, 29, 38, 47])"
      ]
     },
     "execution_count": 93,
     "metadata": {},
     "output_type": "execute_result"
    }
   ],
   "source": [
    "c = a-b\n",
    "c"
   ]
  },
  {
   "cell_type": "code",
   "execution_count": 94,
   "metadata": {
    "ExecuteTime": {
     "end_time": "2017-01-24T19:05:19.338250",
     "start_time": "2017-01-24T19:05:19.334360"
    },
    "collapsed": false,
    "focus": false,
    "id": "03828206-43b2-445f-b54d-7ebaca5585f5",
    "slideshow": {
     "slide_type": "fragment"
    }
   },
   "outputs": [
    {
     "data": {
      "text/plain": [
       "array([0, 1, 4, 9])"
      ]
     },
     "execution_count": 94,
     "metadata": {},
     "output_type": "execute_result"
    }
   ],
   "source": [
    "b**2"
   ]
  },
  {
   "cell_type": "markdown",
   "metadata": {
    "focus": false,
    "id": "e4c29549-9a0a-420c-9f86-99a798daa288",
    "slideshow": {
     "slide_type": "subslide"
    }
   },
   "source": [
    "## Indexing, Slicing and Iterating"
   ]
  },
  {
   "cell_type": "code",
   "execution_count": 95,
   "metadata": {
    "ExecuteTime": {
     "end_time": "2017-01-24T19:05:19.341958",
     "start_time": "2017-01-24T19:05:19.339580"
    },
    "collapsed": false,
    "focus": false,
    "id": "100e8b85-16f4-43e0-9c47-67c60e1f81ed",
    "slideshow": {
     "slide_type": "fragment"
    }
   },
   "outputs": [],
   "source": [
    "# one-dimensional arrays work like lists:\n",
    "a = arange(10)**2"
   ]
  },
  {
   "cell_type": "code",
   "execution_count": 96,
   "metadata": {
    "ExecuteTime": {
     "end_time": "2017-01-24T19:05:19.347049",
     "start_time": "2017-01-24T19:05:19.343431"
    },
    "collapsed": false,
    "focus": false,
    "id": "26090d07-f5d6-4baa-aacc-979982af6f14",
    "slideshow": {
     "slide_type": "fragment"
    }
   },
   "outputs": [
    {
     "data": {
      "text/plain": [
       "array([ 0,  1,  4,  9, 16, 25, 36, 49, 64, 81])"
      ]
     },
     "execution_count": 96,
     "metadata": {},
     "output_type": "execute_result"
    }
   ],
   "source": [
    "a"
   ]
  },
  {
   "cell_type": "code",
   "execution_count": 97,
   "metadata": {
    "ExecuteTime": {
     "end_time": "2017-01-24T19:05:19.352241",
     "start_time": "2017-01-24T19:05:19.348274"
    },
    "collapsed": false,
    "focus": false,
    "id": "8d56b369-acfc-4e82-b325-c1aba3ee35cd",
    "slideshow": {
     "slide_type": "fragment"
    }
   },
   "outputs": [
    {
     "data": {
      "text/plain": [
       "array([ 0,  1,  4,  9, 16, 25, 36, 49])"
      ]
     },
     "execution_count": 97,
     "metadata": {},
     "output_type": "execute_result"
    }
   ],
   "source": [
    "a[:8]"
   ]
  },
  {
   "cell_type": "markdown",
   "metadata": {
    "collapsed": false,
    "focus": false,
    "id": "7dbe0ac8-d44b-4698-82c6-537afff33cea",
    "slideshow": {
     "slide_type": "subslide"
    }
   },
   "source": [
    "### Multidimensional arrays use (row,column) tuples counting from 0"
   ]
  },
  {
   "cell_type": "code",
   "execution_count": 98,
   "metadata": {
    "ExecuteTime": {
     "end_time": "2017-01-24T19:05:19.356205",
     "start_time": "2017-01-24T19:05:19.353660"
    },
    "collapsed": false,
    "focus": false,
    "id": "27ba2fb0-9c69-438f-9136-da9c2204b100",
    "slideshow": {
     "slide_type": "fragment"
    }
   },
   "outputs": [],
   "source": [
    "b = random.randint(1,100,(4,4))"
   ]
  },
  {
   "cell_type": "code",
   "execution_count": 99,
   "metadata": {
    "ExecuteTime": {
     "end_time": "2017-01-24T19:05:19.361428",
     "start_time": "2017-01-24T19:05:19.357477"
    },
    "collapsed": false,
    "focus": false,
    "id": "845e0d23-74e7-4f8b-a6ca-cc7a8984b13b",
    "slideshow": {
     "slide_type": "fragment"
    }
   },
   "outputs": [
    {
     "data": {
      "text/plain": [
       "array([[66, 49, 74, 30],\n",
       "       [35, 85, 94, 98],\n",
       "       [30, 75, 58, 61],\n",
       "       [46, 97, 44, 95]])"
      ]
     },
     "execution_count": 99,
     "metadata": {},
     "output_type": "execute_result"
    }
   ],
   "source": [
    "b"
   ]
  },
  {
   "cell_type": "code",
   "execution_count": 100,
   "metadata": {
    "ExecuteTime": {
     "end_time": "2017-01-24T19:05:19.366830",
     "start_time": "2017-01-24T19:05:19.362672"
    },
    "collapsed": false,
    "focus": false,
    "id": "58463e8a-312c-4ff9-970f-c8204d6dbc30",
    "slideshow": {
     "slide_type": "fragment"
    }
   },
   "outputs": [
    {
     "data": {
      "text/plain": [
       "61"
      ]
     },
     "execution_count": 100,
     "metadata": {},
     "output_type": "execute_result"
    }
   ],
   "source": [
    "# Guess the output\n",
    "b[2,3]"
   ]
  },
  {
   "cell_type": "code",
   "execution_count": 101,
   "metadata": {
    "ExecuteTime": {
     "end_time": "2017-01-24T19:05:19.372353",
     "start_time": "2017-01-24T19:05:19.368298"
    },
    "collapsed": false
   },
   "outputs": [
    {
     "data": {
      "text/plain": [
       "66"
      ]
     },
     "execution_count": 101,
     "metadata": {},
     "output_type": "execute_result"
    }
   ],
   "source": [
    "b[0,0]"
   ]
  },
  {
   "cell_type": "code",
   "execution_count": 102,
   "metadata": {
    "ExecuteTime": {
     "end_time": "2017-01-24T19:05:19.377912",
     "start_time": "2017-01-24T19:05:19.373741"
    },
    "collapsed": false,
    "focus": false,
    "id": "77b7d441-34a9-4d52-aab7-563e966702c9",
    "slideshow": {
     "slide_type": "fragment"
    }
   },
   "outputs": [
    {
     "data": {
      "text/plain": [
       "array([49, 85, 75])"
      ]
     },
     "execution_count": 102,
     "metadata": {},
     "output_type": "execute_result"
    }
   ],
   "source": [
    "b[0:3,1]"
   ]
  },
  {
   "cell_type": "code",
   "execution_count": 103,
   "metadata": {
    "ExecuteTime": {
     "end_time": "2017-01-24T19:05:19.383394",
     "start_time": "2017-01-24T19:05:19.379256"
    },
    "collapsed": false
   },
   "outputs": [
    {
     "data": {
      "text/plain": [
       "array([49, 85, 75, 97])"
      ]
     },
     "execution_count": 103,
     "metadata": {},
     "output_type": "execute_result"
    }
   ],
   "source": [
    "b[:,1]"
   ]
  },
  {
   "cell_type": "code",
   "execution_count": 104,
   "metadata": {
    "ExecuteTime": {
     "end_time": "2017-01-24T19:05:19.388626",
     "start_time": "2017-01-24T19:05:19.384692"
    },
    "collapsed": false,
    "focus": false,
    "id": "9b24506c-d8e4-4f1b-8fdb-b9c835b980c9",
    "slideshow": {
     "slide_type": "fragment"
    }
   },
   "outputs": [
    {
     "data": {
      "text/plain": [
       "array([[35, 85, 94, 98],\n",
       "       [30, 75, 58, 61]])"
      ]
     },
     "execution_count": 104,
     "metadata": {},
     "output_type": "execute_result"
    }
   ],
   "source": [
    "b[1:3,:]"
   ]
  },
  {
   "cell_type": "markdown",
   "metadata": {
    "focus": false,
    "id": "39dee2d5-b969-40d1-9bcb-9061b29c317b",
    "slideshow": {
     "slide_type": "slide"
    }
   },
   "source": [
    "# Introduction to Pandas\n",
    "\n",
    "* Object Creation\n",
    "* Viewing data\n",
    "* Selection\n",
    "* Missing data\n",
    "* Grouping\n",
    "* Reshaping\n",
    "* Time series\n",
    "* Plotting\n",
    "* i/o\n",
    " \n",
    "\n",
    "_pandas.pydata.org_"
   ]
  },
  {
   "cell_type": "markdown",
   "metadata": {
    "focus": false,
    "id": "7306e5f4-bc93-4370-9156-7ad4bb0b3662",
    "slideshow": {
     "slide_type": "slide"
    }
   },
   "source": [
    "## Pandas Overview\n",
    "\n",
    "_Source: [pandas.pydata.org](http://pandas.pydata.org/pandas-docs/stable/10min.html)_"
   ]
  },
  {
   "cell_type": "code",
   "execution_count": 105,
   "metadata": {
    "ExecuteTime": {
     "end_time": "2017-01-24T19:05:19.398063",
     "start_time": "2017-01-24T19:05:19.389867"
    },
    "collapsed": false,
    "focus": false,
    "id": "25de189f-b377-4fac-896f-757f71485109",
    "slideshow": {
     "slide_type": "subslide"
    }
   },
   "outputs": [],
   "source": [
    "import pandas as pd\n",
    "import numpy as np\n",
    "import matplotlib.pyplot as plt\n",
    "plt.style.use('ggplot')\n",
    "%matplotlib inline"
   ]
  },
  {
   "cell_type": "code",
   "execution_count": 106,
   "metadata": {
    "ExecuteTime": {
     "end_time": "2017-01-24T19:05:19.408582",
     "start_time": "2017-01-24T19:05:19.399348"
    },
    "collapsed": false
   },
   "outputs": [
    {
     "data": {
      "text/html": [
       "<div>\n",
       "<table border=\"1\" class=\"dataframe\">\n",
       "  <thead>\n",
       "    <tr style=\"text-align: right;\">\n",
       "      <th></th>\n",
       "      <th>0</th>\n",
       "      <th>1</th>\n",
       "    </tr>\n",
       "  </thead>\n",
       "  <tbody>\n",
       "    <tr>\n",
       "      <th>0</th>\n",
       "      <td>0</td>\n",
       "      <td>1</td>\n",
       "    </tr>\n",
       "    <tr>\n",
       "      <th>1</th>\n",
       "      <td>2</td>\n",
       "      <td>3</td>\n",
       "    </tr>\n",
       "    <tr>\n",
       "      <th>2</th>\n",
       "      <td>4</td>\n",
       "      <td>5</td>\n",
       "    </tr>\n",
       "    <tr>\n",
       "      <th>3</th>\n",
       "      <td>6</td>\n",
       "      <td>7</td>\n",
       "    </tr>\n",
       "    <tr>\n",
       "      <th>4</th>\n",
       "      <td>8</td>\n",
       "      <td>9</td>\n",
       "    </tr>\n",
       "    <tr>\n",
       "      <th>5</th>\n",
       "      <td>10</td>\n",
       "      <td>11</td>\n",
       "    </tr>\n",
       "    <tr>\n",
       "      <th>6</th>\n",
       "      <td>12</td>\n",
       "      <td>13</td>\n",
       "    </tr>\n",
       "    <tr>\n",
       "      <th>7</th>\n",
       "      <td>14</td>\n",
       "      <td>15</td>\n",
       "    </tr>\n",
       "    <tr>\n",
       "      <th>8</th>\n",
       "      <td>16</td>\n",
       "      <td>17</td>\n",
       "    </tr>\n",
       "    <tr>\n",
       "      <th>9</th>\n",
       "      <td>18</td>\n",
       "      <td>19</td>\n",
       "    </tr>\n",
       "    <tr>\n",
       "      <th>10</th>\n",
       "      <td>20</td>\n",
       "      <td>21</td>\n",
       "    </tr>\n",
       "    <tr>\n",
       "      <th>11</th>\n",
       "      <td>22</td>\n",
       "      <td>23</td>\n",
       "    </tr>\n",
       "  </tbody>\n",
       "</table>\n",
       "</div>"
      ],
      "text/plain": [
       "     0   1\n",
       "0    0   1\n",
       "1    2   3\n",
       "2    4   5\n",
       "3    6   7\n",
       "4    8   9\n",
       "5   10  11\n",
       "6   12  13\n",
       "7   14  15\n",
       "8   16  17\n",
       "9   18  19\n",
       "10  20  21\n",
       "11  22  23"
      ]
     },
     "execution_count": 106,
     "metadata": {},
     "output_type": "execute_result"
    }
   ],
   "source": [
    "pd.DataFrame(demo_2d) # note row & column index are auto-generated"
   ]
  },
  {
   "cell_type": "code",
   "execution_count": 107,
   "metadata": {
    "ExecuteTime": {
     "end_time": "2017-01-24T19:05:19.414871",
     "start_time": "2017-01-24T19:05:19.409974"
    },
    "collapsed": false,
    "focus": false,
    "id": "c56e480d-bc62-4502-89ae-1b3c5f8f9c65",
    "slideshow": {
     "slide_type": "subslide"
    }
   },
   "outputs": [
    {
     "data": {
      "text/plain": [
       "DatetimeIndex(['2014-01-01', '2014-01-02', '2014-01-03', '2014-01-04',\n",
       "               '2014-01-05', '2014-01-06'],\n",
       "              dtype='datetime64[ns]', freq='D')"
      ]
     },
     "execution_count": 107,
     "metadata": {},
     "output_type": "execute_result"
    }
   ],
   "source": [
    "# Creating a DateTime index\n",
    "dates = pd.date_range('20140101',periods=6)\n",
    "dates"
   ]
  },
  {
   "cell_type": "code",
   "execution_count": 108,
   "metadata": {
    "ExecuteTime": {
     "end_time": "2017-01-24T19:05:19.419928",
     "start_time": "2017-01-24T19:05:19.416201"
    },
    "collapsed": false
   },
   "outputs": [
    {
     "data": {
      "text/plain": [
       "['A', 'B', 'C', 'D']"
      ]
     },
     "execution_count": 108,
     "metadata": {},
     "output_type": "execute_result"
    }
   ],
   "source": [
    "list('ABCD')"
   ]
  },
  {
   "cell_type": "code",
   "execution_count": 109,
   "metadata": {
    "ExecuteTime": {
     "end_time": "2017-01-24T19:05:19.433775",
     "start_time": "2017-01-24T19:05:19.421263"
    },
    "collapsed": false,
    "focus": false,
    "id": "c1eaf66c-b3b0-4286-b8cf-ac023341c523",
    "slideshow": {
     "slide_type": "subslide"
    }
   },
   "outputs": [
    {
     "data": {
      "text/html": [
       "<div>\n",
       "<table border=\"1\" class=\"dataframe\">\n",
       "  <thead>\n",
       "    <tr style=\"text-align: right;\">\n",
       "      <th></th>\n",
       "      <th>A</th>\n",
       "      <th>B</th>\n",
       "      <th>C</th>\n",
       "      <th>D</th>\n",
       "    </tr>\n",
       "  </thead>\n",
       "  <tbody>\n",
       "    <tr>\n",
       "      <th>2014-01-01</th>\n",
       "      <td>-0.057885</td>\n",
       "      <td>-0.002677</td>\n",
       "      <td>0.062784</td>\n",
       "      <td>-0.496724</td>\n",
       "    </tr>\n",
       "    <tr>\n",
       "      <th>2014-01-02</th>\n",
       "      <td>1.784018</td>\n",
       "      <td>-0.059849</td>\n",
       "      <td>0.305489</td>\n",
       "      <td>-1.134783</td>\n",
       "    </tr>\n",
       "    <tr>\n",
       "      <th>2014-01-03</th>\n",
       "      <td>-2.371349</td>\n",
       "      <td>0.620562</td>\n",
       "      <td>-0.366361</td>\n",
       "      <td>-0.262445</td>\n",
       "    </tr>\n",
       "    <tr>\n",
       "      <th>2014-01-04</th>\n",
       "      <td>-0.978137</td>\n",
       "      <td>0.503017</td>\n",
       "      <td>0.955091</td>\n",
       "      <td>-0.423483</td>\n",
       "    </tr>\n",
       "    <tr>\n",
       "      <th>2014-01-05</th>\n",
       "      <td>-0.993031</td>\n",
       "      <td>-0.862003</td>\n",
       "      <td>-0.836545</td>\n",
       "      <td>-1.420787</td>\n",
       "    </tr>\n",
       "    <tr>\n",
       "      <th>2014-01-06</th>\n",
       "      <td>-1.470173</td>\n",
       "      <td>0.530449</td>\n",
       "      <td>0.460020</td>\n",
       "      <td>0.073427</td>\n",
       "    </tr>\n",
       "  </tbody>\n",
       "</table>\n",
       "</div>"
      ],
      "text/plain": [
       "                   A         B         C         D\n",
       "2014-01-01 -0.057885 -0.002677  0.062784 -0.496724\n",
       "2014-01-02  1.784018 -0.059849  0.305489 -1.134783\n",
       "2014-01-03 -2.371349  0.620562 -0.366361 -0.262445\n",
       "2014-01-04 -0.978137  0.503017  0.955091 -0.423483\n",
       "2014-01-05 -0.993031 -0.862003 -0.836545 -1.420787\n",
       "2014-01-06 -1.470173  0.530449  0.460020  0.073427"
      ]
     },
     "execution_count": 109,
     "metadata": {},
     "output_type": "execute_result"
    }
   ],
   "source": [
    "df = pd.DataFrame(np.random.randn(6,4),\n",
    "                  index=dates,\n",
    "                  columns=list('ABCD'))\n",
    "df"
   ]
  },
  {
   "cell_type": "code",
   "execution_count": 110,
   "metadata": {
    "ExecuteTime": {
     "end_time": "2017-01-24T19:05:19.441074",
     "start_time": "2017-01-24T19:05:19.435154"
    },
    "collapsed": false
   },
   "outputs": [
    {
     "name": "stdout",
     "output_type": "stream",
     "text": [
      "<class 'pandas.core.frame.DataFrame'>\n",
      "DatetimeIndex: 6 entries, 2014-01-01 to 2014-01-06\n",
      "Freq: D\n",
      "Data columns (total 4 columns):\n",
      "A    6 non-null float64\n",
      "B    6 non-null float64\n",
      "C    6 non-null float64\n",
      "D    6 non-null float64\n",
      "dtypes: float64(4)\n",
      "memory usage: 240.0 bytes\n"
     ]
    }
   ],
   "source": [
    "df.info()"
   ]
  },
  {
   "cell_type": "code",
   "execution_count": 111,
   "metadata": {
    "ExecuteTime": {
     "end_time": "2017-01-24T19:05:19.453438",
     "start_time": "2017-01-24T19:05:19.442445"
    },
    "collapsed": false,
    "focus": false,
    "id": "8e7170fc-f502-45b0-b82a-bdac82dabf7e",
    "slideshow": {
     "slide_type": "subslide"
    }
   },
   "outputs": [
    {
     "data": {
      "text/html": [
       "<div>\n",
       "<table border=\"1\" class=\"dataframe\">\n",
       "  <thead>\n",
       "    <tr style=\"text-align: right;\">\n",
       "      <th></th>\n",
       "      <th>A</th>\n",
       "      <th>B</th>\n",
       "      <th>C</th>\n",
       "      <th>D</th>\n",
       "    </tr>\n",
       "  </thead>\n",
       "  <tbody>\n",
       "    <tr>\n",
       "      <th>2014-01-01</th>\n",
       "      <td>-0.057885</td>\n",
       "      <td>-0.002677</td>\n",
       "      <td>0.062784</td>\n",
       "      <td>-0.496724</td>\n",
       "    </tr>\n",
       "    <tr>\n",
       "      <th>2014-01-02</th>\n",
       "      <td>1.784018</td>\n",
       "      <td>-0.059849</td>\n",
       "      <td>0.305489</td>\n",
       "      <td>-1.134783</td>\n",
       "    </tr>\n",
       "    <tr>\n",
       "      <th>2014-01-03</th>\n",
       "      <td>-2.371349</td>\n",
       "      <td>0.620562</td>\n",
       "      <td>-0.366361</td>\n",
       "      <td>-0.262445</td>\n",
       "    </tr>\n",
       "    <tr>\n",
       "      <th>2014-01-04</th>\n",
       "      <td>-0.978137</td>\n",
       "      <td>0.503017</td>\n",
       "      <td>0.955091</td>\n",
       "      <td>-0.423483</td>\n",
       "    </tr>\n",
       "    <tr>\n",
       "      <th>2014-01-05</th>\n",
       "      <td>-0.993031</td>\n",
       "      <td>-0.862003</td>\n",
       "      <td>-0.836545</td>\n",
       "      <td>-1.420787</td>\n",
       "    </tr>\n",
       "    <tr>\n",
       "      <th>2014-01-06</th>\n",
       "      <td>-1.470173</td>\n",
       "      <td>0.530449</td>\n",
       "      <td>0.460020</td>\n",
       "      <td>0.073427</td>\n",
       "    </tr>\n",
       "  </tbody>\n",
       "</table>\n",
       "</div>"
      ],
      "text/plain": [
       "                   A         B         C         D\n",
       "2014-01-01 -0.057885 -0.002677  0.062784 -0.496724\n",
       "2014-01-02  1.784018 -0.059849  0.305489 -1.134783\n",
       "2014-01-03 -2.371349  0.620562 -0.366361 -0.262445\n",
       "2014-01-04 -0.978137  0.503017  0.955091 -0.423483\n",
       "2014-01-05 -0.993031 -0.862003 -0.836545 -1.420787\n",
       "2014-01-06 -1.470173  0.530449  0.460020  0.073427"
      ]
     },
     "execution_count": 111,
     "metadata": {},
     "output_type": "execute_result"
    }
   ],
   "source": [
    "# Index, columns, underlying numpy data\n",
    "df"
   ]
  },
  {
   "cell_type": "code",
   "execution_count": 112,
   "metadata": {
    "ExecuteTime": {
     "end_time": "2017-01-24T19:05:19.477727",
     "start_time": "2017-01-24T19:05:19.454947"
    },
    "collapsed": false
   },
   "outputs": [
    {
     "data": {
      "text/html": [
       "<div>\n",
       "<table border=\"1\" class=\"dataframe\">\n",
       "  <thead>\n",
       "    <tr style=\"text-align: right;\">\n",
       "      <th></th>\n",
       "      <th>2014-01-01 00:00:00</th>\n",
       "      <th>2014-01-02 00:00:00</th>\n",
       "      <th>2014-01-03 00:00:00</th>\n",
       "      <th>2014-01-04 00:00:00</th>\n",
       "      <th>2014-01-05 00:00:00</th>\n",
       "      <th>2014-01-06 00:00:00</th>\n",
       "    </tr>\n",
       "  </thead>\n",
       "  <tbody>\n",
       "    <tr>\n",
       "      <th>A</th>\n",
       "      <td>-0.057885</td>\n",
       "      <td>1.784018</td>\n",
       "      <td>-2.371349</td>\n",
       "      <td>-0.978137</td>\n",
       "      <td>-0.993031</td>\n",
       "      <td>-1.470173</td>\n",
       "    </tr>\n",
       "    <tr>\n",
       "      <th>B</th>\n",
       "      <td>-0.002677</td>\n",
       "      <td>-0.059849</td>\n",
       "      <td>0.620562</td>\n",
       "      <td>0.503017</td>\n",
       "      <td>-0.862003</td>\n",
       "      <td>0.530449</td>\n",
       "    </tr>\n",
       "    <tr>\n",
       "      <th>C</th>\n",
       "      <td>0.062784</td>\n",
       "      <td>0.305489</td>\n",
       "      <td>-0.366361</td>\n",
       "      <td>0.955091</td>\n",
       "      <td>-0.836545</td>\n",
       "      <td>0.460020</td>\n",
       "    </tr>\n",
       "    <tr>\n",
       "      <th>D</th>\n",
       "      <td>-0.496724</td>\n",
       "      <td>-1.134783</td>\n",
       "      <td>-0.262445</td>\n",
       "      <td>-0.423483</td>\n",
       "      <td>-1.420787</td>\n",
       "      <td>0.073427</td>\n",
       "    </tr>\n",
       "  </tbody>\n",
       "</table>\n",
       "</div>"
      ],
      "text/plain": [
       "   2014-01-01  2014-01-02  2014-01-03  2014-01-04  2014-01-05  2014-01-06\n",
       "A   -0.057885    1.784018   -2.371349   -0.978137   -0.993031   -1.470173\n",
       "B   -0.002677   -0.059849    0.620562    0.503017   -0.862003    0.530449\n",
       "C    0.062784    0.305489   -0.366361    0.955091   -0.836545    0.460020\n",
       "D   -0.496724   -1.134783   -0.262445   -0.423483   -1.420787    0.073427"
      ]
     },
     "execution_count": 112,
     "metadata": {},
     "output_type": "execute_result"
    }
   ],
   "source": [
    "df.transpose()"
   ]
  },
  {
   "cell_type": "code",
   "execution_count": 113,
   "metadata": {
    "ExecuteTime": {
     "end_time": "2017-01-24T19:05:19.484914",
     "start_time": "2017-01-24T19:05:19.479064"
    },
    "collapsed": false
   },
   "outputs": [
    {
     "data": {
      "text/plain": [
       "array([[-0.05788466, -0.00267663,  0.06278433, -0.49672443],\n",
       "       [ 1.78401772, -0.05984892,  0.30548898, -1.13478304],\n",
       "       [-2.37134898,  0.6205621 , -0.36636087, -0.26244467],\n",
       "       [-0.97813717,  0.50301656,  0.95509051, -0.42348261],\n",
       "       [-0.99303117, -0.86200303, -0.8365448 , -1.42078681],\n",
       "       [-1.47017333,  0.53044915,  0.46002047,  0.07342735]])"
      ]
     },
     "execution_count": 113,
     "metadata": {},
     "output_type": "execute_result"
    }
   ],
   "source": [
    "df.values"
   ]
  },
  {
   "cell_type": "markdown",
   "metadata": {},
   "source": [
    "### Let's create a new example"
   ]
  },
  {
   "cell_type": "code",
   "execution_count": 114,
   "metadata": {
    "ExecuteTime": {
     "end_time": "2017-01-24T19:05:19.513301",
     "start_time": "2017-01-24T19:05:19.487387"
    },
    "collapsed": false,
    "focus": false,
    "id": "0c3d9fa3-7522-4e18-8be5-74661547954f",
    "slideshow": {
     "slide_type": "subslide"
    }
   },
   "outputs": [
    {
     "data": {
      "text/html": [
       "<div>\n",
       "<table border=\"1\" class=\"dataframe\">\n",
       "  <thead>\n",
       "    <tr style=\"text-align: right;\">\n",
       "      <th></th>\n",
       "      <th>A</th>\n",
       "      <th>B</th>\n",
       "      <th>C</th>\n",
       "      <th>D</th>\n",
       "      <th>E</th>\n",
       "    </tr>\n",
       "  </thead>\n",
       "  <tbody>\n",
       "    <tr>\n",
       "      <th>0</th>\n",
       "      <td>1.0</td>\n",
       "      <td>2013-01-02</td>\n",
       "      <td>1.0</td>\n",
       "      <td>3</td>\n",
       "      <td>foo</td>\n",
       "    </tr>\n",
       "    <tr>\n",
       "      <th>1</th>\n",
       "      <td>1.0</td>\n",
       "      <td>2013-01-02</td>\n",
       "      <td>1.0</td>\n",
       "      <td>3</td>\n",
       "      <td>foo</td>\n",
       "    </tr>\n",
       "    <tr>\n",
       "      <th>2</th>\n",
       "      <td>1.0</td>\n",
       "      <td>2013-01-02</td>\n",
       "      <td>1.0</td>\n",
       "      <td>3</td>\n",
       "      <td>foo</td>\n",
       "    </tr>\n",
       "    <tr>\n",
       "      <th>3</th>\n",
       "      <td>1.0</td>\n",
       "      <td>2013-01-02</td>\n",
       "      <td>1.0</td>\n",
       "      <td>3</td>\n",
       "      <td>foo</td>\n",
       "    </tr>\n",
       "  </tbody>\n",
       "</table>\n",
       "</div>"
      ],
      "text/plain": [
       "     A          B    C  D    E\n",
       "0  1.0 2013-01-02  1.0  3  foo\n",
       "1  1.0 2013-01-02  1.0  3  foo\n",
       "2  1.0 2013-01-02  1.0  3  foo\n",
       "3  1.0 2013-01-02  1.0  3  foo"
      ]
     },
     "execution_count": 114,
     "metadata": {},
     "output_type": "execute_result"
    }
   ],
   "source": [
    "df2 = pd.DataFrame(\n",
    "    { 'A' : 1.,\n",
    "      'B' : pd.Timestamp('20130102'),\n",
    "      'C' : pd.Series(1,index=list(range(4)),dtype='float32'),\n",
    "      'D' : np.array([3] * 4,dtype='int32'),\n",
    "      'E' : 'foo' })\n",
    "\n",
    "\n",
    "df2"
   ]
  },
  {
   "cell_type": "code",
   "execution_count": 115,
   "metadata": {
    "ExecuteTime": {
     "end_time": "2017-01-24T19:05:19.522839",
     "start_time": "2017-01-24T19:05:19.515728"
    },
    "collapsed": false,
    "focus": false,
    "id": "4c3d6e0a-6a4f-48dd-87c8-71d94577f429",
    "slideshow": {
     "slide_type": "subslide"
    }
   },
   "outputs": [
    {
     "data": {
      "text/plain": [
       "A           float64\n",
       "B    datetime64[ns]\n",
       "C           float32\n",
       "D             int32\n",
       "E            object\n",
       "dtype: object"
      ]
     },
     "execution_count": 115,
     "metadata": {},
     "output_type": "execute_result"
    }
   ],
   "source": [
    "# With specific dtypes\n",
    "df2.dtypes"
   ]
  },
  {
   "cell_type": "markdown",
   "metadata": {
    "focus": false,
    "id": "2792318e-6f4c-4ae8-a937-1964456f91f8",
    "slideshow": {
     "slide_type": "slide"
    }
   },
   "source": [
    "#### Viewing Data"
   ]
  },
  {
   "cell_type": "code",
   "execution_count": 116,
   "metadata": {
    "ExecuteTime": {
     "end_time": "2017-01-24T19:05:19.538288",
     "start_time": "2017-01-24T19:05:19.525391"
    },
    "collapsed": false,
    "focus": false,
    "id": "dee84a01-9e14-4996-a334-502fd8234ad4",
    "slideshow": {
     "slide_type": "subslide"
    }
   },
   "outputs": [
    {
     "data": {
      "text/html": [
       "<div>\n",
       "<table border=\"1\" class=\"dataframe\">\n",
       "  <thead>\n",
       "    <tr style=\"text-align: right;\">\n",
       "      <th></th>\n",
       "      <th>A</th>\n",
       "      <th>B</th>\n",
       "      <th>C</th>\n",
       "      <th>D</th>\n",
       "    </tr>\n",
       "  </thead>\n",
       "  <tbody>\n",
       "    <tr>\n",
       "      <th>2014-01-01</th>\n",
       "      <td>-0.057885</td>\n",
       "      <td>-0.002677</td>\n",
       "      <td>0.062784</td>\n",
       "      <td>-0.496724</td>\n",
       "    </tr>\n",
       "    <tr>\n",
       "      <th>2014-01-02</th>\n",
       "      <td>1.784018</td>\n",
       "      <td>-0.059849</td>\n",
       "      <td>0.305489</td>\n",
       "      <td>-1.134783</td>\n",
       "    </tr>\n",
       "    <tr>\n",
       "      <th>2014-01-03</th>\n",
       "      <td>-2.371349</td>\n",
       "      <td>0.620562</td>\n",
       "      <td>-0.366361</td>\n",
       "      <td>-0.262445</td>\n",
       "    </tr>\n",
       "  </tbody>\n",
       "</table>\n",
       "</div>"
      ],
      "text/plain": [
       "                   A         B         C         D\n",
       "2014-01-01 -0.057885 -0.002677  0.062784 -0.496724\n",
       "2014-01-02  1.784018 -0.059849  0.305489 -1.134783\n",
       "2014-01-03 -2.371349  0.620562 -0.366361 -0.262445"
      ]
     },
     "execution_count": 116,
     "metadata": {},
     "output_type": "execute_result"
    }
   ],
   "source": [
    "df.head(3)"
   ]
  },
  {
   "cell_type": "code",
   "execution_count": 117,
   "metadata": {
    "ExecuteTime": {
     "end_time": "2017-01-24T19:05:19.554875",
     "start_time": "2017-01-24T19:05:19.540407"
    },
    "collapsed": false,
    "focus": false,
    "id": "791189f7-053a-44bd-b13c-2c6ba2cb4df5",
    "slideshow": {
     "slide_type": "fragment"
    }
   },
   "outputs": [
    {
     "data": {
      "text/html": [
       "<div>\n",
       "<table border=\"1\" class=\"dataframe\">\n",
       "  <thead>\n",
       "    <tr style=\"text-align: right;\">\n",
       "      <th></th>\n",
       "      <th>A</th>\n",
       "      <th>B</th>\n",
       "      <th>C</th>\n",
       "      <th>D</th>\n",
       "    </tr>\n",
       "  </thead>\n",
       "  <tbody>\n",
       "    <tr>\n",
       "      <th>2014-01-05</th>\n",
       "      <td>-0.993031</td>\n",
       "      <td>-0.862003</td>\n",
       "      <td>-0.836545</td>\n",
       "      <td>-1.420787</td>\n",
       "    </tr>\n",
       "    <tr>\n",
       "      <th>2014-01-06</th>\n",
       "      <td>-1.470173</td>\n",
       "      <td>0.530449</td>\n",
       "      <td>0.460020</td>\n",
       "      <td>0.073427</td>\n",
       "    </tr>\n",
       "  </tbody>\n",
       "</table>\n",
       "</div>"
      ],
      "text/plain": [
       "                   A         B         C         D\n",
       "2014-01-05 -0.993031 -0.862003 -0.836545 -1.420787\n",
       "2014-01-06 -1.470173  0.530449  0.460020  0.073427"
      ]
     },
     "execution_count": 117,
     "metadata": {},
     "output_type": "execute_result"
    }
   ],
   "source": [
    "df.tail(2)"
   ]
  },
  {
   "cell_type": "code",
   "execution_count": 118,
   "metadata": {
    "ExecuteTime": {
     "end_time": "2017-01-24T19:05:19.563769",
     "start_time": "2017-01-24T19:05:19.556902"
    },
    "collapsed": false,
    "focus": false,
    "id": "fc1c8091-670a-4f81-9d6f-158958c3b413",
    "slideshow": {
     "slide_type": "subslide"
    }
   },
   "outputs": [
    {
     "data": {
      "text/plain": [
       "DatetimeIndex(['2014-01-01', '2014-01-02', '2014-01-03', '2014-01-04',\n",
       "               '2014-01-05', '2014-01-06'],\n",
       "              dtype='datetime64[ns]', freq='D')"
      ]
     },
     "execution_count": 118,
     "metadata": {},
     "output_type": "execute_result"
    }
   ],
   "source": [
    "df.index"
   ]
  },
  {
   "cell_type": "code",
   "execution_count": 119,
   "metadata": {
    "ExecuteTime": {
     "end_time": "2017-01-24T19:05:19.572745",
     "start_time": "2017-01-24T19:05:19.566267"
    },
    "collapsed": false
   },
   "outputs": [
    {
     "data": {
      "text/plain": [
       "Index([u'A', u'B', u'C', u'D'], dtype='object')"
      ]
     },
     "execution_count": 119,
     "metadata": {},
     "output_type": "execute_result"
    }
   ],
   "source": [
    "df.columns # Note: columns are also of type 'Index'!"
   ]
  },
  {
   "cell_type": "markdown",
   "metadata": {},
   "source": [
    "#### Quick summary statistics"
   ]
  },
  {
   "cell_type": "code",
   "execution_count": 120,
   "metadata": {
    "ExecuteTime": {
     "end_time": "2017-01-24T19:05:19.611902",
     "start_time": "2017-01-24T19:05:19.575080"
    },
    "collapsed": false,
    "focus": false,
    "id": "337688a9-1ab9-4909-80c8-159cec177b2e",
    "slideshow": {
     "slide_type": "subslide"
    }
   },
   "outputs": [
    {
     "data": {
      "text/html": [
       "<div>\n",
       "<table border=\"1\" class=\"dataframe\">\n",
       "  <thead>\n",
       "    <tr style=\"text-align: right;\">\n",
       "      <th></th>\n",
       "      <th>A</th>\n",
       "      <th>B</th>\n",
       "      <th>C</th>\n",
       "      <th>D</th>\n",
       "    </tr>\n",
       "  </thead>\n",
       "  <tbody>\n",
       "    <tr>\n",
       "      <th>count</th>\n",
       "      <td>6.000000</td>\n",
       "      <td>6.000000</td>\n",
       "      <td>6.000000</td>\n",
       "      <td>6.000000</td>\n",
       "    </tr>\n",
       "    <tr>\n",
       "      <th>mean</th>\n",
       "      <td>-0.681093</td>\n",
       "      <td>0.121583</td>\n",
       "      <td>0.096746</td>\n",
       "      <td>-0.610799</td>\n",
       "    </tr>\n",
       "    <tr>\n",
       "      <th>std</th>\n",
       "      <td>1.423398</td>\n",
       "      <td>0.561684</td>\n",
       "      <td>0.632290</td>\n",
       "      <td>0.560046</td>\n",
       "    </tr>\n",
       "    <tr>\n",
       "      <th>min</th>\n",
       "      <td>-2.371349</td>\n",
       "      <td>-0.862003</td>\n",
       "      <td>-0.836545</td>\n",
       "      <td>-1.420787</td>\n",
       "    </tr>\n",
       "    <tr>\n",
       "      <th>0%</th>\n",
       "      <td>-2.371349</td>\n",
       "      <td>-0.862003</td>\n",
       "      <td>-0.836545</td>\n",
       "      <td>-1.420787</td>\n",
       "    </tr>\n",
       "    <tr>\n",
       "      <th>10%</th>\n",
       "      <td>-1.920761</td>\n",
       "      <td>-0.460926</td>\n",
       "      <td>-0.601453</td>\n",
       "      <td>-1.277785</td>\n",
       "    </tr>\n",
       "    <tr>\n",
       "      <th>20%</th>\n",
       "      <td>-1.470173</td>\n",
       "      <td>-0.059849</td>\n",
       "      <td>-0.366361</td>\n",
       "      <td>-1.134783</td>\n",
       "    </tr>\n",
       "    <tr>\n",
       "      <th>30.0%</th>\n",
       "      <td>-1.231602</td>\n",
       "      <td>-0.031263</td>\n",
       "      <td>-0.151788</td>\n",
       "      <td>-0.815754</td>\n",
       "    </tr>\n",
       "    <tr>\n",
       "      <th>40%</th>\n",
       "      <td>-0.993031</td>\n",
       "      <td>-0.002677</td>\n",
       "      <td>0.062784</td>\n",
       "      <td>-0.496724</td>\n",
       "    </tr>\n",
       "    <tr>\n",
       "      <th>50%</th>\n",
       "      <td>-0.985584</td>\n",
       "      <td>0.250170</td>\n",
       "      <td>0.184137</td>\n",
       "      <td>-0.460104</td>\n",
       "    </tr>\n",
       "    <tr>\n",
       "      <th>60.0%</th>\n",
       "      <td>-0.978137</td>\n",
       "      <td>0.503017</td>\n",
       "      <td>0.305489</td>\n",
       "      <td>-0.423483</td>\n",
       "    </tr>\n",
       "    <tr>\n",
       "      <th>70%</th>\n",
       "      <td>-0.518011</td>\n",
       "      <td>0.516733</td>\n",
       "      <td>0.382755</td>\n",
       "      <td>-0.342964</td>\n",
       "    </tr>\n",
       "    <tr>\n",
       "      <th>80%</th>\n",
       "      <td>-0.057885</td>\n",
       "      <td>0.530449</td>\n",
       "      <td>0.460020</td>\n",
       "      <td>-0.262445</td>\n",
       "    </tr>\n",
       "    <tr>\n",
       "      <th>90%</th>\n",
       "      <td>0.863067</td>\n",
       "      <td>0.575506</td>\n",
       "      <td>0.707555</td>\n",
       "      <td>-0.094509</td>\n",
       "    </tr>\n",
       "    <tr>\n",
       "      <th>max</th>\n",
       "      <td>1.784018</td>\n",
       "      <td>0.620562</td>\n",
       "      <td>0.955091</td>\n",
       "      <td>0.073427</td>\n",
       "    </tr>\n",
       "  </tbody>\n",
       "</table>\n",
       "</div>"
      ],
      "text/plain": [
       "              A         B         C         D\n",
       "count  6.000000  6.000000  6.000000  6.000000\n",
       "mean  -0.681093  0.121583  0.096746 -0.610799\n",
       "std    1.423398  0.561684  0.632290  0.560046\n",
       "min   -2.371349 -0.862003 -0.836545 -1.420787\n",
       "0%    -2.371349 -0.862003 -0.836545 -1.420787\n",
       "10%   -1.920761 -0.460926 -0.601453 -1.277785\n",
       "20%   -1.470173 -0.059849 -0.366361 -1.134783\n",
       "30.0% -1.231602 -0.031263 -0.151788 -0.815754\n",
       "40%   -0.993031 -0.002677  0.062784 -0.496724\n",
       "50%   -0.985584  0.250170  0.184137 -0.460104\n",
       "60.0% -0.978137  0.503017  0.305489 -0.423483\n",
       "70%   -0.518011  0.516733  0.382755 -0.342964\n",
       "80%   -0.057885  0.530449  0.460020 -0.262445\n",
       "90%    0.863067  0.575506  0.707555 -0.094509\n",
       "max    1.784018  0.620562  0.955091  0.073427"
      ]
     },
     "execution_count": 120,
     "metadata": {},
     "output_type": "execute_result"
    }
   ],
   "source": [
    "percentiles = np.arange(0, 1, 0.1)\n",
    "df.describe(percentiles=list(percentiles))"
   ]
  },
  {
   "cell_type": "code",
   "execution_count": 121,
   "metadata": {
    "ExecuteTime": {
     "end_time": "2017-01-24T19:05:19.627722",
     "start_time": "2017-01-24T19:05:19.613981"
    },
    "collapsed": false,
    "focus": false,
    "id": "29c9b7a6-9d06-4f3b-b9d5-6ebc09cd561f",
    "slideshow": {
     "slide_type": "subslide"
    }
   },
   "outputs": [
    {
     "data": {
      "text/html": [
       "<div>\n",
       "<table border=\"1\" class=\"dataframe\">\n",
       "  <thead>\n",
       "    <tr style=\"text-align: right;\">\n",
       "      <th></th>\n",
       "      <th>A</th>\n",
       "      <th>B</th>\n",
       "      <th>C</th>\n",
       "      <th>D</th>\n",
       "    </tr>\n",
       "  </thead>\n",
       "  <tbody>\n",
       "    <tr>\n",
       "      <th>2014-01-03</th>\n",
       "      <td>-2.371349</td>\n",
       "      <td>0.620562</td>\n",
       "      <td>-0.366361</td>\n",
       "      <td>-0.262445</td>\n",
       "    </tr>\n",
       "    <tr>\n",
       "      <th>2014-01-06</th>\n",
       "      <td>-1.470173</td>\n",
       "      <td>0.530449</td>\n",
       "      <td>0.460020</td>\n",
       "      <td>0.073427</td>\n",
       "    </tr>\n",
       "    <tr>\n",
       "      <th>2014-01-04</th>\n",
       "      <td>-0.978137</td>\n",
       "      <td>0.503017</td>\n",
       "      <td>0.955091</td>\n",
       "      <td>-0.423483</td>\n",
       "    </tr>\n",
       "    <tr>\n",
       "      <th>2014-01-01</th>\n",
       "      <td>-0.057885</td>\n",
       "      <td>-0.002677</td>\n",
       "      <td>0.062784</td>\n",
       "      <td>-0.496724</td>\n",
       "    </tr>\n",
       "    <tr>\n",
       "      <th>2014-01-02</th>\n",
       "      <td>1.784018</td>\n",
       "      <td>-0.059849</td>\n",
       "      <td>0.305489</td>\n",
       "      <td>-1.134783</td>\n",
       "    </tr>\n",
       "    <tr>\n",
       "      <th>2014-01-05</th>\n",
       "      <td>-0.993031</td>\n",
       "      <td>-0.862003</td>\n",
       "      <td>-0.836545</td>\n",
       "      <td>-1.420787</td>\n",
       "    </tr>\n",
       "  </tbody>\n",
       "</table>\n",
       "</div>"
      ],
      "text/plain": [
       "                   A         B         C         D\n",
       "2014-01-03 -2.371349  0.620562 -0.366361 -0.262445\n",
       "2014-01-06 -1.470173  0.530449  0.460020  0.073427\n",
       "2014-01-04 -0.978137  0.503017  0.955091 -0.423483\n",
       "2014-01-01 -0.057885 -0.002677  0.062784 -0.496724\n",
       "2014-01-02  1.784018 -0.059849  0.305489 -1.134783\n",
       "2014-01-05 -0.993031 -0.862003 -0.836545 -1.420787"
      ]
     },
     "execution_count": 121,
     "metadata": {},
     "output_type": "execute_result"
    }
   ],
   "source": [
    "df.sort_values(by=['B', 'D'], ascending=False)"
   ]
  },
  {
   "cell_type": "markdown",
   "metadata": {
    "focus": false,
    "id": "1440616a-c3e7-4b5c-aec3-3705d76429cd",
    "slideshow": {
     "slide_type": "slide"
    }
   },
   "source": [
    "### Selection"
   ]
  },
  {
   "cell_type": "code",
   "execution_count": 122,
   "metadata": {
    "ExecuteTime": {
     "end_time": "2017-01-24T19:05:19.635700",
     "start_time": "2017-01-24T19:05:19.629709"
    },
    "collapsed": false,
    "focus": false,
    "id": "7825e53c-bd40-4027-9581-42d8f5aafa93",
    "slideshow": {
     "slide_type": "subslide"
    }
   },
   "outputs": [
    {
     "data": {
      "text/plain": [
       "pandas.core.series.Series"
      ]
     },
     "execution_count": 122,
     "metadata": {},
     "output_type": "execute_result"
    }
   ],
   "source": [
    "type(df['A'])"
   ]
  },
  {
   "cell_type": "code",
   "execution_count": 123,
   "metadata": {
    "ExecuteTime": {
     "end_time": "2017-01-24T19:05:19.644574",
     "start_time": "2017-01-24T19:05:19.637644"
    },
    "collapsed": false
   },
   "outputs": [
    {
     "data": {
      "text/plain": [
       "pandas.core.frame.DataFrame"
      ]
     },
     "execution_count": 123,
     "metadata": {},
     "output_type": "execute_result"
    }
   ],
   "source": [
    "type(df[['A']]) # Careful! Get different type depending on selection"
   ]
  },
  {
   "cell_type": "code",
   "execution_count": 124,
   "metadata": {
    "ExecuteTime": {
     "end_time": "2017-01-24T19:05:19.655909",
     "start_time": "2017-01-24T19:05:19.648063"
    },
    "collapsed": false
   },
   "outputs": [
    {
     "data": {
      "text/plain": [
       "(6, 1)"
      ]
     },
     "execution_count": 124,
     "metadata": {},
     "output_type": "execute_result"
    }
   ],
   "source": [
    "df[['A']].shape"
   ]
  },
  {
   "cell_type": "code",
   "execution_count": 125,
   "metadata": {
    "ExecuteTime": {
     "end_time": "2017-01-24T19:05:19.671639",
     "start_time": "2017-01-24T19:05:19.657307"
    },
    "collapsed": false,
    "focus": false,
    "id": "817868ae-d7df-425b-9368-e1b3c86a21d1",
    "slideshow": {
     "slide_type": "subslide"
    }
   },
   "outputs": [
    {
     "data": {
      "text/html": [
       "<div>\n",
       "<table border=\"1\" class=\"dataframe\">\n",
       "  <thead>\n",
       "    <tr style=\"text-align: right;\">\n",
       "      <th></th>\n",
       "      <th>A</th>\n",
       "      <th>B</th>\n",
       "      <th>C</th>\n",
       "      <th>D</th>\n",
       "    </tr>\n",
       "  </thead>\n",
       "  <tbody>\n",
       "    <tr>\n",
       "      <th>2014-01-01</th>\n",
       "      <td>-0.057885</td>\n",
       "      <td>-0.002677</td>\n",
       "      <td>0.062784</td>\n",
       "      <td>-0.496724</td>\n",
       "    </tr>\n",
       "    <tr>\n",
       "      <th>2014-01-02</th>\n",
       "      <td>1.784018</td>\n",
       "      <td>-0.059849</td>\n",
       "      <td>0.305489</td>\n",
       "      <td>-1.134783</td>\n",
       "    </tr>\n",
       "    <tr>\n",
       "      <th>2014-01-03</th>\n",
       "      <td>-2.371349</td>\n",
       "      <td>0.620562</td>\n",
       "      <td>-0.366361</td>\n",
       "      <td>-0.262445</td>\n",
       "    </tr>\n",
       "  </tbody>\n",
       "</table>\n",
       "</div>"
      ],
      "text/plain": [
       "                   A         B         C         D\n",
       "2014-01-01 -0.057885 -0.002677  0.062784 -0.496724\n",
       "2014-01-02  1.784018 -0.059849  0.305489 -1.134783\n",
       "2014-01-03 -2.371349  0.620562 -0.366361 -0.262445"
      ]
     },
     "execution_count": 125,
     "metadata": {},
     "output_type": "execute_result"
    }
   ],
   "source": [
    "df[0:3]"
   ]
  },
  {
   "cell_type": "code",
   "execution_count": 126,
   "metadata": {
    "ExecuteTime": {
     "end_time": "2017-01-24T19:05:19.679195",
     "start_time": "2017-01-24T19:05:19.673887"
    },
    "collapsed": false,
    "focus": false,
    "id": "dcf6444e-ae7d-4058-abb0-5046d16733d2",
    "slideshow": {
     "slide_type": "subslide"
    }
   },
   "outputs": [
    {
     "data": {
      "text/plain": [
       "Timestamp('2014-01-03 00:00:00', freq='D')"
      ]
     },
     "execution_count": 126,
     "metadata": {},
     "output_type": "execute_result"
    }
   ],
   "source": [
    "# By label\n",
    "dates[2]"
   ]
  },
  {
   "cell_type": "code",
   "execution_count": 127,
   "metadata": {
    "ExecuteTime": {
     "end_time": "2017-01-24T19:05:19.685463",
     "start_time": "2017-01-24T19:05:19.680666"
    },
    "collapsed": false
   },
   "outputs": [
    {
     "data": {
      "text/plain": [
       "A   -2.371349\n",
       "B    0.620562\n",
       "C   -0.366361\n",
       "D   -0.262445\n",
       "Name: 2014-01-03 00:00:00, dtype: float64"
      ]
     },
     "execution_count": 127,
     "metadata": {},
     "output_type": "execute_result"
    }
   ],
   "source": [
    "df.loc[dates[2]] # Select the first row, get back a pd.Series"
   ]
  },
  {
   "cell_type": "code",
   "execution_count": 128,
   "metadata": {
    "ExecuteTime": {
     "end_time": "2017-01-24T19:05:19.698431",
     "start_time": "2017-01-24T19:05:19.687131"
    },
    "collapsed": false,
    "focus": false,
    "id": "da51e123-4546-4c14-bdcc-969751f1991e",
    "slideshow": {
     "slide_type": "fragment"
    }
   },
   "outputs": [
    {
     "data": {
      "text/html": [
       "<div>\n",
       "<table border=\"1\" class=\"dataframe\">\n",
       "  <thead>\n",
       "    <tr style=\"text-align: right;\">\n",
       "      <th></th>\n",
       "      <th>A</th>\n",
       "      <th>D</th>\n",
       "    </tr>\n",
       "  </thead>\n",
       "  <tbody>\n",
       "    <tr>\n",
       "      <th>2014-01-01</th>\n",
       "      <td>-0.057885</td>\n",
       "      <td>-0.496724</td>\n",
       "    </tr>\n",
       "    <tr>\n",
       "      <th>2014-01-02</th>\n",
       "      <td>1.784018</td>\n",
       "      <td>-1.134783</td>\n",
       "    </tr>\n",
       "    <tr>\n",
       "      <th>2014-01-03</th>\n",
       "      <td>-2.371349</td>\n",
       "      <td>-0.262445</td>\n",
       "    </tr>\n",
       "    <tr>\n",
       "      <th>2014-01-04</th>\n",
       "      <td>-0.978137</td>\n",
       "      <td>-0.423483</td>\n",
       "    </tr>\n",
       "    <tr>\n",
       "      <th>2014-01-05</th>\n",
       "      <td>-0.993031</td>\n",
       "      <td>-1.420787</td>\n",
       "    </tr>\n",
       "    <tr>\n",
       "      <th>2014-01-06</th>\n",
       "      <td>-1.470173</td>\n",
       "      <td>0.073427</td>\n",
       "    </tr>\n",
       "  </tbody>\n",
       "</table>\n",
       "</div>"
      ],
      "text/plain": [
       "                   A         D\n",
       "2014-01-01 -0.057885 -0.496724\n",
       "2014-01-02  1.784018 -1.134783\n",
       "2014-01-03 -2.371349 -0.262445\n",
       "2014-01-04 -0.978137 -0.423483\n",
       "2014-01-05 -0.993031 -1.420787\n",
       "2014-01-06 -1.470173  0.073427"
      ]
     },
     "execution_count": 128,
     "metadata": {},
     "output_type": "execute_result"
    }
   ],
   "source": [
    "# multi-axis by label\n",
    "df.loc[:,['A','D']]"
   ]
  },
  {
   "cell_type": "code",
   "execution_count": 129,
   "metadata": {
    "ExecuteTime": {
     "end_time": "2017-01-24T19:05:19.708404",
     "start_time": "2017-01-24T19:05:19.699770"
    },
    "collapsed": false,
    "focus": false,
    "id": "e3e52e42-a7f3-4298-80ae-d4554764b9fe",
    "slideshow": {
     "slide_type": "fragment"
    }
   },
   "outputs": [
    {
     "data": {
      "text/html": [
       "<div>\n",
       "<table border=\"1\" class=\"dataframe\">\n",
       "  <thead>\n",
       "    <tr style=\"text-align: right;\">\n",
       "      <th></th>\n",
       "      <th>B</th>\n",
       "      <th>D</th>\n",
       "    </tr>\n",
       "  </thead>\n",
       "  <tbody>\n",
       "    <tr>\n",
       "      <th>2014-01-02</th>\n",
       "      <td>-0.059849</td>\n",
       "      <td>-1.134783</td>\n",
       "    </tr>\n",
       "    <tr>\n",
       "      <th>2014-01-03</th>\n",
       "      <td>0.620562</td>\n",
       "      <td>-0.262445</td>\n",
       "    </tr>\n",
       "    <tr>\n",
       "      <th>2014-01-04</th>\n",
       "      <td>0.503017</td>\n",
       "      <td>-0.423483</td>\n",
       "    </tr>\n",
       "  </tbody>\n",
       "</table>\n",
       "</div>"
      ],
      "text/plain": [
       "                   B         D\n",
       "2014-01-02 -0.059849 -1.134783\n",
       "2014-01-03  0.620562 -0.262445\n",
       "2014-01-04  0.503017 -0.423483"
      ]
     },
     "execution_count": 129,
     "metadata": {},
     "output_type": "execute_result"
    }
   ],
   "source": [
    "# Date Range\n",
    "df.loc['20140102':'20140104',['B', 'D']]"
   ]
  },
  {
   "cell_type": "code",
   "execution_count": 130,
   "metadata": {
    "ExecuteTime": {
     "end_time": "2017-01-24T19:05:19.713905",
     "start_time": "2017-01-24T19:05:19.709863"
    },
    "collapsed": false,
    "focus": false,
    "id": "6ec7d13c-1a41-4358-bbd3-742f6253b497",
    "slideshow": {
     "slide_type": "fragment"
    }
   },
   "outputs": [
    {
     "data": {
      "text/plain": [
       "-0.059848924886500808"
      ]
     },
     "execution_count": 130,
     "metadata": {},
     "output_type": "execute_result"
    }
   ],
   "source": [
    "# Fast access to scalar\n",
    "df.at[dates[1],'B']"
   ]
  },
  {
   "cell_type": "code",
   "execution_count": 131,
   "metadata": {
    "ExecuteTime": {
     "end_time": "2017-01-24T19:05:19.725507",
     "start_time": "2017-01-24T19:05:19.715273"
    },
    "collapsed": false,
    "focus": false,
    "id": "42f70279-ecea-4460-872c-95949b247caf",
    "slideshow": {
     "slide_type": "fragment"
    }
   },
   "outputs": [
    {
     "data": {
      "text/html": [
       "<div>\n",
       "<table border=\"1\" class=\"dataframe\">\n",
       "  <thead>\n",
       "    <tr style=\"text-align: right;\">\n",
       "      <th></th>\n",
       "      <th>A</th>\n",
       "      <th>B</th>\n",
       "      <th>C</th>\n",
       "      <th>D</th>\n",
       "    </tr>\n",
       "  </thead>\n",
       "  <tbody>\n",
       "    <tr>\n",
       "      <th>2014-01-04</th>\n",
       "      <td>-0.978137</td>\n",
       "      <td>0.503017</td>\n",
       "      <td>0.955091</td>\n",
       "      <td>-0.423483</td>\n",
       "    </tr>\n",
       "    <tr>\n",
       "      <th>2014-01-05</th>\n",
       "      <td>-0.993031</td>\n",
       "      <td>-0.862003</td>\n",
       "      <td>-0.836545</td>\n",
       "      <td>-1.420787</td>\n",
       "    </tr>\n",
       "    <tr>\n",
       "      <th>2014-01-06</th>\n",
       "      <td>-1.470173</td>\n",
       "      <td>0.530449</td>\n",
       "      <td>0.460020</td>\n",
       "      <td>0.073427</td>\n",
       "    </tr>\n",
       "  </tbody>\n",
       "</table>\n",
       "</div>"
      ],
      "text/plain": [
       "                   A         B         C         D\n",
       "2014-01-04 -0.978137  0.503017  0.955091 -0.423483\n",
       "2014-01-05 -0.993031 -0.862003 -0.836545 -1.420787\n",
       "2014-01-06 -1.470173  0.530449  0.460020  0.073427"
      ]
     },
     "execution_count": 131,
     "metadata": {},
     "output_type": "execute_result"
    }
   ],
   "source": [
    "# iloc provides integer locations similar to np style\n",
    "df.iloc[3:]"
   ]
  },
  {
   "cell_type": "markdown",
   "metadata": {
    "focus": false,
    "id": "16735d8f-3712-42a2-bd0e-8cd141fbe232",
    "slideshow": {
     "slide_type": "subslide"
    }
   },
   "source": [
    "### Boolean Indexing"
   ]
  },
  {
   "cell_type": "code",
   "execution_count": 137,
   "metadata": {
    "ExecuteTime": {
     "end_time": "2017-01-24T19:06:23.666240",
     "start_time": "2017-01-24T19:06:23.651800"
    },
    "collapsed": false,
    "focus": false,
    "id": "a0af5955-c7e0-4d83-aea2-1972b21b8974",
    "slideshow": {
     "slide_type": "fragment"
    }
   },
   "outputs": [
    {
     "data": {
      "text/plain": [
       "2014-01-01    False\n",
       "2014-01-02     True\n",
       "2014-01-03    False\n",
       "2014-01-04    False\n",
       "2014-01-05    False\n",
       "2014-01-06    False\n",
       "Freq: D, Name: A, dtype: bool"
      ]
     },
     "execution_count": 137,
     "metadata": {},
     "output_type": "execute_result"
    }
   ],
   "source": [
    "df[(df.A > 0) & (df.B<0)] # Basically a 'where' operation"
   ]
  },
  {
   "cell_type": "markdown",
   "metadata": {
    "focus": false,
    "id": "c22c86db-8892-4337-b70f-5e849ee63daa",
    "slideshow": {
     "slide_type": "subslide"
    }
   },
   "source": [
    "### Setting"
   ]
  },
  {
   "cell_type": "code",
   "execution_count": 83,
   "metadata": {
    "ExecuteTime": {
     "end_time": "2017-01-19T21:23:49.660709",
     "start_time": "2017-01-19T21:23:49.656025"
    },
    "collapsed": false,
    "focus": false,
    "id": "8d65e283-2ba8-43c1-ba16-e69da80b51b9",
    "slideshow": {
     "slide_type": "fragment"
    }
   },
   "outputs": [],
   "source": [
    "df_posA = df.copy() # Without \"copy\" it would act on the dataset\n",
    "df_posA[df_posA.A < 0] = 4 # Converting negative values in 'A' to positive"
   ]
  },
  {
   "cell_type": "code",
   "execution_count": 84,
   "metadata": {
    "ExecuteTime": {
     "end_time": "2017-01-19T21:23:51.494879",
     "start_time": "2017-01-19T21:23:51.482336"
    },
    "collapsed": false,
    "focus": false,
    "id": "ce51651b-1c4a-4a02-8e84-6a938c5c7a4c",
    "slideshow": {
     "slide_type": "fragment"
    }
   },
   "outputs": [
    {
     "data": {
      "text/html": [
       "<div>\n",
       "<table border=\"1\" class=\"dataframe\">\n",
       "  <thead>\n",
       "    <tr style=\"text-align: right;\">\n",
       "      <th></th>\n",
       "      <th>A</th>\n",
       "      <th>B</th>\n",
       "      <th>C</th>\n",
       "      <th>D</th>\n",
       "    </tr>\n",
       "  </thead>\n",
       "  <tbody>\n",
       "    <tr>\n",
       "      <th>2014-01-01</th>\n",
       "      <td>0.572099</td>\n",
       "      <td>0.595710</td>\n",
       "      <td>0.206655</td>\n",
       "      <td>0.112041</td>\n",
       "    </tr>\n",
       "    <tr>\n",
       "      <th>2014-01-02</th>\n",
       "      <td>1.033703</td>\n",
       "      <td>-0.258843</td>\n",
       "      <td>0.805425</td>\n",
       "      <td>-0.856877</td>\n",
       "    </tr>\n",
       "    <tr>\n",
       "      <th>2014-01-03</th>\n",
       "      <td>0.734361</td>\n",
       "      <td>-0.462281</td>\n",
       "      <td>0.829300</td>\n",
       "      <td>0.369035</td>\n",
       "    </tr>\n",
       "    <tr>\n",
       "      <th>2014-01-04</th>\n",
       "      <td>4.000000</td>\n",
       "      <td>4.000000</td>\n",
       "      <td>4.000000</td>\n",
       "      <td>4.000000</td>\n",
       "    </tr>\n",
       "    <tr>\n",
       "      <th>2014-01-05</th>\n",
       "      <td>2.238950</td>\n",
       "      <td>-0.465874</td>\n",
       "      <td>0.111973</td>\n",
       "      <td>0.537845</td>\n",
       "    </tr>\n",
       "    <tr>\n",
       "      <th>2014-01-06</th>\n",
       "      <td>1.519169</td>\n",
       "      <td>-1.849505</td>\n",
       "      <td>0.506451</td>\n",
       "      <td>0.082213</td>\n",
       "    </tr>\n",
       "  </tbody>\n",
       "</table>\n",
       "</div>"
      ],
      "text/plain": [
       "                   A         B         C         D\n",
       "2014-01-01  0.572099  0.595710  0.206655  0.112041\n",
       "2014-01-02  1.033703 -0.258843  0.805425 -0.856877\n",
       "2014-01-03  0.734361 -0.462281  0.829300  0.369035\n",
       "2014-01-04  4.000000  4.000000  4.000000  4.000000\n",
       "2014-01-05  2.238950 -0.465874  0.111973  0.537845\n",
       "2014-01-06  1.519169 -1.849505  0.506451  0.082213"
      ]
     },
     "execution_count": 84,
     "metadata": {},
     "output_type": "execute_result"
    }
   ],
   "source": [
    "df_posA"
   ]
  },
  {
   "cell_type": "code",
   "execution_count": 85,
   "metadata": {
    "ExecuteTime": {
     "end_time": "2017-01-19T21:24:05.706756",
     "start_time": "2017-01-19T21:24:05.702825"
    },
    "collapsed": false,
    "focus": false,
    "id": "f45e9be0-2c20-4d49-b167-911f076a00b2",
    "slideshow": {
     "slide_type": "subslide"
    }
   },
   "outputs": [],
   "source": [
    "#Setting new column  - auto aligns data by index\n",
    "s1 = pd.Series([1,2,3,4,5,6],index=pd.date_range('20140102',periods=6))"
   ]
  },
  {
   "cell_type": "code",
   "execution_count": 86,
   "metadata": {
    "ExecuteTime": {
     "end_time": "2017-01-19T21:24:06.779577",
     "start_time": "2017-01-19T21:24:06.766700"
    },
    "collapsed": false,
    "focus": false,
    "id": "12df6591-5940-4198-a7f9-9f7563afc75b",
    "slideshow": {
     "slide_type": "fragment"
    }
   },
   "outputs": [
    {
     "data": {
      "text/plain": [
       "2014-01-02    1\n",
       "2014-01-03    2\n",
       "2014-01-04    3\n",
       "2014-01-05    4\n",
       "2014-01-06    5\n",
       "2014-01-07    6\n",
       "Freq: D, dtype: int64"
      ]
     },
     "execution_count": 86,
     "metadata": {},
     "output_type": "execute_result"
    }
   ],
   "source": [
    "s1"
   ]
  },
  {
   "cell_type": "code",
   "execution_count": 87,
   "metadata": {
    "ExecuteTime": {
     "end_time": "2017-01-19T21:24:08.563043",
     "start_time": "2017-01-19T21:24:08.558824"
    },
    "collapsed": false,
    "focus": false,
    "id": "7281af7b-395f-417b-aa07-c53a26591fc7",
    "slideshow": {
     "slide_type": "fragment"
    }
   },
   "outputs": [],
   "source": [
    "df['F'] = s1"
   ]
  },
  {
   "cell_type": "code",
   "execution_count": 88,
   "metadata": {
    "ExecuteTime": {
     "end_time": "2017-01-19T21:24:10.523038",
     "start_time": "2017-01-19T21:24:10.510546"
    },
    "collapsed": false,
    "focus": false,
    "id": "d41dfe6d-025f-4078-a33b-3e7e0ea0d1dc",
    "slideshow": {
     "slide_type": "fragment"
    }
   },
   "outputs": [
    {
     "data": {
      "text/html": [
       "<div>\n",
       "<table border=\"1\" class=\"dataframe\">\n",
       "  <thead>\n",
       "    <tr style=\"text-align: right;\">\n",
       "      <th></th>\n",
       "      <th>A</th>\n",
       "      <th>B</th>\n",
       "      <th>C</th>\n",
       "      <th>D</th>\n",
       "      <th>F</th>\n",
       "    </tr>\n",
       "  </thead>\n",
       "  <tbody>\n",
       "    <tr>\n",
       "      <th>2014-01-01</th>\n",
       "      <td>0.572099</td>\n",
       "      <td>0.595710</td>\n",
       "      <td>0.206655</td>\n",
       "      <td>0.112041</td>\n",
       "      <td>NaN</td>\n",
       "    </tr>\n",
       "    <tr>\n",
       "      <th>2014-01-02</th>\n",
       "      <td>1.033703</td>\n",
       "      <td>-0.258843</td>\n",
       "      <td>0.805425</td>\n",
       "      <td>-0.856877</td>\n",
       "      <td>1.0</td>\n",
       "    </tr>\n",
       "    <tr>\n",
       "      <th>2014-01-03</th>\n",
       "      <td>0.734361</td>\n",
       "      <td>-0.462281</td>\n",
       "      <td>0.829300</td>\n",
       "      <td>0.369035</td>\n",
       "      <td>2.0</td>\n",
       "    </tr>\n",
       "    <tr>\n",
       "      <th>2014-01-04</th>\n",
       "      <td>-0.677368</td>\n",
       "      <td>-2.005667</td>\n",
       "      <td>-1.579533</td>\n",
       "      <td>1.265836</td>\n",
       "      <td>3.0</td>\n",
       "    </tr>\n",
       "    <tr>\n",
       "      <th>2014-01-05</th>\n",
       "      <td>2.238950</td>\n",
       "      <td>-0.465874</td>\n",
       "      <td>0.111973</td>\n",
       "      <td>0.537845</td>\n",
       "      <td>4.0</td>\n",
       "    </tr>\n",
       "    <tr>\n",
       "      <th>2014-01-06</th>\n",
       "      <td>1.519169</td>\n",
       "      <td>-1.849505</td>\n",
       "      <td>0.506451</td>\n",
       "      <td>0.082213</td>\n",
       "      <td>5.0</td>\n",
       "    </tr>\n",
       "  </tbody>\n",
       "</table>\n",
       "</div>"
      ],
      "text/plain": [
       "                   A         B         C         D    F\n",
       "2014-01-01  0.572099  0.595710  0.206655  0.112041  NaN\n",
       "2014-01-02  1.033703 -0.258843  0.805425 -0.856877  1.0\n",
       "2014-01-03  0.734361 -0.462281  0.829300  0.369035  2.0\n",
       "2014-01-04 -0.677368 -2.005667 -1.579533  1.265836  3.0\n",
       "2014-01-05  2.238950 -0.465874  0.111973  0.537845  4.0\n",
       "2014-01-06  1.519169 -1.849505  0.506451  0.082213  5.0"
      ]
     },
     "execution_count": 88,
     "metadata": {},
     "output_type": "execute_result"
    }
   ],
   "source": [
    "df # Note missing value in first row for column 'F'!"
   ]
  },
  {
   "cell_type": "markdown",
   "metadata": {
    "focus": false,
    "id": "203fd0e7-9ad9-4dcc-8167-72bd28e7a029",
    "slideshow": {
     "slide_type": "slide"
    }
   },
   "source": [
    "### Missing Data"
   ]
  },
  {
   "cell_type": "code",
   "execution_count": 89,
   "metadata": {
    "ExecuteTime": {
     "end_time": "2017-01-19T21:25:05.942223",
     "start_time": "2017-01-19T21:25:05.937144"
    },
    "collapsed": false,
    "focus": false,
    "id": "98b7be6a-8d81-4c29-9439-2b5c5fae1dce",
    "slideshow": {
     "slide_type": "subslide"
    }
   },
   "outputs": [],
   "source": [
    "# Add a column with missing data (on subset of df, just rows [0:4])\n",
    "df1 = df.reindex(index=dates[0:4],columns=list(df.columns) + ['E'])"
   ]
  },
  {
   "cell_type": "code",
   "execution_count": 90,
   "metadata": {
    "ExecuteTime": {
     "end_time": "2017-01-19T21:25:07.995930",
     "start_time": "2017-01-19T21:25:07.992443"
    },
    "collapsed": false,
    "focus": false,
    "id": "e13067da-23ce-440f-9e0d-693e4e5565c2",
    "slideshow": {
     "slide_type": "subslide"
    }
   },
   "outputs": [],
   "source": [
    "df1.loc[dates[0]:dates[1],'E'] = 1"
   ]
  },
  {
   "cell_type": "code",
   "execution_count": 91,
   "metadata": {
    "ExecuteTime": {
     "end_time": "2017-01-19T21:25:09.311169",
     "start_time": "2017-01-19T21:25:09.297392"
    },
    "collapsed": false,
    "focus": false,
    "id": "24e2f95e-75dc-42ed-93fb-8fae3e9623a6",
    "slideshow": {
     "slide_type": "fragment"
    }
   },
   "outputs": [
    {
     "data": {
      "text/html": [
       "<div>\n",
       "<table border=\"1\" class=\"dataframe\">\n",
       "  <thead>\n",
       "    <tr style=\"text-align: right;\">\n",
       "      <th></th>\n",
       "      <th>A</th>\n",
       "      <th>B</th>\n",
       "      <th>C</th>\n",
       "      <th>D</th>\n",
       "      <th>F</th>\n",
       "      <th>E</th>\n",
       "    </tr>\n",
       "  </thead>\n",
       "  <tbody>\n",
       "    <tr>\n",
       "      <th>2014-01-01</th>\n",
       "      <td>0.572099</td>\n",
       "      <td>0.595710</td>\n",
       "      <td>0.206655</td>\n",
       "      <td>0.112041</td>\n",
       "      <td>NaN</td>\n",
       "      <td>1.0</td>\n",
       "    </tr>\n",
       "    <tr>\n",
       "      <th>2014-01-02</th>\n",
       "      <td>1.033703</td>\n",
       "      <td>-0.258843</td>\n",
       "      <td>0.805425</td>\n",
       "      <td>-0.856877</td>\n",
       "      <td>1.0</td>\n",
       "      <td>1.0</td>\n",
       "    </tr>\n",
       "    <tr>\n",
       "      <th>2014-01-03</th>\n",
       "      <td>0.734361</td>\n",
       "      <td>-0.462281</td>\n",
       "      <td>0.829300</td>\n",
       "      <td>0.369035</td>\n",
       "      <td>2.0</td>\n",
       "      <td>NaN</td>\n",
       "    </tr>\n",
       "    <tr>\n",
       "      <th>2014-01-04</th>\n",
       "      <td>-0.677368</td>\n",
       "      <td>-2.005667</td>\n",
       "      <td>-1.579533</td>\n",
       "      <td>1.265836</td>\n",
       "      <td>3.0</td>\n",
       "      <td>NaN</td>\n",
       "    </tr>\n",
       "  </tbody>\n",
       "</table>\n",
       "</div>"
      ],
      "text/plain": [
       "                   A         B         C         D    F    E\n",
       "2014-01-01  0.572099  0.595710  0.206655  0.112041  NaN  1.0\n",
       "2014-01-02  1.033703 -0.258843  0.805425 -0.856877  1.0  1.0\n",
       "2014-01-03  0.734361 -0.462281  0.829300  0.369035  2.0  NaN\n",
       "2014-01-04 -0.677368 -2.005667 -1.579533  1.265836  3.0  NaN"
      ]
     },
     "execution_count": 91,
     "metadata": {},
     "output_type": "execute_result"
    }
   ],
   "source": [
    "df1"
   ]
  },
  {
   "cell_type": "code",
   "execution_count": null,
   "metadata": {
    "collapsed": false,
    "focus": false,
    "id": "3521940b-df04-432a-9cfc-18a1353d9652",
    "slideshow": {
     "slide_type": "subslide"
    }
   },
   "outputs": [],
   "source": [
    "# find where values are null\n",
    "pd.isnull(df1)"
   ]
  },
  {
   "cell_type": "markdown",
   "metadata": {
    "focus": false,
    "id": "74c34377-4b13-4562-9ef5-35ab50ee0a52",
    "slideshow": {
     "slide_type": "slide"
    }
   },
   "source": [
    "### Operations"
   ]
  },
  {
   "cell_type": "code",
   "execution_count": 92,
   "metadata": {
    "ExecuteTime": {
     "end_time": "2017-01-19T21:25:22.629779",
     "start_time": "2017-01-19T21:25:22.608671"
    },
    "collapsed": false,
    "focus": false,
    "id": "98905902-a6d4-4935-ac8e-f2cb95e123e9",
    "slideshow": {
     "slide_type": "subslide"
    }
   },
   "outputs": [
    {
     "data": {
      "text/html": [
       "<div>\n",
       "<table border=\"1\" class=\"dataframe\">\n",
       "  <thead>\n",
       "    <tr style=\"text-align: right;\">\n",
       "      <th></th>\n",
       "      <th>A</th>\n",
       "      <th>B</th>\n",
       "      <th>C</th>\n",
       "      <th>D</th>\n",
       "      <th>F</th>\n",
       "    </tr>\n",
       "  </thead>\n",
       "  <tbody>\n",
       "    <tr>\n",
       "      <th>count</th>\n",
       "      <td>6.000000</td>\n",
       "      <td>6.000000</td>\n",
       "      <td>6.000000</td>\n",
       "      <td>6.000000</td>\n",
       "      <td>5.000000</td>\n",
       "    </tr>\n",
       "    <tr>\n",
       "      <th>mean</th>\n",
       "      <td>0.903486</td>\n",
       "      <td>-0.741077</td>\n",
       "      <td>0.146712</td>\n",
       "      <td>0.251682</td>\n",
       "      <td>3.000000</td>\n",
       "    </tr>\n",
       "    <tr>\n",
       "      <th>std</th>\n",
       "      <td>0.981530</td>\n",
       "      <td>1.000081</td>\n",
       "      <td>0.895987</td>\n",
       "      <td>0.693007</td>\n",
       "      <td>1.581139</td>\n",
       "    </tr>\n",
       "    <tr>\n",
       "      <th>min</th>\n",
       "      <td>-0.677368</td>\n",
       "      <td>-2.005667</td>\n",
       "      <td>-1.579533</td>\n",
       "      <td>-0.856877</td>\n",
       "      <td>1.000000</td>\n",
       "    </tr>\n",
       "    <tr>\n",
       "      <th>25%</th>\n",
       "      <td>0.612664</td>\n",
       "      <td>-1.503597</td>\n",
       "      <td>0.135643</td>\n",
       "      <td>0.089670</td>\n",
       "      <td>2.000000</td>\n",
       "    </tr>\n",
       "    <tr>\n",
       "      <th>50%</th>\n",
       "      <td>0.884032</td>\n",
       "      <td>-0.464077</td>\n",
       "      <td>0.356553</td>\n",
       "      <td>0.240538</td>\n",
       "      <td>3.000000</td>\n",
       "    </tr>\n",
       "    <tr>\n",
       "      <th>75%</th>\n",
       "      <td>1.397802</td>\n",
       "      <td>-0.309702</td>\n",
       "      <td>0.730681</td>\n",
       "      <td>0.495642</td>\n",
       "      <td>4.000000</td>\n",
       "    </tr>\n",
       "    <tr>\n",
       "      <th>max</th>\n",
       "      <td>2.238950</td>\n",
       "      <td>0.595710</td>\n",
       "      <td>0.829300</td>\n",
       "      <td>1.265836</td>\n",
       "      <td>5.000000</td>\n",
       "    </tr>\n",
       "  </tbody>\n",
       "</table>\n",
       "</div>"
      ],
      "text/plain": [
       "              A         B         C         D         F\n",
       "count  6.000000  6.000000  6.000000  6.000000  5.000000\n",
       "mean   0.903486 -0.741077  0.146712  0.251682  3.000000\n",
       "std    0.981530  1.000081  0.895987  0.693007  1.581139\n",
       "min   -0.677368 -2.005667 -1.579533 -0.856877  1.000000\n",
       "25%    0.612664 -1.503597  0.135643  0.089670  2.000000\n",
       "50%    0.884032 -0.464077  0.356553  0.240538  3.000000\n",
       "75%    1.397802 -0.309702  0.730681  0.495642  4.000000\n",
       "max    2.238950  0.595710  0.829300  1.265836  5.000000"
      ]
     },
     "execution_count": 92,
     "metadata": {},
     "output_type": "execute_result"
    }
   ],
   "source": [
    "df.describe()"
   ]
  },
  {
   "cell_type": "code",
   "execution_count": 95,
   "metadata": {
    "ExecuteTime": {
     "end_time": "2017-01-19T21:25:52.767401",
     "start_time": "2017-01-19T21:25:52.761853"
    },
    "collapsed": false,
    "focus": false,
    "id": "372219c5-5800-4502-83de-ac91bacb6cdb",
    "slideshow": {
     "slide_type": "subslide"
    }
   },
   "outputs": [
    {
     "data": {
      "text/plain": [
       "A    0.903486\n",
       "B   -0.741077\n",
       "C    0.146712\n",
       "D    0.251682\n",
       "F    3.000000\n",
       "dtype: float64"
      ]
     },
     "execution_count": 95,
     "metadata": {},
     "output_type": "execute_result"
    }
   ],
   "source": [
    "df.mean(axis=0) "
   ]
  },
  {
   "cell_type": "code",
   "execution_count": 94,
   "metadata": {
    "ExecuteTime": {
     "end_time": "2017-01-19T21:25:29.940892",
     "start_time": "2017-01-19T21:25:29.927976"
    },
    "collapsed": false
   },
   "outputs": [
    {
     "data": {
      "text/plain": [
       "2014-01-01    0.371626\n",
       "2014-01-02    0.344682\n",
       "2014-01-03    0.694083\n",
       "2014-01-04    0.000654\n",
       "2014-01-05    1.284579\n",
       "2014-01-06    1.051665\n",
       "Freq: D, dtype: float64"
      ]
     },
     "execution_count": 94,
     "metadata": {},
     "output_type": "execute_result"
    }
   ],
   "source": [
    "df.mean(axis=1) # Operation on two different axes"
   ]
  },
  {
   "cell_type": "markdown",
   "metadata": {
    "focus": false,
    "id": "aefd18b0-3fc6-4b15-bd6f-dd18136547a1",
    "slideshow": {
     "slide_type": "slide"
    }
   },
   "source": [
    "### Applying functions"
   ]
  },
  {
   "cell_type": "code",
   "execution_count": 59,
   "metadata": {
    "ExecuteTime": {
     "end_time": "2017-01-24T18:51:18.255428",
     "start_time": "2017-01-24T18:51:18.243023"
    },
    "collapsed": false,
    "focus": false,
    "id": "1b4b693d-27fe-4eb4-8aa4-4b2a4c27a1a2",
    "slideshow": {
     "slide_type": "subslide"
    }
   },
   "outputs": [
    {
     "data": {
      "text/html": [
       "<div>\n",
       "<table border=\"1\" class=\"dataframe\">\n",
       "  <thead>\n",
       "    <tr style=\"text-align: right;\">\n",
       "      <th></th>\n",
       "      <th>A</th>\n",
       "      <th>B</th>\n",
       "      <th>C</th>\n",
       "      <th>D</th>\n",
       "    </tr>\n",
       "  </thead>\n",
       "  <tbody>\n",
       "    <tr>\n",
       "      <th>2014-01-01</th>\n",
       "      <td>1.468063</td>\n",
       "      <td>0.149422</td>\n",
       "      <td>-2.024851</td>\n",
       "      <td>-0.162785</td>\n",
       "    </tr>\n",
       "    <tr>\n",
       "      <th>2014-01-02</th>\n",
       "      <td>-1.271291</td>\n",
       "      <td>-0.016593</td>\n",
       "      <td>-0.775333</td>\n",
       "      <td>0.171382</td>\n",
       "    </tr>\n",
       "    <tr>\n",
       "      <th>2014-01-03</th>\n",
       "      <td>1.217533</td>\n",
       "      <td>-1.796451</td>\n",
       "      <td>-1.022629</td>\n",
       "      <td>-0.651406</td>\n",
       "    </tr>\n",
       "    <tr>\n",
       "      <th>2014-01-04</th>\n",
       "      <td>-1.834336</td>\n",
       "      <td>0.781995</td>\n",
       "      <td>-0.096256</td>\n",
       "      <td>0.842988</td>\n",
       "    </tr>\n",
       "    <tr>\n",
       "      <th>2014-01-05</th>\n",
       "      <td>0.128810</td>\n",
       "      <td>-0.345935</td>\n",
       "      <td>-0.987706</td>\n",
       "      <td>0.667441</td>\n",
       "    </tr>\n",
       "    <tr>\n",
       "      <th>2014-01-06</th>\n",
       "      <td>0.378683</td>\n",
       "      <td>-0.200427</td>\n",
       "      <td>0.818421</td>\n",
       "      <td>0.227864</td>\n",
       "    </tr>\n",
       "  </tbody>\n",
       "</table>\n",
       "</div>"
      ],
      "text/plain": [
       "                   A         B         C         D\n",
       "2014-01-01  1.468063  0.149422 -2.024851 -0.162785\n",
       "2014-01-02 -1.271291 -0.016593 -0.775333  0.171382\n",
       "2014-01-03  1.217533 -1.796451 -1.022629 -0.651406\n",
       "2014-01-04 -1.834336  0.781995 -0.096256  0.842988\n",
       "2014-01-05  0.128810 -0.345935 -0.987706  0.667441\n",
       "2014-01-06  0.378683 -0.200427  0.818421  0.227864"
      ]
     },
     "execution_count": 59,
     "metadata": {},
     "output_type": "execute_result"
    }
   ],
   "source": [
    "df"
   ]
  },
  {
   "cell_type": "code",
   "execution_count": 60,
   "metadata": {
    "ExecuteTime": {
     "end_time": "2017-01-24T18:52:28.252350",
     "start_time": "2017-01-24T18:52:28.234768"
    },
    "collapsed": false,
    "focus": false,
    "id": "acb5d0e0-b6f8-4dc3-8f42-e2ca34a6aa67",
    "slideshow": {
     "slide_type": "fragment"
    }
   },
   "outputs": [
    {
     "data": {
      "text/html": [
       "<div>\n",
       "<table border=\"1\" class=\"dataframe\">\n",
       "  <thead>\n",
       "    <tr style=\"text-align: right;\">\n",
       "      <th></th>\n",
       "      <th>A</th>\n",
       "      <th>B</th>\n",
       "      <th>C</th>\n",
       "      <th>D</th>\n",
       "    </tr>\n",
       "  </thead>\n",
       "  <tbody>\n",
       "    <tr>\n",
       "      <th>2014-01-01</th>\n",
       "      <td>1.468063</td>\n",
       "      <td>0.149422</td>\n",
       "      <td>-2.024851</td>\n",
       "      <td>-0.162785</td>\n",
       "    </tr>\n",
       "    <tr>\n",
       "      <th>2014-01-02</th>\n",
       "      <td>0.196772</td>\n",
       "      <td>0.132829</td>\n",
       "      <td>-2.800184</td>\n",
       "      <td>0.008597</td>\n",
       "    </tr>\n",
       "    <tr>\n",
       "      <th>2014-01-03</th>\n",
       "      <td>1.414305</td>\n",
       "      <td>-1.663622</td>\n",
       "      <td>-3.822813</td>\n",
       "      <td>-0.642809</td>\n",
       "    </tr>\n",
       "    <tr>\n",
       "      <th>2014-01-04</th>\n",
       "      <td>-0.420031</td>\n",
       "      <td>-0.881628</td>\n",
       "      <td>-3.919069</td>\n",
       "      <td>0.200179</td>\n",
       "    </tr>\n",
       "    <tr>\n",
       "      <th>2014-01-05</th>\n",
       "      <td>-0.291221</td>\n",
       "      <td>-1.227563</td>\n",
       "      <td>-4.906775</td>\n",
       "      <td>0.867620</td>\n",
       "    </tr>\n",
       "    <tr>\n",
       "      <th>2014-01-06</th>\n",
       "      <td>0.087462</td>\n",
       "      <td>-1.427990</td>\n",
       "      <td>-4.088354</td>\n",
       "      <td>1.095484</td>\n",
       "    </tr>\n",
       "  </tbody>\n",
       "</table>\n",
       "</div>"
      ],
      "text/plain": [
       "                   A         B         C         D\n",
       "2014-01-01  1.468063  0.149422 -2.024851 -0.162785\n",
       "2014-01-02  0.196772  0.132829 -2.800184  0.008597\n",
       "2014-01-03  1.414305 -1.663622 -3.822813 -0.642809\n",
       "2014-01-04 -0.420031 -0.881628 -3.919069  0.200179\n",
       "2014-01-05 -0.291221 -1.227563 -4.906775  0.867620\n",
       "2014-01-06  0.087462 -1.427990 -4.088354  1.095484"
      ]
     },
     "execution_count": 60,
     "metadata": {},
     "output_type": "execute_result"
    }
   ],
   "source": [
    "df.apply(np.cumsum)"
   ]
  },
  {
   "cell_type": "code",
   "execution_count": 61,
   "metadata": {
    "ExecuteTime": {
     "end_time": "2017-01-24T18:53:21.865698",
     "start_time": "2017-01-24T18:53:21.858334"
    },
    "collapsed": false,
    "focus": false,
    "id": "76608f05-bac8-4938-b1c5-efa228fcbb7b",
    "slideshow": {
     "slide_type": "fragment"
    }
   },
   "outputs": [
    {
     "data": {
      "text/plain": [
       "A    3.302399\n",
       "B    2.578446\n",
       "C    2.843272\n",
       "D    1.494394\n",
       "dtype: float64"
      ]
     },
     "execution_count": 61,
     "metadata": {},
     "output_type": "execute_result"
    }
   ],
   "source": [
    "df.apply(lambda x: x.max() - x.min())"
   ]
  },
  {
   "cell_type": "code",
   "execution_count": 62,
   "metadata": {
    "ExecuteTime": {
     "end_time": "2017-01-24T18:56:10.098400",
     "start_time": "2017-01-24T18:56:10.095189"
    },
    "collapsed": false,
    "focus": false,
    "id": "802ec78f-0525-40e0-ab4e-4600eb22b1ed",
    "slideshow": {
     "slide_type": "subslide"
    }
   },
   "outputs": [],
   "source": [
    "# Built in string methods\n",
    "s = pd.Series(['A', 'B', 'C', 'Aaba', 'Baca', np.nan, 'CABA', 'dog', 'cat'])"
   ]
  },
  {
   "cell_type": "code",
   "execution_count": 64,
   "metadata": {
    "ExecuteTime": {
     "end_time": "2017-01-24T18:56:20.951316",
     "start_time": "2017-01-24T18:56:20.944959"
    },
    "collapsed": false
   },
   "outputs": [
    {
     "data": {
      "text/plain": [
       "0       A\n",
       "1       B\n",
       "2       C\n",
       "3    Aaba\n",
       "4    Baca\n",
       "5     NaN\n",
       "6    CABA\n",
       "7     dog\n",
       "8     cat\n",
       "dtype: object"
      ]
     },
     "execution_count": 64,
     "metadata": {},
     "output_type": "execute_result"
    }
   ],
   "source": [
    "s"
   ]
  },
  {
   "cell_type": "code",
   "execution_count": 63,
   "metadata": {
    "ExecuteTime": {
     "end_time": "2017-01-24T18:56:11.331638",
     "start_time": "2017-01-24T18:56:11.324634"
    },
    "collapsed": false
   },
   "outputs": [
    {
     "data": {
      "text/plain": [
       "0       a\n",
       "1       b\n",
       "2       c\n",
       "3    aaba\n",
       "4    baca\n",
       "5     NaN\n",
       "6    caba\n",
       "7     dog\n",
       "8     cat\n",
       "dtype: object"
      ]
     },
     "execution_count": 63,
     "metadata": {},
     "output_type": "execute_result"
    }
   ],
   "source": [
    "s.str."
   ]
  },
  {
   "cell_type": "markdown",
   "metadata": {
    "focus": false,
    "id": "ce36d58b-a2b3-4fb0-b21d-d8e40425d203",
    "slideshow": {
     "slide_type": "subslide"
    }
   },
   "source": [
    "### Merge"
   ]
  },
  {
   "cell_type": "code",
   "execution_count": null,
   "metadata": {
    "collapsed": false,
    "focus": false,
    "id": "5a03c068-8ce7-4bc2-a25a-ed1744d56765",
    "slideshow": {
     "slide_type": "subslide"
    }
   },
   "outputs": [],
   "source": [
    "random.randn(10,4)"
   ]
  },
  {
   "cell_type": "code",
   "execution_count": 65,
   "metadata": {
    "ExecuteTime": {
     "end_time": "2017-01-24T18:58:37.045420",
     "start_time": "2017-01-24T18:58:37.030973"
    },
    "collapsed": false,
    "focus": false,
    "id": "54d4be63-ab84-4c0c-8c87-a4bf1affb1ec",
    "scrolled": true,
    "slideshow": {
     "slide_type": "subslide"
    }
   },
   "outputs": [
    {
     "data": {
      "text/html": [
       "<div>\n",
       "<table border=\"1\" class=\"dataframe\">\n",
       "  <thead>\n",
       "    <tr style=\"text-align: right;\">\n",
       "      <th></th>\n",
       "      <th>0</th>\n",
       "      <th>1</th>\n",
       "      <th>2</th>\n",
       "      <th>3</th>\n",
       "    </tr>\n",
       "  </thead>\n",
       "  <tbody>\n",
       "    <tr>\n",
       "      <th>0</th>\n",
       "      <td>-1.202764</td>\n",
       "      <td>-0.096477</td>\n",
       "      <td>0.677274</td>\n",
       "      <td>2.203750</td>\n",
       "    </tr>\n",
       "    <tr>\n",
       "      <th>1</th>\n",
       "      <td>-0.996227</td>\n",
       "      <td>-0.382701</td>\n",
       "      <td>-0.356256</td>\n",
       "      <td>-1.783262</td>\n",
       "    </tr>\n",
       "    <tr>\n",
       "      <th>2</th>\n",
       "      <td>0.810428</td>\n",
       "      <td>1.004883</td>\n",
       "      <td>0.784538</td>\n",
       "      <td>0.242213</td>\n",
       "    </tr>\n",
       "    <tr>\n",
       "      <th>3</th>\n",
       "      <td>-0.585820</td>\n",
       "      <td>-0.007164</td>\n",
       "      <td>1.716793</td>\n",
       "      <td>-0.893775</td>\n",
       "    </tr>\n",
       "    <tr>\n",
       "      <th>4</th>\n",
       "      <td>0.009129</td>\n",
       "      <td>0.875914</td>\n",
       "      <td>-2.646957</td>\n",
       "      <td>0.798891</td>\n",
       "    </tr>\n",
       "    <tr>\n",
       "      <th>5</th>\n",
       "      <td>-0.249521</td>\n",
       "      <td>-0.702536</td>\n",
       "      <td>-0.908191</td>\n",
       "      <td>-1.383175</td>\n",
       "    </tr>\n",
       "    <tr>\n",
       "      <th>6</th>\n",
       "      <td>1.430167</td>\n",
       "      <td>0.009546</td>\n",
       "      <td>1.213494</td>\n",
       "      <td>-1.409108</td>\n",
       "    </tr>\n",
       "    <tr>\n",
       "      <th>7</th>\n",
       "      <td>-1.327235</td>\n",
       "      <td>-0.436561</td>\n",
       "      <td>-0.162113</td>\n",
       "      <td>-0.278544</td>\n",
       "    </tr>\n",
       "    <tr>\n",
       "      <th>8</th>\n",
       "      <td>1.947949</td>\n",
       "      <td>-0.565586</td>\n",
       "      <td>1.041494</td>\n",
       "      <td>0.260750</td>\n",
       "    </tr>\n",
       "    <tr>\n",
       "      <th>9</th>\n",
       "      <td>-0.896961</td>\n",
       "      <td>-0.667346</td>\n",
       "      <td>-1.688423</td>\n",
       "      <td>-1.156652</td>\n",
       "    </tr>\n",
       "  </tbody>\n",
       "</table>\n",
       "</div>"
      ],
      "text/plain": [
       "          0         1         2         3\n",
       "0 -1.202764 -0.096477  0.677274  2.203750\n",
       "1 -0.996227 -0.382701 -0.356256 -1.783262\n",
       "2  0.810428  1.004883  0.784538  0.242213\n",
       "3 -0.585820 -0.007164  1.716793 -0.893775\n",
       "4  0.009129  0.875914 -2.646957  0.798891\n",
       "5 -0.249521 -0.702536 -0.908191 -1.383175\n",
       "6  1.430167  0.009546  1.213494 -1.409108\n",
       "7 -1.327235 -0.436561 -0.162113 -0.278544\n",
       "8  1.947949 -0.565586  1.041494  0.260750\n",
       "9 -0.896961 -0.667346 -1.688423 -1.156652"
      ]
     },
     "execution_count": 65,
     "metadata": {},
     "output_type": "execute_result"
    }
   ],
   "source": [
    "#Concatenating pandas objects together\n",
    "df = pd.DataFrame(np.random.randn(10,4))\n",
    "df"
   ]
  },
  {
   "cell_type": "code",
   "execution_count": 66,
   "metadata": {
    "ExecuteTime": {
     "end_time": "2017-01-24T18:58:51.115496",
     "start_time": "2017-01-24T18:58:51.099857"
    },
    "collapsed": false,
    "focus": false,
    "id": "f39f64e5-7416-4067-867d-93d36674c19b",
    "slideshow": {
     "slide_type": "subslide"
    }
   },
   "outputs": [
    {
     "name": "stdout",
     "output_type": "stream",
     "text": [
      "          0         1         2         3\n",
      "0 -1.202764 -0.096477  0.677274  2.203750\n",
      "1 -0.996227 -0.382701 -0.356256 -1.783262\n",
      "2  0.810428  1.004883  0.784538  0.242213\n",
      "          0         1         2         3\n",
      "3 -0.585820 -0.007164  1.716793 -0.893775\n",
      "4  0.009129  0.875914 -2.646957  0.798891\n",
      "5 -0.249521 -0.702536 -0.908191 -1.383175\n",
      "6  1.430167  0.009546  1.213494 -1.409108\n",
      "          0         1         2         3\n",
      "7 -1.327235 -0.436561 -0.162113 -0.278544\n",
      "8  1.947949 -0.565586  1.041494  0.260750\n",
      "9 -0.896961 -0.667346 -1.688423 -1.156652\n"
     ]
    }
   ],
   "source": [
    "# Break it into pieces\n",
    "piece_1 = df[:3]\n",
    "piece_2 = df[3:7]\n",
    "piece_3 = df[7:]\n",
    "print(piece_1)\n",
    "print(piece_2)\n",
    "print(piece_3)"
   ]
  },
  {
   "cell_type": "code",
   "execution_count": 67,
   "metadata": {
    "ExecuteTime": {
     "end_time": "2017-01-24T18:59:15.285950",
     "start_time": "2017-01-24T18:59:15.271786"
    },
    "collapsed": false,
    "focus": false,
    "id": "1b3617e6-0a0e-4f0a-b8a1-8715c961aa8f",
    "slideshow": {
     "slide_type": "fragment"
    }
   },
   "outputs": [
    {
     "data": {
      "text/html": [
       "<div>\n",
       "<table border=\"1\" class=\"dataframe\">\n",
       "  <thead>\n",
       "    <tr style=\"text-align: right;\">\n",
       "      <th></th>\n",
       "      <th>0</th>\n",
       "      <th>1</th>\n",
       "      <th>2</th>\n",
       "      <th>3</th>\n",
       "    </tr>\n",
       "  </thead>\n",
       "  <tbody>\n",
       "    <tr>\n",
       "      <th>0</th>\n",
       "      <td>-1.202764</td>\n",
       "      <td>-0.096477</td>\n",
       "      <td>0.677274</td>\n",
       "      <td>2.203750</td>\n",
       "    </tr>\n",
       "    <tr>\n",
       "      <th>1</th>\n",
       "      <td>-0.996227</td>\n",
       "      <td>-0.382701</td>\n",
       "      <td>-0.356256</td>\n",
       "      <td>-1.783262</td>\n",
       "    </tr>\n",
       "    <tr>\n",
       "      <th>2</th>\n",
       "      <td>0.810428</td>\n",
       "      <td>1.004883</td>\n",
       "      <td>0.784538</td>\n",
       "      <td>0.242213</td>\n",
       "    </tr>\n",
       "    <tr>\n",
       "      <th>3</th>\n",
       "      <td>-0.585820</td>\n",
       "      <td>-0.007164</td>\n",
       "      <td>1.716793</td>\n",
       "      <td>-0.893775</td>\n",
       "    </tr>\n",
       "    <tr>\n",
       "      <th>4</th>\n",
       "      <td>0.009129</td>\n",
       "      <td>0.875914</td>\n",
       "      <td>-2.646957</td>\n",
       "      <td>0.798891</td>\n",
       "    </tr>\n",
       "    <tr>\n",
       "      <th>5</th>\n",
       "      <td>-0.249521</td>\n",
       "      <td>-0.702536</td>\n",
       "      <td>-0.908191</td>\n",
       "      <td>-1.383175</td>\n",
       "    </tr>\n",
       "    <tr>\n",
       "      <th>6</th>\n",
       "      <td>1.430167</td>\n",
       "      <td>0.009546</td>\n",
       "      <td>1.213494</td>\n",
       "      <td>-1.409108</td>\n",
       "    </tr>\n",
       "    <tr>\n",
       "      <th>7</th>\n",
       "      <td>-1.327235</td>\n",
       "      <td>-0.436561</td>\n",
       "      <td>-0.162113</td>\n",
       "      <td>-0.278544</td>\n",
       "    </tr>\n",
       "    <tr>\n",
       "      <th>8</th>\n",
       "      <td>1.947949</td>\n",
       "      <td>-0.565586</td>\n",
       "      <td>1.041494</td>\n",
       "      <td>0.260750</td>\n",
       "    </tr>\n",
       "    <tr>\n",
       "      <th>9</th>\n",
       "      <td>-0.896961</td>\n",
       "      <td>-0.667346</td>\n",
       "      <td>-1.688423</td>\n",
       "      <td>-1.156652</td>\n",
       "    </tr>\n",
       "  </tbody>\n",
       "</table>\n",
       "</div>"
      ],
      "text/plain": [
       "          0         1         2         3\n",
       "0 -1.202764 -0.096477  0.677274  2.203750\n",
       "1 -0.996227 -0.382701 -0.356256 -1.783262\n",
       "2  0.810428  1.004883  0.784538  0.242213\n",
       "3 -0.585820 -0.007164  1.716793 -0.893775\n",
       "4  0.009129  0.875914 -2.646957  0.798891\n",
       "5 -0.249521 -0.702536 -0.908191 -1.383175\n",
       "6  1.430167  0.009546  1.213494 -1.409108\n",
       "7 -1.327235 -0.436561 -0.162113 -0.278544\n",
       "8  1.947949 -0.565586  1.041494  0.260750\n",
       "9 -0.896961 -0.667346 -1.688423 -1.156652"
      ]
     },
     "execution_count": 67,
     "metadata": {},
     "output_type": "execute_result"
    }
   ],
   "source": [
    "pd.concat([piece_1, piece_2, piece_3])"
   ]
  },
  {
   "cell_type": "code",
   "execution_count": 68,
   "metadata": {
    "ExecuteTime": {
     "end_time": "2017-01-24T18:59:35.611886",
     "start_time": "2017-01-24T18:59:35.596573"
    },
    "collapsed": false,
    "focus": false,
    "id": "487ed85b-a5c7-436b-80ce-53b7c5e23948",
    "slideshow": {
     "slide_type": "fragment"
    }
   },
   "outputs": [
    {
     "data": {
      "text/html": [
       "<div>\n",
       "<table border=\"1\" class=\"dataframe\">\n",
       "  <thead>\n",
       "    <tr style=\"text-align: right;\">\n",
       "      <th></th>\n",
       "      <th>0</th>\n",
       "      <th>1</th>\n",
       "      <th>2</th>\n",
       "      <th>3</th>\n",
       "    </tr>\n",
       "  </thead>\n",
       "  <tbody>\n",
       "    <tr>\n",
       "      <th>0</th>\n",
       "      <td>-1.202764</td>\n",
       "      <td>-0.096477</td>\n",
       "      <td>0.677274</td>\n",
       "      <td>2.203750</td>\n",
       "    </tr>\n",
       "    <tr>\n",
       "      <th>1</th>\n",
       "      <td>-0.996227</td>\n",
       "      <td>-0.382701</td>\n",
       "      <td>-0.356256</td>\n",
       "      <td>-1.783262</td>\n",
       "    </tr>\n",
       "    <tr>\n",
       "      <th>2</th>\n",
       "      <td>0.810428</td>\n",
       "      <td>1.004883</td>\n",
       "      <td>0.784538</td>\n",
       "      <td>0.242213</td>\n",
       "    </tr>\n",
       "    <tr>\n",
       "      <th>3</th>\n",
       "      <td>-0.585820</td>\n",
       "      <td>-0.007164</td>\n",
       "      <td>1.716793</td>\n",
       "      <td>-0.893775</td>\n",
       "    </tr>\n",
       "    <tr>\n",
       "      <th>4</th>\n",
       "      <td>0.009129</td>\n",
       "      <td>0.875914</td>\n",
       "      <td>-2.646957</td>\n",
       "      <td>0.798891</td>\n",
       "    </tr>\n",
       "    <tr>\n",
       "      <th>5</th>\n",
       "      <td>-0.249521</td>\n",
       "      <td>-0.702536</td>\n",
       "      <td>-0.908191</td>\n",
       "      <td>-1.383175</td>\n",
       "    </tr>\n",
       "    <tr>\n",
       "      <th>6</th>\n",
       "      <td>1.430167</td>\n",
       "      <td>0.009546</td>\n",
       "      <td>1.213494</td>\n",
       "      <td>-1.409108</td>\n",
       "    </tr>\n",
       "  </tbody>\n",
       "</table>\n",
       "</div>"
      ],
      "text/plain": [
       "          0         1         2         3\n",
       "0 -1.202764 -0.096477  0.677274  2.203750\n",
       "1 -0.996227 -0.382701 -0.356256 -1.783262\n",
       "2  0.810428  1.004883  0.784538  0.242213\n",
       "3 -0.585820 -0.007164  1.716793 -0.893775\n",
       "4  0.009129  0.875914 -2.646957  0.798891\n",
       "5 -0.249521 -0.702536 -0.908191 -1.383175\n",
       "6  1.430167  0.009546  1.213494 -1.409108"
      ]
     },
     "execution_count": 68,
     "metadata": {},
     "output_type": "execute_result"
    }
   ],
   "source": [
    "# Also can \"Join\" and \"Append\"\n",
    "piece_1.append(piece_2)"
   ]
  },
  {
   "cell_type": "code",
   "execution_count": null,
   "metadata": {
    "collapsed": false
   },
   "outputs": [],
   "source": [
    "piece_1.T.join(piece_2.T)"
   ]
  },
  {
   "cell_type": "markdown",
   "metadata": {
    "focus": false,
    "id": "d71e2439-0018-4564-a3c9-08b21df14f49",
    "slideshow": {
     "slide_type": "subslide"
    }
   },
   "source": [
    "### Grouping\n"
   ]
  },
  {
   "cell_type": "code",
   "execution_count": 69,
   "metadata": {
    "ExecuteTime": {
     "end_time": "2017-01-24T18:59:46.866873",
     "start_time": "2017-01-24T18:59:46.861059"
    },
    "collapsed": false,
    "focus": false,
    "id": "fa9636d6-592b-4166-b440-ab7fccf1a617",
    "slideshow": {
     "slide_type": "subslide"
    }
   },
   "outputs": [],
   "source": [
    "df = pd.DataFrame({'A' : ['foo', 'bar', 'foo', 'bar',\n",
    "                       'foo', 'bar', 'foo', 'foo'],\n",
    "                       'B' : ['one', 'one', 'two', 'three',\n",
    "                             'two', 'two', 'one', 'three'],\n",
    "                       'C' : np.random.randn(8),\n",
    "                       'D' : np.random.randn(8)})"
   ]
  },
  {
   "cell_type": "code",
   "execution_count": 70,
   "metadata": {
    "ExecuteTime": {
     "end_time": "2017-01-24T18:59:49.285171",
     "start_time": "2017-01-24T18:59:49.271459"
    },
    "collapsed": false,
    "focus": false,
    "id": "be026ca6-3b88-4e6c-935f-339089743711",
    "slideshow": {
     "slide_type": "fragment"
    }
   },
   "outputs": [
    {
     "data": {
      "text/html": [
       "<div>\n",
       "<table border=\"1\" class=\"dataframe\">\n",
       "  <thead>\n",
       "    <tr style=\"text-align: right;\">\n",
       "      <th></th>\n",
       "      <th>A</th>\n",
       "      <th>B</th>\n",
       "      <th>C</th>\n",
       "      <th>D</th>\n",
       "    </tr>\n",
       "  </thead>\n",
       "  <tbody>\n",
       "    <tr>\n",
       "      <th>0</th>\n",
       "      <td>foo</td>\n",
       "      <td>one</td>\n",
       "      <td>1.081594</td>\n",
       "      <td>0.341401</td>\n",
       "    </tr>\n",
       "    <tr>\n",
       "      <th>1</th>\n",
       "      <td>bar</td>\n",
       "      <td>one</td>\n",
       "      <td>-0.214158</td>\n",
       "      <td>1.106606</td>\n",
       "    </tr>\n",
       "    <tr>\n",
       "      <th>2</th>\n",
       "      <td>foo</td>\n",
       "      <td>two</td>\n",
       "      <td>1.259579</td>\n",
       "      <td>-0.650371</td>\n",
       "    </tr>\n",
       "    <tr>\n",
       "      <th>3</th>\n",
       "      <td>bar</td>\n",
       "      <td>three</td>\n",
       "      <td>1.627218</td>\n",
       "      <td>-1.142701</td>\n",
       "    </tr>\n",
       "    <tr>\n",
       "      <th>4</th>\n",
       "      <td>foo</td>\n",
       "      <td>two</td>\n",
       "      <td>0.979256</td>\n",
       "      <td>1.367776</td>\n",
       "    </tr>\n",
       "    <tr>\n",
       "      <th>5</th>\n",
       "      <td>bar</td>\n",
       "      <td>two</td>\n",
       "      <td>-0.754530</td>\n",
       "      <td>0.339264</td>\n",
       "    </tr>\n",
       "    <tr>\n",
       "      <th>6</th>\n",
       "      <td>foo</td>\n",
       "      <td>one</td>\n",
       "      <td>-0.493245</td>\n",
       "      <td>0.404205</td>\n",
       "    </tr>\n",
       "    <tr>\n",
       "      <th>7</th>\n",
       "      <td>foo</td>\n",
       "      <td>three</td>\n",
       "      <td>-0.365068</td>\n",
       "      <td>-0.366554</td>\n",
       "    </tr>\n",
       "  </tbody>\n",
       "</table>\n",
       "</div>"
      ],
      "text/plain": [
       "     A      B         C         D\n",
       "0  foo    one  1.081594  0.341401\n",
       "1  bar    one -0.214158  1.106606\n",
       "2  foo    two  1.259579 -0.650371\n",
       "3  bar  three  1.627218 -1.142701\n",
       "4  foo    two  0.979256  1.367776\n",
       "5  bar    two -0.754530  0.339264\n",
       "6  foo    one -0.493245  0.404205\n",
       "7  foo  three -0.365068 -0.366554"
      ]
     },
     "execution_count": 70,
     "metadata": {},
     "output_type": "execute_result"
    }
   ],
   "source": [
    "df"
   ]
  },
  {
   "cell_type": "code",
   "execution_count": 71,
   "metadata": {
    "ExecuteTime": {
     "end_time": "2017-01-24T19:00:15.208011",
     "start_time": "2017-01-24T19:00:15.190865"
    },
    "collapsed": false,
    "focus": false,
    "id": "20574670-3a23-4a2c-8b67-fbf3a9a7737e",
    "slideshow": {
     "slide_type": "fragment"
    }
   },
   "outputs": [
    {
     "data": {
      "text/html": [
       "<div>\n",
       "<table border=\"1\" class=\"dataframe\">\n",
       "  <thead>\n",
       "    <tr style=\"text-align: right;\">\n",
       "      <th></th>\n",
       "      <th></th>\n",
       "      <th>C</th>\n",
       "      <th>D</th>\n",
       "    </tr>\n",
       "    <tr>\n",
       "      <th>A</th>\n",
       "      <th>B</th>\n",
       "      <th></th>\n",
       "      <th></th>\n",
       "    </tr>\n",
       "  </thead>\n",
       "  <tbody>\n",
       "    <tr>\n",
       "      <th rowspan=\"3\" valign=\"top\">bar</th>\n",
       "      <th>one</th>\n",
       "      <td>-0.214158</td>\n",
       "      <td>1.106606</td>\n",
       "    </tr>\n",
       "    <tr>\n",
       "      <th>three</th>\n",
       "      <td>1.627218</td>\n",
       "      <td>-1.142701</td>\n",
       "    </tr>\n",
       "    <tr>\n",
       "      <th>two</th>\n",
       "      <td>-0.754530</td>\n",
       "      <td>0.339264</td>\n",
       "    </tr>\n",
       "    <tr>\n",
       "      <th rowspan=\"3\" valign=\"top\">foo</th>\n",
       "      <th>one</th>\n",
       "      <td>0.588349</td>\n",
       "      <td>0.745606</td>\n",
       "    </tr>\n",
       "    <tr>\n",
       "      <th>three</th>\n",
       "      <td>-0.365068</td>\n",
       "      <td>-0.366554</td>\n",
       "    </tr>\n",
       "    <tr>\n",
       "      <th>two</th>\n",
       "      <td>2.238834</td>\n",
       "      <td>0.717404</td>\n",
       "    </tr>\n",
       "  </tbody>\n",
       "</table>\n",
       "</div>"
      ],
      "text/plain": [
       "                  C         D\n",
       "A   B                        \n",
       "bar one   -0.214158  1.106606\n",
       "    three  1.627218 -1.142701\n",
       "    two   -0.754530  0.339264\n",
       "foo one    0.588349  0.745606\n",
       "    three -0.365068 -0.366554\n",
       "    two    2.238834  0.717404"
      ]
     },
     "execution_count": 71,
     "metadata": {},
     "output_type": "execute_result"
    }
   ],
   "source": [
    "grouped_sum = df.groupby(['A','B']).sum()\n",
    "grouped_sum"
   ]
  },
  {
   "cell_type": "markdown",
   "metadata": {
    "focus": false,
    "id": "fa94e6a7-1981-4d98-b43e-3090182e5836",
    "slideshow": {
     "slide_type": "subslide"
    }
   },
   "source": [
    "### Reshaping"
   ]
  },
  {
   "cell_type": "code",
   "execution_count": null,
   "metadata": {
    "collapsed": false,
    "focus": false,
    "id": "df08ec54-d000-4c15-8f93-100cae7a72da",
    "slideshow": {
     "slide_type": "fragment"
    }
   },
   "outputs": [],
   "source": [
    "# You can also stack or unstack levels"
   ]
  },
  {
   "cell_type": "code",
   "execution_count": 72,
   "metadata": {
    "ExecuteTime": {
     "end_time": "2017-01-24T19:01:00.569692",
     "start_time": "2017-01-24T19:01:00.552392"
    },
    "collapsed": false
   },
   "outputs": [
    {
     "data": {
      "text/html": [
       "<div>\n",
       "<table border=\"1\" class=\"dataframe\">\n",
       "  <thead>\n",
       "    <tr>\n",
       "      <th></th>\n",
       "      <th colspan=\"3\" halign=\"left\">C</th>\n",
       "      <th colspan=\"3\" halign=\"left\">D</th>\n",
       "    </tr>\n",
       "    <tr>\n",
       "      <th>B</th>\n",
       "      <th>one</th>\n",
       "      <th>three</th>\n",
       "      <th>two</th>\n",
       "      <th>one</th>\n",
       "      <th>three</th>\n",
       "      <th>two</th>\n",
       "    </tr>\n",
       "    <tr>\n",
       "      <th>A</th>\n",
       "      <th></th>\n",
       "      <th></th>\n",
       "      <th></th>\n",
       "      <th></th>\n",
       "      <th></th>\n",
       "      <th></th>\n",
       "    </tr>\n",
       "  </thead>\n",
       "  <tbody>\n",
       "    <tr>\n",
       "      <th>bar</th>\n",
       "      <td>-0.214158</td>\n",
       "      <td>1.627218</td>\n",
       "      <td>-0.754530</td>\n",
       "      <td>1.106606</td>\n",
       "      <td>-1.142701</td>\n",
       "      <td>0.339264</td>\n",
       "    </tr>\n",
       "    <tr>\n",
       "      <th>foo</th>\n",
       "      <td>0.588349</td>\n",
       "      <td>-0.365068</td>\n",
       "      <td>2.238834</td>\n",
       "      <td>0.745606</td>\n",
       "      <td>-0.366554</td>\n",
       "      <td>0.717404</td>\n",
       "    </tr>\n",
       "  </tbody>\n",
       "</table>\n",
       "</div>"
      ],
      "text/plain": [
       "            C                             D                    \n",
       "B         one     three       two       one     three       two\n",
       "A                                                              \n",
       "bar -0.214158  1.627218 -0.754530  1.106606 -1.142701  0.339264\n",
       "foo  0.588349 -0.365068  2.238834  0.745606 -0.366554  0.717404"
      ]
     },
     "execution_count": 72,
     "metadata": {},
     "output_type": "execute_result"
    }
   ],
   "source": [
    "unstacked = grouped_sum.unstack('B')\n",
    "unstacked"
   ]
  },
  {
   "cell_type": "code",
   "execution_count": null,
   "metadata": {
    "collapsed": false,
    "focus": false,
    "id": "19be1110-9007-4818-b7df-7bfe76201f28",
    "slideshow": {
     "slide_type": "fragment"
    }
   },
   "outputs": [],
   "source": [
    "# Pivot Tables\n",
    "pd.pivot_table(df,values=['C','D'],index=['A'],columns=['B'])"
   ]
  },
  {
   "cell_type": "markdown",
   "metadata": {
    "focus": false,
    "id": "67f5eb61-baaf-4cae-973d-808a2bf89829",
    "slideshow": {
     "slide_type": "subslide"
    }
   },
   "source": [
    "### Time Series\n"
   ]
  },
  {
   "cell_type": "code",
   "execution_count": 138,
   "metadata": {
    "ExecuteTime": {
     "end_time": "2017-01-24T19:07:23.132268",
     "start_time": "2017-01-24T19:07:23.129488"
    },
    "collapsed": false,
    "focus": false,
    "id": "09b41ef7-1b6f-4231-a3c3-b083ee337aa4"
   },
   "outputs": [],
   "source": [
    "import pandas as pd\n",
    "import numpy as np"
   ]
  },
  {
   "cell_type": "code",
   "execution_count": 139,
   "metadata": {
    "ExecuteTime": {
     "end_time": "2017-01-24T19:07:24.373925",
     "start_time": "2017-01-24T19:07:24.369883"
    },
    "collapsed": false,
    "focus": false,
    "id": "af09a1c8-fd55-44ad-a340-93284b578f52",
    "slideshow": {
     "slide_type": "fragment"
    }
   },
   "outputs": [],
   "source": [
    "# 100 Seconds starting on January 1st\n",
    "rng = pd.date_range('1/1/2014', periods=100, freq='S')"
   ]
  },
  {
   "cell_type": "code",
   "execution_count": 140,
   "metadata": {
    "ExecuteTime": {
     "end_time": "2017-01-24T19:07:25.203783",
     "start_time": "2017-01-24T19:07:25.200187"
    },
    "collapsed": false,
    "focus": false,
    "id": "948b5dba-e17c-4e0a-9bcb-e5cfd5dbd151",
    "slideshow": {
     "slide_type": "fragment"
    }
   },
   "outputs": [],
   "source": [
    "# Give each second a random value\n",
    "ts = pd.Series(np.random.randint(0, 500, len(rng)), index=rng)"
   ]
  },
  {
   "cell_type": "code",
   "execution_count": 141,
   "metadata": {
    "ExecuteTime": {
     "end_time": "2017-01-24T19:07:26.471383",
     "start_time": "2017-01-24T19:07:26.456583"
    },
    "collapsed": false,
    "focus": false,
    "id": "ee2c76e8-2e6b-4083-97a2-ee65d8a4adde",
    "slideshow": {
     "slide_type": "fragment"
    }
   },
   "outputs": [
    {
     "data": {
      "text/plain": [
       "2014-01-01 00:00:00    135\n",
       "2014-01-01 00:00:01    213\n",
       "2014-01-01 00:00:02    327\n",
       "2014-01-01 00:00:03    188\n",
       "2014-01-01 00:00:04    157\n",
       "2014-01-01 00:00:05    245\n",
       "2014-01-01 00:00:06     71\n",
       "2014-01-01 00:00:07    193\n",
       "2014-01-01 00:00:08    183\n",
       "2014-01-01 00:00:09    424\n",
       "2014-01-01 00:00:10    346\n",
       "2014-01-01 00:00:11     59\n",
       "2014-01-01 00:00:12    382\n",
       "2014-01-01 00:00:13    219\n",
       "2014-01-01 00:00:14    481\n",
       "2014-01-01 00:00:15    456\n",
       "2014-01-01 00:00:16    380\n",
       "2014-01-01 00:00:17     92\n",
       "2014-01-01 00:00:18    380\n",
       "2014-01-01 00:00:19    203\n",
       "2014-01-01 00:00:20     66\n",
       "2014-01-01 00:00:21    298\n",
       "2014-01-01 00:00:22    378\n",
       "2014-01-01 00:00:23    313\n",
       "2014-01-01 00:00:24    175\n",
       "2014-01-01 00:00:25     71\n",
       "2014-01-01 00:00:26     92\n",
       "2014-01-01 00:00:27     85\n",
       "2014-01-01 00:00:28    479\n",
       "2014-01-01 00:00:29    303\n",
       "                      ... \n",
       "2014-01-01 00:01:10    167\n",
       "2014-01-01 00:01:11    413\n",
       "2014-01-01 00:01:12     22\n",
       "2014-01-01 00:01:13    100\n",
       "2014-01-01 00:01:14     36\n",
       "2014-01-01 00:01:15    251\n",
       "2014-01-01 00:01:16    292\n",
       "2014-01-01 00:01:17    368\n",
       "2014-01-01 00:01:18    366\n",
       "2014-01-01 00:01:19    248\n",
       "2014-01-01 00:01:20    483\n",
       "2014-01-01 00:01:21    236\n",
       "2014-01-01 00:01:22    266\n",
       "2014-01-01 00:01:23    392\n",
       "2014-01-01 00:01:24    469\n",
       "2014-01-01 00:01:25    113\n",
       "2014-01-01 00:01:26    108\n",
       "2014-01-01 00:01:27    432\n",
       "2014-01-01 00:01:28    288\n",
       "2014-01-01 00:01:29     61\n",
       "2014-01-01 00:01:30    400\n",
       "2014-01-01 00:01:31    283\n",
       "2014-01-01 00:01:32    421\n",
       "2014-01-01 00:01:33    364\n",
       "2014-01-01 00:01:34    119\n",
       "2014-01-01 00:01:35    413\n",
       "2014-01-01 00:01:36    252\n",
       "2014-01-01 00:01:37    191\n",
       "2014-01-01 00:01:38    111\n",
       "2014-01-01 00:01:39     64\n",
       "Freq: S, dtype: int64"
      ]
     },
     "execution_count": 141,
     "metadata": {},
     "output_type": "execute_result"
    }
   ],
   "source": [
    "ts\n"
   ]
  },
  {
   "cell_type": "code",
   "execution_count": 143,
   "metadata": {
    "ExecuteTime": {
     "end_time": "2017-01-24T19:07:49.735015",
     "start_time": "2017-01-24T19:07:49.719646"
    },
    "collapsed": false,
    "focus": false,
    "id": "a5d4c14a-379a-4e9a-a3cc-e6cd5476b781",
    "slideshow": {
     "slide_type": "subslide"
    }
   },
   "outputs": [
    {
     "data": {
      "text/plain": [
       "2014-01-01 00:00:00    246.300\n",
       "2014-01-01 00:01:00    272.925\n",
       "Freq: T, dtype: float64"
      ]
     },
     "execution_count": 143,
     "metadata": {},
     "output_type": "execute_result"
    }
   ],
   "source": [
    "# Built in resampling\n",
    "ts.resample('1Min').mean() # Resample secondly to 1Minutely"
   ]
  },
  {
   "cell_type": "code",
   "execution_count": null,
   "metadata": {
    "collapsed": false,
    "focus": false,
    "id": "e3a2aac3-1aec-41fb-8076-ca3433d38c87",
    "slideshow": {
     "slide_type": "slide"
    }
   },
   "outputs": [],
   "source": [
    "# Many additional time series features\n",
    "ts."
   ]
  },
  {
   "cell_type": "markdown",
   "metadata": {
    "focus": false,
    "id": "b281a484-9cf5-41da-b898-ac5ea012053a",
    "slideshow": {
     "slide_type": "slide"
    }
   },
   "source": [
    "### Plotting\n"
   ]
  },
  {
   "cell_type": "code",
   "execution_count": 144,
   "metadata": {
    "ExecuteTime": {
     "end_time": "2017-01-24T19:08:46.077925",
     "start_time": "2017-01-24T19:08:45.797334"
    },
    "collapsed": false,
    "focus": false,
    "id": "e0d64120-b593-447e-9088-731b31629e25",
    "slideshow": {
     "slide_type": "subslide"
    }
   },
   "outputs": [
    {
     "data": {
      "image/png": "[encoded data removed]",
      "text/plain": [
       "<matplotlib.figure.Figure at 0x113b3a890>"
      ]
     },
     "metadata": {},
     "output_type": "display_data"
    }
   ],
   "source": [
    "ts.plot(); # Note semicolon for 'cleaner' output"
   ]
  },
  {
   "cell_type": "code",
   "execution_count": 145,
   "metadata": {
    "ExecuteTime": {
     "end_time": "2017-01-24T19:09:29.282214",
     "start_time": "2017-01-24T19:09:29.278096"
    },
    "collapsed": false,
    "focus": false,
    "id": "05fb3a7f-f96d-4d2c-8944-bf02768b7eb2",
    "slideshow": {
     "slide_type": "subslide"
    }
   },
   "outputs": [],
   "source": [
    "def randwalk(startdate,points):\n",
    "    ts = pd.Series(np.random.randn(points), \n",
    "                   index=pd.date_range(startdate, periods=points))\n",
    "    ts=ts.cumsum()\n",
    "    ts.plot()\n",
    "    return(ts)"
   ]
  },
  {
   "cell_type": "code",
   "execution_count": 146,
   "metadata": {
    "ExecuteTime": {
     "end_time": "2017-01-24T19:09:30.808040",
     "start_time": "2017-01-24T19:09:30.506639"
    },
    "collapsed": false,
    "focus": false,
    "id": "0ad89701-d9a8-41d2-b93b-f0e28a76498c",
    "slideshow": {
     "slide_type": "fragment"
    }
   },
   "outputs": [
    {
     "data": {
      "image/png": "[encoded data removed]",
      "text/plain": [
       "<matplotlib.figure.Figure at 0x113b57fd0>"
      ]
     },
     "metadata": {},
     "output_type": "display_data"
    }
   ],
   "source": [
    "# Using pandas to make a simple random walker by repeatedly running:\n",
    "a=randwalk('1/1/2012',1000)"
   ]
  },
  {
   "cell_type": "code",
   "execution_count": null,
   "metadata": {
    "collapsed": false,
    "focus": false,
    "id": "d7c096a1-789c-494e-abf1-c253ad93729c",
    "slideshow": {
     "slide_type": "subslide"
    }
   },
   "outputs": [],
   "source": [
    "# Pandas plot function will print with labels as default"
   ]
  },
  {
   "cell_type": "code",
   "execution_count": 147,
   "metadata": {
    "ExecuteTime": {
     "end_time": "2017-01-24T19:10:29.597547",
     "start_time": "2017-01-24T19:10:29.316365"
    },
    "collapsed": false,
    "focus": false,
    "id": "f2951491-24b2-4552-bd06-304e1b12704d",
    "slideshow": {
     "slide_type": "fragment"
    }
   },
   "outputs": [
    {
     "data": {
      "image/png": "[encoded data removed]",
      "text/plain": [
       "<matplotlib.figure.Figure at 0x113efd410>"
      ]
     },
     "metadata": {},
     "output_type": "display_data"
    }
   ],
   "source": [
    "df = pd.DataFrame(np.random.randn(100, 4), \n",
    "                  index=ts.index,columns=['A', 'B', 'C', 'D'])\n",
    "df.cumsum().plot();"
   ]
  },
  {
   "cell_type": "markdown",
   "metadata": {
    "focus": false,
    "id": "2f982866-332b-4e39-a784-092157257f8f",
    "slideshow": {
     "slide_type": "subslide"
    }
   },
   "source": [
    "### I/O\n",
    "I/O is straightforward with, for example, pd.read_csv or df.to_csv"
   ]
  },
  {
   "cell_type": "markdown",
   "metadata": {
    "focus": false,
    "id": "a9c47dc7-ff2c-4d5f-9f77-0015da6e02aa",
    "slideshow": {
     "slide_type": "subslide"
    }
   },
   "source": [
    "#### The benefits of open source:\n",
    "\n",
    "Let's look under x's in plt modules"
   ]
  },
  {
   "cell_type": "markdown",
   "metadata": {
    "focus": false,
    "id": "29dbb281-811a-4c72-8e35-47dc93c7a6c7",
    "slideshow": {
     "slide_type": "slide"
    }
   },
   "source": []
  },
  {
   "cell_type": "markdown",
   "metadata": {
    "focus": true,
    "id": "a51cdd68-c291-46ae-9bf5-ed4f0819f161",
    "slideshow": {
     "slide_type": "slide"
    }
   },
   "source": [
    "# Next Steps\n",
    "\n",
    "**Recommended Resources**\n",
    "\n",
    "Name | Description\n",
    "--- | ---\n",
    "[Official Pandas Tutorials](http://pandas.pydata.org/pandas-docs/stable/10min.html) | Wes & Company's selection of tutorials and lectures\n",
    "[Julia Evans Pandas Cookbook](https://github.com/jvns/pandas-cookbook) | Great resource with examples from weather, bikes and 311 calls\n",
    "[Learn Pandas Tutorials](https://bitbucket.org/hrojas/learn-pandas) | A great series of Pandas tutorials from Dave Rojas\n",
    "[Research Computing Python Data PYNBs](https://github.com/ResearchComputing/Meetup-Fall-2013/tree/master/python) | A super awesome set of python notebooks from a meetup-based course exclusively devoted to pandas"
   ]
  }
 ],
 "metadata": {
  "kernelspec": {
   "display_name": "GA DAT",
   "language": "python",
   "name": "ga_dat"
  },
  "language_info": {
   "codemirror_mode": {
    "name": "ipython",
    "version": 2
   },
   "file_extension": ".py",
   "mimetype": "text/x-python",
   "name": "python",
   "nbconvert_exporter": "python",
   "pygments_lexer": "ipython2",
   "version": "2.7.12"
  },
  "latex_envs": {
   "bibliofile": "biblio.bib",
   "cite_by": "apalike",
   "current_citInitial": 1,
   "eqLabelWithNumbers": true,
   "eqNumInitial": 0
  }
 },
 "nbformat": 4,
 "nbformat_minor": 0
}
