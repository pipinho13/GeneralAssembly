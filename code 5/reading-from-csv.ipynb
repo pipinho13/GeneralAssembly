{
 "cells": [
  {
   "cell_type": "code",
   "execution_count": 1,
   "metadata": {
    "ExecuteTime": {
     "end_time": "2016-07-07T13:34:38.483137",
     "start_time": "2016-07-07T13:34:38.309576"
    },
    "collapsed": false
   },
   "outputs": [],
   "source": [
    "import numpy as np\n",
    "import pandas as pd\n",
    "import matplotlib.pyplot as plt\n",
    "plt.style.use('ggplot')\n",
    "%matplotlib inline"
   ]
  },
  {
   "cell_type": "markdown",
   "metadata": {},
   "source": [
    "### 1.1 Reading data from a csv file"
   ]
  },
  {
   "cell_type": "markdown",
   "metadata": {},
   "source": [
    "The `csv` format ([comma-separated values](https://en.wikipedia.org/wiki/Comma-separated_values)) is the most common file-based format to exchange data. The format is not standardized, and you will encounter many varieties in practice - for instance, how values are separated (not always by comma!), how `string` values are represented, or how dates are represented. It is quite important to know how you can translate these different formats to workable standard."
   ]
  },
  {
   "cell_type": "markdown",
   "metadata": {},
   "source": [
    "`pandas` can read data from a `csv` file using the `read_csv` function with numerous options to parse the file contents."
   ]
  },
  {
   "cell_type": "markdown",
   "metadata": {},
   "source": [
    "We will be using two `csv` files  available [here](http://donnees.ville.montreal.qc.ca/dataset/velos-comptage) (in French) containing data on \n",
    "1. the usage of 7 different bike paths in Montréal for each day during 2015 available, and \n",
    "2. the location of the stations that measured usage."
   ]
  },
  {
   "cell_type": "markdown",
   "metadata": {},
   "source": [
    "Let's first look at version of the usage data from 2012 that required some parsing. It is included in the 'data' subfolder of this repository."
   ]
  },
  {
   "cell_type": "code",
   "execution_count": 2,
   "metadata": {
    "ExecuteTime": {
     "end_time": "2016-07-07T13:41:13.794526",
     "start_time": "2016-07-07T13:41:13.785006"
    },
    "collapsed": false
   },
   "outputs": [
    {
     "data": {
      "text/html": [
       "<div>\n",
       "<table border=\"1\" class=\"dataframe\">\n",
       "  <thead>\n",
       "    <tr style=\"text-align: right;\">\n",
       "      <th></th>\n",
       "      <th>Date;Berri 1;Br�beuf (donn�es non disponibles);C�te-Sainte-Catherine;Maisonneuve 1;Maisonneuve 2;du Parc;Pierre-Dupuy;Rachel1;St-Urbain (donn�es non disponibles)</th>\n",
       "    </tr>\n",
       "  </thead>\n",
       "  <tbody>\n",
       "    <tr>\n",
       "      <th>0</th>\n",
       "      <td>01/01/2012;35;;0;38;51;26;10;16;</td>\n",
       "    </tr>\n",
       "    <tr>\n",
       "      <th>1</th>\n",
       "      <td>02/01/2012;83;;1;68;153;53;6;43;</td>\n",
       "    </tr>\n",
       "    <tr>\n",
       "      <th>2</th>\n",
       "      <td>03/01/2012;135;;2;104;248;89;3;58;</td>\n",
       "    </tr>\n",
       "  </tbody>\n",
       "</table>\n",
       "</div>"
      ],
      "text/plain": [
       "  Date;Berri 1;Br�beuf (donn�es non disponibles);C�te-Sainte-Catherine;Maisonneuve 1;Maisonneuve 2;du Parc;Pierre-Dupuy;Rachel1;St-Urbain (donn�es non disponibles)\n",
       "0                   01/01/2012;35;;0;38;51;26;10;16;                                                                                                               \n",
       "1                   02/01/2012;83;;1;68;153;53;6;43;                                                                                                               \n",
       "2                 03/01/2012;135;;2;104;248;89;3;58;                                                                                                               "
      ]
     },
     "execution_count": 2,
     "metadata": {},
     "output_type": "execute_result"
    }
   ],
   "source": [
    "bikes_2012 = pd.read_csv('../data/bike_usage_2012.csv')\n",
    "bikes_2012.head(3)"
   ]
  },
  {
   "cell_type": "code",
   "execution_count": 3,
   "metadata": {
    "ExecuteTime": {
     "end_time": "2016-07-07T14:16:53.149272",
     "start_time": "2016-07-07T14:16:53.030618"
    },
    "collapsed": false
   },
   "outputs": [
    {
     "name": "stdout",
     "output_type": "stream",
     "text": [
      "../data/bike_usage_2012.csv: text/plain; charset=iso-8859-1\r\n"
     ]
    }
   ],
   "source": [
    "!file -I ../data/bike_usage_2012.csv"
   ]
  },
  {
   "cell_type": "markdown",
   "metadata": {},
   "source": [
    "There are at least two issues: \n",
    "- the cells are not separated by commas but by semicolons, and\n",
    "- the `string` representation is off where there seem to be 'special' \n",
    "characters (french accents)."
   ]
  },
  {
   "cell_type": "markdown",
   "metadata": {},
   "source": [
    "We'll use some of the `read_csv` options that to properly parse the file:\n",
    "\n",
    "* `sep`: change the column separator to a `;`\n",
    "* `encoding`: set to `'iso-8859-1'` (or `'latin1'` - the default is `'utf8'` - background [here](http://www.joelonsoftware.com/articles/Unicode.html))\n",
    "* `parse_dates`: Parse 'Date' column by indicating that our dates have day instead of month first\n",
    "* `index_col`: set the index to be the parsed 'Date' column"
   ]
  },
  {
   "cell_type": "code",
   "execution_count": 4,
   "metadata": {
    "ExecuteTime": {
     "end_time": "2016-07-07T14:17:04.615369",
     "start_time": "2016-07-07T14:17:04.531669"
    },
    "collapsed": false
   },
   "outputs": [
    {
     "data": {
      "text/html": [
       "<div>\n",
       "<table border=\"1\" class=\"dataframe\">\n",
       "  <thead>\n",
       "    <tr style=\"text-align: right;\">\n",
       "      <th></th>\n",
       "      <th>Berri 1</th>\n",
       "      <th>Brébeuf (données non disponibles)</th>\n",
       "      <th>Côte-Sainte-Catherine</th>\n",
       "      <th>Maisonneuve 1</th>\n",
       "      <th>Maisonneuve 2</th>\n",
       "      <th>du Parc</th>\n",
       "      <th>Pierre-Dupuy</th>\n",
       "      <th>Rachel1</th>\n",
       "      <th>St-Urbain (données non disponibles)</th>\n",
       "    </tr>\n",
       "    <tr>\n",
       "      <th>Date</th>\n",
       "      <th></th>\n",
       "      <th></th>\n",
       "      <th></th>\n",
       "      <th></th>\n",
       "      <th></th>\n",
       "      <th></th>\n",
       "      <th></th>\n",
       "      <th></th>\n",
       "      <th></th>\n",
       "    </tr>\n",
       "  </thead>\n",
       "  <tbody>\n",
       "    <tr>\n",
       "      <th>2012-01-01</th>\n",
       "      <td>35</td>\n",
       "      <td>NaN</td>\n",
       "      <td>0</td>\n",
       "      <td>38</td>\n",
       "      <td>51</td>\n",
       "      <td>26</td>\n",
       "      <td>10</td>\n",
       "      <td>16</td>\n",
       "      <td>NaN</td>\n",
       "    </tr>\n",
       "    <tr>\n",
       "      <th>2012-01-02</th>\n",
       "      <td>83</td>\n",
       "      <td>NaN</td>\n",
       "      <td>1</td>\n",
       "      <td>68</td>\n",
       "      <td>153</td>\n",
       "      <td>53</td>\n",
       "      <td>6</td>\n",
       "      <td>43</td>\n",
       "      <td>NaN</td>\n",
       "    </tr>\n",
       "    <tr>\n",
       "      <th>2012-01-03</th>\n",
       "      <td>135</td>\n",
       "      <td>NaN</td>\n",
       "      <td>2</td>\n",
       "      <td>104</td>\n",
       "      <td>248</td>\n",
       "      <td>89</td>\n",
       "      <td>3</td>\n",
       "      <td>58</td>\n",
       "      <td>NaN</td>\n",
       "    </tr>\n",
       "  </tbody>\n",
       "</table>\n",
       "</div>"
      ],
      "text/plain": [
       "            Berri 1  Brébeuf (données non disponibles)  Côte-Sainte-Catherine  \\\n",
       "Date                                                                            \n",
       "2012-01-01       35                                NaN                      0   \n",
       "2012-01-02       83                                NaN                      1   \n",
       "2012-01-03      135                                NaN                      2   \n",
       "\n",
       "            Maisonneuve 1  Maisonneuve 2  du Parc  Pierre-Dupuy  Rachel1  \\\n",
       "Date                                                                       \n",
       "2012-01-01             38             51       26            10       16   \n",
       "2012-01-02             68            153       53             6       43   \n",
       "2012-01-03            104            248       89             3       58   \n",
       "\n",
       "            St-Urbain (données non disponibles)  \n",
       "Date                                             \n",
       "2012-01-01                                  NaN  \n",
       "2012-01-02                                  NaN  \n",
       "2012-01-03                                  NaN  "
      ]
     },
     "execution_count": 4,
     "metadata": {},
     "output_type": "execute_result"
    }
   ],
   "source": [
    "bikes_2012_parsed = pd.read_csv('../data/bike_usage_2012.csv', \n",
    "                                sep=';', \n",
    "                                encoding='iso-8859-1', \n",
    "                                parse_dates=['Date'], \n",
    "                                dayfirst=True, \n",
    "                                index_col='Date')\n",
    "bikes_2012_parsed.head(3)"
   ]
  },
  {
   "cell_type": "markdown",
   "metadata": {},
   "source": [
    "`read_csv` can read from a file on disk or from a url. The data are included in the 'data' subfolder of this repo, but let's use the urls:"
   ]
  },
  {
   "cell_type": "code",
   "execution_count": 5,
   "metadata": {
    "ExecuteTime": {
     "end_time": "2016-07-07T13:43:57.994267",
     "start_time": "2016-07-07T13:43:57.991164"
    },
    "collapsed": true
   },
   "outputs": [],
   "source": [
    "bike_usage_url = 'http://donnees.ville.montreal.qc.ca/dataset/f170fecc-18db-44bc-b4fe-5b0b6d2c7297/resource/64c26fd3-0bdf-45f8-92c6-715a9c852a7b/download/comptagesvelo2012.csv'\n",
    "bike_station_url = 'http://donnees.ville.montreal.qc.ca/dataset/f170fecc-18db-44bc-b4fe-5b0b6d2c7297/resource/c7d0546a-a218-479e-bc9f-ce8f13ca972c/download/localisationcompteursvelo2015.csv'"
   ]
  },
  {
   "cell_type": "code",
   "execution_count": 6,
   "metadata": {
    "ExecuteTime": {
     "end_time": "2016-07-07T14:06:17.913011",
     "start_time": "2016-07-07T14:06:17.199442"
    },
    "collapsed": false
   },
   "outputs": [
    {
     "data": {
      "text/html": [
       "<div>\n",
       "<table border=\"1\" class=\"dataframe\">\n",
       "  <thead>\n",
       "    <tr style=\"text-align: right;\">\n",
       "      <th></th>\n",
       "      <th>Unnamed: 1</th>\n",
       "      <th>Berri1</th>\n",
       "      <th>Boyer</th>\n",
       "      <th>Brébeuf</th>\n",
       "      <th>CSC (Côte Sainte-Catherine)</th>\n",
       "      <th>Maisonneuve_1</th>\n",
       "      <th>Maisonneuve_2</th>\n",
       "      <th>Maisonneuve_3</th>\n",
       "      <th>Notre-Dame</th>\n",
       "      <th>Parc</th>\n",
       "      <th>...</th>\n",
       "      <th>Pont_Jacques_Cartier</th>\n",
       "      <th>Rachel / Hôtel de Ville</th>\n",
       "      <th>Rachel / Papineau</th>\n",
       "      <th>René-Lévesque</th>\n",
       "      <th>Saint-Antoine</th>\n",
       "      <th>Saint-Laurent U-Zelt Test</th>\n",
       "      <th>Saint-Urbain</th>\n",
       "      <th>Totem_Laurier</th>\n",
       "      <th>University</th>\n",
       "      <th>Viger</th>\n",
       "    </tr>\n",
       "    <tr>\n",
       "      <th>Date</th>\n",
       "      <th></th>\n",
       "      <th></th>\n",
       "      <th></th>\n",
       "      <th></th>\n",
       "      <th></th>\n",
       "      <th></th>\n",
       "      <th></th>\n",
       "      <th></th>\n",
       "      <th></th>\n",
       "      <th></th>\n",
       "      <th></th>\n",
       "      <th></th>\n",
       "      <th></th>\n",
       "      <th></th>\n",
       "      <th></th>\n",
       "      <th></th>\n",
       "      <th></th>\n",
       "      <th></th>\n",
       "      <th></th>\n",
       "      <th></th>\n",
       "      <th></th>\n",
       "    </tr>\n",
       "  </thead>\n",
       "  <tbody>\n",
       "    <tr>\n",
       "      <th>01/01/2015</th>\n",
       "      <td>00:00</td>\n",
       "      <td>58</td>\n",
       "      <td>12</td>\n",
       "      <td>4</td>\n",
       "      <td>17</td>\n",
       "      <td>33.0</td>\n",
       "      <td>49</td>\n",
       "      <td>21</td>\n",
       "      <td>16</td>\n",
       "      <td>16</td>\n",
       "      <td>...</td>\n",
       "      <td>NaN</td>\n",
       "      <td>58</td>\n",
       "      <td>91</td>\n",
       "      <td>24</td>\n",
       "      <td>3</td>\n",
       "      <td>NaN</td>\n",
       "      <td>17</td>\n",
       "      <td>78</td>\n",
       "      <td>21</td>\n",
       "      <td>6</td>\n",
       "    </tr>\n",
       "    <tr>\n",
       "      <th>02/01/2015</th>\n",
       "      <td>00:00</td>\n",
       "      <td>75</td>\n",
       "      <td>7</td>\n",
       "      <td>5</td>\n",
       "      <td>15</td>\n",
       "      <td>30.0</td>\n",
       "      <td>113</td>\n",
       "      <td>27</td>\n",
       "      <td>9</td>\n",
       "      <td>32</td>\n",
       "      <td>...</td>\n",
       "      <td>NaN</td>\n",
       "      <td>109</td>\n",
       "      <td>177</td>\n",
       "      <td>32</td>\n",
       "      <td>13</td>\n",
       "      <td>NaN</td>\n",
       "      <td>11</td>\n",
       "      <td>57</td>\n",
       "      <td>77</td>\n",
       "      <td>4</td>\n",
       "    </tr>\n",
       "    <tr>\n",
       "      <th>03/01/2015</th>\n",
       "      <td>00:00</td>\n",
       "      <td>79</td>\n",
       "      <td>7</td>\n",
       "      <td>3</td>\n",
       "      <td>7</td>\n",
       "      <td>30.0</td>\n",
       "      <td>107</td>\n",
       "      <td>36</td>\n",
       "      <td>12</td>\n",
       "      <td>18</td>\n",
       "      <td>...</td>\n",
       "      <td>NaN</td>\n",
       "      <td>71</td>\n",
       "      <td>131</td>\n",
       "      <td>33</td>\n",
       "      <td>5</td>\n",
       "      <td>NaN</td>\n",
       "      <td>14</td>\n",
       "      <td>174</td>\n",
       "      <td>40</td>\n",
       "      <td>5</td>\n",
       "    </tr>\n",
       "    <tr>\n",
       "      <th>04/01/2015</th>\n",
       "      <td>00:00</td>\n",
       "      <td>10</td>\n",
       "      <td>1</td>\n",
       "      <td>21</td>\n",
       "      <td>0</td>\n",
       "      <td>10.0</td>\n",
       "      <td>35</td>\n",
       "      <td>29</td>\n",
       "      <td>1</td>\n",
       "      <td>0</td>\n",
       "      <td>...</td>\n",
       "      <td>NaN</td>\n",
       "      <td>6</td>\n",
       "      <td>11</td>\n",
       "      <td>6</td>\n",
       "      <td>1</td>\n",
       "      <td>NaN</td>\n",
       "      <td>1</td>\n",
       "      <td>20</td>\n",
       "      <td>6</td>\n",
       "      <td>0</td>\n",
       "    </tr>\n",
       "    <tr>\n",
       "      <th>05/01/2015</th>\n",
       "      <td>00:00</td>\n",
       "      <td>42</td>\n",
       "      <td>0</td>\n",
       "      <td>2</td>\n",
       "      <td>0</td>\n",
       "      <td>27.0</td>\n",
       "      <td>90</td>\n",
       "      <td>21</td>\n",
       "      <td>1</td>\n",
       "      <td>1</td>\n",
       "      <td>...</td>\n",
       "      <td>NaN</td>\n",
       "      <td>0</td>\n",
       "      <td>5</td>\n",
       "      <td>49</td>\n",
       "      <td>20</td>\n",
       "      <td>NaN</td>\n",
       "      <td>0</td>\n",
       "      <td>41</td>\n",
       "      <td>56</td>\n",
       "      <td>10</td>\n",
       "    </tr>\n",
       "  </tbody>\n",
       "</table>\n",
       "<p>5 rows × 22 columns</p>\n",
       "</div>"
      ],
      "text/plain": [
       "           Unnamed: 1  Berri1  Boyer  Brébeuf  CSC (Côte Sainte-Catherine)  \\\n",
       "Date                                                                         \n",
       "01/01/2015      00:00      58     12        4                           17   \n",
       "02/01/2015      00:00      75      7        5                           15   \n",
       "03/01/2015      00:00      79      7        3                            7   \n",
       "04/01/2015      00:00      10      1       21                            0   \n",
       "05/01/2015      00:00      42      0        2                            0   \n",
       "\n",
       "            Maisonneuve_1  Maisonneuve_2  Maisonneuve_3  Notre-Dame  Parc  \\\n",
       "Date                                                                        \n",
       "01/01/2015           33.0             49             21          16    16   \n",
       "02/01/2015           30.0            113             27           9    32   \n",
       "03/01/2015           30.0            107             36          12    18   \n",
       "04/01/2015           10.0             35             29           1     0   \n",
       "05/01/2015           27.0             90             21           1     1   \n",
       "\n",
       "            ...    Pont_Jacques_Cartier  Rachel / Hôtel de Ville  \\\n",
       "Date        ...                                                    \n",
       "01/01/2015  ...                     NaN                       58   \n",
       "02/01/2015  ...                     NaN                      109   \n",
       "03/01/2015  ...                     NaN                       71   \n",
       "04/01/2015  ...                     NaN                        6   \n",
       "05/01/2015  ...                     NaN                        0   \n",
       "\n",
       "            Rachel / Papineau  René-Lévesque  Saint-Antoine  \\\n",
       "Date                                                          \n",
       "01/01/2015                 91             24              3   \n",
       "02/01/2015                177             32             13   \n",
       "03/01/2015                131             33              5   \n",
       "04/01/2015                 11              6              1   \n",
       "05/01/2015                  5             49             20   \n",
       "\n",
       "            Saint-Laurent U-Zelt Test  Saint-Urbain  Totem_Laurier  \\\n",
       "Date                                                                 \n",
       "01/01/2015                        NaN            17             78   \n",
       "02/01/2015                        NaN            11             57   \n",
       "03/01/2015                        NaN            14            174   \n",
       "04/01/2015                        NaN             1             20   \n",
       "05/01/2015                        NaN             0             41   \n",
       "\n",
       "            University  Viger  \n",
       "Date                           \n",
       "01/01/2015          21      6  \n",
       "02/01/2015          77      4  \n",
       "03/01/2015          40      5  \n",
       "04/01/2015           6      0  \n",
       "05/01/2015          56     10  \n",
       "\n",
       "[5 rows x 22 columns]"
      ]
     },
     "execution_count": 6,
     "metadata": {},
     "output_type": "execute_result"
    }
   ],
   "source": [
    "bike_usage = pd.read_csv(bike_usage_url, index_col='Date')\n",
    "bike_usage.head()"
   ]
  },
  {
   "cell_type": "markdown",
   "metadata": {},
   "source": [
    "Let's get rid of the 'Unnamed' column (the file as the `hour` and `minute` part of the date in a separate column with not header, but we don't need this for daily data)."
   ]
  },
  {
   "cell_type": "code",
   "execution_count": 7,
   "metadata": {
    "ExecuteTime": {
     "end_time": "2016-07-07T14:06:20.292748",
     "start_time": "2016-07-07T14:06:20.283446"
    },
    "collapsed": false
   },
   "outputs": [
    {
     "name": "stdout",
     "output_type": "stream",
     "text": [
      "<class 'pandas.core.frame.DataFrame'>\n",
      "Index: 319 entries, 01/01/2015 to 15/11/2015\n",
      "Data columns (total 21 columns):\n",
      "Berri1                         319 non-null int64\n",
      "Boyer                          319 non-null int64\n",
      "Brébeuf                        319 non-null int64\n",
      "CSC (Côte Sainte-Catherine)    319 non-null int64\n",
      "Maisonneuve_1                  62 non-null float64\n",
      "Maisonneuve_2                  319 non-null int64\n",
      "Maisonneuve_3                  319 non-null int64\n",
      "Notre-Dame                     319 non-null int64\n",
      "Parc                           319 non-null int64\n",
      "Parc U-Zelt Test               52 non-null float64\n",
      "PierDup                        319 non-null int64\n",
      "Pont_Jacques_Cartier           209 non-null float64\n",
      "Rachel / Hôtel de Ville        319 non-null int64\n",
      "Rachel / Papineau              319 non-null int64\n",
      "René-Lévesque                  319 non-null int64\n",
      "Saint-Antoine                  319 non-null int64\n",
      "Saint-Laurent U-Zelt Test      50 non-null float64\n",
      "Saint-Urbain                   319 non-null int64\n",
      "Totem_Laurier                  319 non-null int64\n",
      "University                     319 non-null int64\n",
      "Viger                          319 non-null int64\n",
      "dtypes: float64(4), int64(17)\n",
      "memory usage: 54.8+ KB\n"
     ]
    }
   ],
   "source": [
    "# dropping the first COLUMN, so need to use axis=1\n",
    "# using inplace, so the original object is modified \n",
    "# so you'll get an error if you run this twice!\n",
    "bike_usage.drop('Unnamed: 1', axis=1, inplace=True)\n",
    "bike_usage.info()"
   ]
  },
  {
   "cell_type": "code",
   "execution_count": null,
   "metadata": {
    "collapsed": false
   },
   "outputs": [],
   "source": [
    "bike_usage.head()"
   ]
  },
  {
   "cell_type": "code",
   "execution_count": 9,
   "metadata": {
    "collapsed": false
   },
   "outputs": [
    {
     "data": {
      "text/plain": [
       "0                        Berri1\n",
       "1                         Boyer\n",
       "2                       Brebeuf\n",
       "3                           CSC\n",
       "4                 Maisonneuve_1\n",
       "5                 Maisonneuve_2\n",
       "6                 Maisonneuve_3\n",
       "7                    Notre-Dame\n",
       "8                          Parc\n",
       "9              Parc U-Zelt Test\n",
       "10                      PierDup\n",
       "11         Pont_Jacques-Cartier\n",
       "12       Rachel/HÃ´tel de Ville\n",
       "13              Rachel/Papineau\n",
       "14              RenÃ©-LÃ©vesque\n",
       "15                Saint-Antoine\n",
       "16    Saint-Laurent U-Zelt Test\n",
       "17                 Saint-Urbain\n",
       "18                Totem_Laurier\n",
       "19                   University\n",
       "20                        Viger\n",
       "Name: nom_comptage, dtype: object"
      ]
     },
     "execution_count": 9,
     "metadata": {},
     "output_type": "execute_result"
    }
   ],
   "source": [
    "stations = pd.read_csv(bike_station_url, encoding='latin1')\n",
    "stations.nom_comptage.sort_values().reset_index(drop=True)"
   ]
  },
  {
   "cell_type": "markdown",
   "metadata": {},
   "source": [
    "### Creating a Map of Bike Usage"
   ]
  },
  {
   "cell_type": "code",
   "execution_count": 10,
   "metadata": {
    "collapsed": false
   },
   "outputs": [
    {
     "data": {
      "text/html": [
       "<div style=\"width:100%;\"><div style=\"position:relative;width:100%;height:0;padding-bottom:60%;\"><iframe src=\"data:text/html;base64,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\" style=\"position:absolute;width:100%;height:100%;left:0;top:0;\"></iframe></div></div>"
      ],
      "text/plain": [
       "<folium.folium.Map at 0x1052b2190>"
      ]
     },
     "execution_count": 10,
     "metadata": {},
     "output_type": "execute_result"
    }
   ],
   "source": [
    "import folium\n",
    "map_center = stations[['coord_Y', 'coord_X']].mean().tolist()\n",
    "map = folium.Map(location=map_center)\n",
    "map"
   ]
  },
  {
   "cell_type": "code",
   "execution_count": 11,
   "metadata": {
    "collapsed": false
   },
   "outputs": [
    {
     "data": {
      "text/html": [
       "<div>\n",
       "<table border=\"1\" class=\"dataframe\">\n",
       "  <thead>\n",
       "    <tr style=\"text-align: right;\">\n",
       "      <th></th>\n",
       "      <th>avg_usage</th>\n",
       "    </tr>\n",
       "  </thead>\n",
       "  <tbody>\n",
       "    <tr>\n",
       "      <th>Berri1</th>\n",
       "      <td>2915.3981</td>\n",
       "    </tr>\n",
       "    <tr>\n",
       "      <th>Boyer</th>\n",
       "      <td>2212.9091</td>\n",
       "    </tr>\n",
       "    <tr>\n",
       "      <th>Brébeuf</th>\n",
       "      <td>2859.4859</td>\n",
       "    </tr>\n",
       "    <tr>\n",
       "      <th>CSC (Côte Sainte-Catherine)</th>\n",
       "      <td>1167.3887</td>\n",
       "    </tr>\n",
       "    <tr>\n",
       "      <th>Maisonneuve_1</th>\n",
       "      <td>89.9355</td>\n",
       "    </tr>\n",
       "    <tr>\n",
       "      <th>Maisonneuve_2</th>\n",
       "      <td>2208.0313</td>\n",
       "    </tr>\n",
       "    <tr>\n",
       "      <th>Maisonneuve_3</th>\n",
       "      <td>986.1379</td>\n",
       "    </tr>\n",
       "    <tr>\n",
       "      <th>Notre-Dame</th>\n",
       "      <td>1137.3166</td>\n",
       "    </tr>\n",
       "    <tr>\n",
       "      <th>Parc</th>\n",
       "      <td>1754.2571</td>\n",
       "    </tr>\n",
       "    <tr>\n",
       "      <th>Parc U-Zelt Test</th>\n",
       "      <td>2090.2500</td>\n",
       "    </tr>\n",
       "    <tr>\n",
       "      <th>PierDup</th>\n",
       "      <td>1130.7085</td>\n",
       "    </tr>\n",
       "    <tr>\n",
       "      <th>Pont_Jacques_Cartier</th>\n",
       "      <td>2164.5789</td>\n",
       "    </tr>\n",
       "    <tr>\n",
       "      <th>Rachel / Hôtel de Ville</th>\n",
       "      <td>2207.6270</td>\n",
       "    </tr>\n",
       "    <tr>\n",
       "      <th>Rachel / Papineau</th>\n",
       "      <td>2939.2947</td>\n",
       "    </tr>\n",
       "    <tr>\n",
       "      <th>René-Lévesque</th>\n",
       "      <td>1477.2069</td>\n",
       "    </tr>\n",
       "    <tr>\n",
       "      <th>Saint-Antoine</th>\n",
       "      <td>207.4765</td>\n",
       "    </tr>\n",
       "    <tr>\n",
       "      <th>Saint-Laurent U-Zelt Test</th>\n",
       "      <td>4563.1800</td>\n",
       "    </tr>\n",
       "    <tr>\n",
       "      <th>Saint-Urbain</th>\n",
       "      <td>1387.1191</td>\n",
       "    </tr>\n",
       "    <tr>\n",
       "      <th>Totem_Laurier</th>\n",
       "      <td>1903.3636</td>\n",
       "    </tr>\n",
       "    <tr>\n",
       "      <th>University</th>\n",
       "      <td>2023.7085</td>\n",
       "    </tr>\n",
       "    <tr>\n",
       "      <th>Viger</th>\n",
       "      <td>295.3480</td>\n",
       "    </tr>\n",
       "  </tbody>\n",
       "</table>\n",
       "</div>"
      ],
      "text/plain": [
       "                             avg_usage\n",
       "Berri1                       2915.3981\n",
       "Boyer                        2212.9091\n",
       "Brébeuf                      2859.4859\n",
       "CSC (Côte Sainte-Catherine)  1167.3887\n",
       "Maisonneuve_1                  89.9355\n",
       "Maisonneuve_2                2208.0313\n",
       "Maisonneuve_3                 986.1379\n",
       "Notre-Dame                   1137.3166\n",
       "Parc                         1754.2571\n",
       "Parc U-Zelt Test             2090.2500\n",
       "PierDup                      1130.7085\n",
       "Pont_Jacques_Cartier         2164.5789\n",
       "Rachel / Hôtel de Ville      2207.6270\n",
       "Rachel / Papineau            2939.2947\n",
       "René-Lévesque                1477.2069\n",
       "Saint-Antoine                 207.4765\n",
       "Saint-Laurent U-Zelt Test    4563.1800\n",
       "Saint-Urbain                 1387.1191\n",
       "Totem_Laurier                1903.3636\n",
       "University                   2023.7085\n",
       "Viger                         295.3480"
      ]
     },
     "execution_count": 11,
     "metadata": {},
     "output_type": "execute_result"
    }
   ],
   "source": [
    "avg_bike_usage = bike_usage.mean().to_frame('avg_usage')\n",
    "avg_bike_usage.sort_index()"
   ]
  },
  {
   "cell_type": "code",
   "execution_count": 12,
   "metadata": {
    "collapsed": false
   },
   "outputs": [
    {
     "name": "stdout",
     "output_type": "stream",
     "text": [
      "<class 'pandas.core.frame.DataFrame'>\n",
      "RangeIndex: 21 entries, 0 to 20\n",
      "Data columns (total 5 columns):\n",
      "nom             21 non-null object\n",
      "nom_comptage    21 non-null object\n",
      "coord_X         21 non-null float64\n",
      "coord_Y         21 non-null float64\n",
      "avg_usage       15 non-null float64\n",
      "dtypes: float64(3), object(2)\n",
      "memory usage: 912.0+ bytes\n"
     ]
    },
    {
     "name": "stderr",
     "output_type": "stream",
     "text": [
      "/Users/Stefan/.virtualenvs/ga_ds/lib/python2.7/site-packages/pandas/tools/merge.py:714: UnicodeWarning: Unicode equal comparison failed to convert both arguments to Unicode - interpreting them as being unequal\n",
      "  rlab = rizer.factorize(rk)\n"
     ]
    }
   ],
   "source": [
    "stations_summary = stations.merge(avg_bike_usage, \n",
    "                left_on='nom_comptage', right_index=True, how='left').loc[:,\n",
    "                  ['nom', 'nom_comptage', 'coord_X', 'coord_Y', 'avg_usage']]\n",
    "stations_summary.info()"
   ]
  },
  {
   "cell_type": "code",
   "execution_count": 13,
   "metadata": {
    "collapsed": false
   },
   "outputs": [
    {
     "name": "stdout",
     "output_type": "stream",
     "text": [
      "1                    Brebeuf\n",
      "4            Rachel/Papineau\n",
      "6                        CSC\n",
      "7       Pont_Jacques-Cartier\n",
      "14    Rachel/HÃ´tel de Ville\n",
      "16           RenÃ©-LÃ©vesque\n",
      "Name: nom_comptage, dtype: object\n"
     ]
    },
    {
     "name": "stderr",
     "output_type": "stream",
     "text": [
      "/Users/Stefan/.virtualenvs/ga_ds/lib/python2.7/site-packages/pandas/core/algorithms.py:140: UnicodeWarning: Unicode equal comparison failed to convert both arguments to Unicode - interpreting them as being unequal\n",
      "  f = lambda x, y: lib.ismember(x, set(values))\n"
     ]
    }
   ],
   "source": [
    "missing_stations = stations[~stations.nom_comptage.isin(avg_bike_usage.index.tolist())].nom_comptage\n",
    "print missing_stations"
   ]
  },
  {
   "cell_type": "code",
   "execution_count": 14,
   "metadata": {
    "collapsed": false
   },
   "outputs": [
    {
     "data": {
      "text/plain": [
       "{u'Brebeuf': 'Brebeuf',\n",
       " u'CSC': 'CSC',\n",
       " u'Pont_Jacques-Cartier': 'Pont_Jacques-Cartier',\n",
       " u'Rachel/H\\xc3\\xb4tel de Ville': 'Rachel/Htel de Ville',\n",
       " u'Rachel/Papineau': 'Rachel/Papineau',\n",
       " u'Ren\\xc3\\xa9-L\\xc3\\xa9vesque': 'Ren-Lvesque'}"
      ]
     },
     "execution_count": 14,
     "metadata": {},
     "output_type": "execute_result"
    }
   ],
   "source": [
    "# alternative to achieve the same result\n",
    "missing_stations = stations_summary[pd.isnull(stations_summary.avg_usage)].nom_comptage\n",
    "{m:m.encode('ascii','ignore') for m in missing_stations}"
   ]
  },
  {
   "cell_type": "code",
   "execution_count": 15,
   "metadata": {
    "collapsed": false
   },
   "outputs": [
    {
     "data": {
      "text/plain": [
       "{'Br\\xc3\\xa9beuf': u'Brbeuf',\n",
       " 'CSC (C\\xc3\\xb4te Sainte-Catherine)': u'CSC (Cte Sainte-Catherine)',\n",
       " 'Pont_Jacques_Cartier': u'Pont_Jacques_Cartier',\n",
       " 'Rachel / H\\xc3\\xb4tel de Ville': u'Rachel / Htel de Ville',\n",
       " 'Rachel / Papineau': u'Rachel / Papineau',\n",
       " 'Ren\\xc3\\xa9-L\\xc3\\xa9vesque': u'Ren-Lvesque'}"
      ]
     },
     "execution_count": 15,
     "metadata": {},
     "output_type": "execute_result"
    }
   ],
   "source": [
    "# stations from 'usage' data that don't match\n",
    "to_match = avg_bike_usage[~avg_bike_usage.index.isin(stations_summary.nom_comptage)].index.tolist()\n",
    "{m:m.decode('ascii','ignore') for m in to_match}"
   ]
  },
  {
   "cell_type": "code",
   "execution_count": 16,
   "metadata": {
    "collapsed": false
   },
   "outputs": [
    {
     "name": "stdout",
     "output_type": "stream",
     "text": [
      "                            Brebeuf\n",
      "Brbeuf                      92.3077\n",
      "Ren-Lvesque                 33.3333\n",
      "Rachel / Papineau           25.0000\n",
      "Pont_Jacques_Cartier        14.8148\n",
      "Rachel / Htel de Ville      13.7931\n",
      "CSC (Cte Sainte-Catherine)  12.1212\n",
      "                            Rachel/Papineau\n",
      "Rachel / Papineau                   93.7500\n",
      "Rachel / Htel de Ville              48.6486\n",
      "Ren-Lvesque                         38.4615\n",
      "Pont_Jacques_Cartier                34.2857\n",
      "CSC (Cte Sainte-Catherine)          29.2683\n",
      "Brbeuf                              19.0476\n",
      "                                CSC\n",
      "CSC (Cte Sainte-Catherine)  20.6897\n",
      "Pont_Jacques_Cartier         8.6957\n",
      "Ren-Lvesque                  0.0000\n",
      "Rachel / Papineau            0.0000\n",
      "Rachel / Htel de Ville       0.0000\n",
      "Brbeuf                       0.0000\n",
      "                            Pont_Jacques-Cartier\n",
      "Pont_Jacques_Cartier                     95.0000\n",
      "CSC (Cte Sainte-Catherine)               39.1304\n",
      "Rachel / Htel de Ville                   28.5714\n",
      "Ren-Lvesque                              25.8065\n",
      "Rachel / Papineau                        16.2162\n",
      "Brbeuf                                    7.6923\n",
      "                            Rachel/Htel de Ville\n",
      "Rachel / Htel de Ville                   95.2381\n",
      "Rachel / Papineau                        43.2432\n",
      "Ren-Lvesque                              25.8065\n",
      "Pont_Jacques_Cartier                     25.0000\n",
      "CSC (Cte Sainte-Catherine)               17.3913\n",
      "Brbeuf                                    7.6923\n",
      "                            Ren-Lvesque\n",
      "Ren-Lvesque                    100.0000\n",
      "Rachel / Papineau               35.7143\n",
      "CSC (Cte Sainte-Catherine)      27.0270\n",
      "Pont_Jacques_Cartier            25.8065\n",
      "Rachel / Htel de Ville          24.2424\n",
      "Brbeuf                          23.5294\n"
     ]
    }
   ],
   "source": [
    "# Testing string matching for all missing stations\n",
    "from difflib import SequenceMatcher\n",
    "missing_station_list = [m.encode('ascii','ignore') for m in missing_stations]\n",
    "to_match_list = [m.decode('ascii','ignore') for m in to_match]\n",
    "for missing_station in missing_station_list:\n",
    "    print pd.Series({station: SequenceMatcher(None, \n",
    "          missing_station,station).ratio()*100 \n",
    "                     for station in to_match_list})\\\n",
    "    .sort_values(ascending=False).to_frame(missing_station)        "
   ]
  },
  {
   "cell_type": "code",
   "execution_count": 17,
   "metadata": {
    "collapsed": false
   },
   "outputs": [
    {
     "name": "stderr",
     "output_type": "stream",
     "text": [
      "/usr/local/Cellar/python/2.7.11/Frameworks/Python.framework/Versions/2.7/lib/python2.7/difflib.py:433: UnicodeWarning: Unicode equal comparison failed to convert both arguments to Unicode - interpreting them as being unequal\n",
      "  a[besti-1] == b[bestj-1]:\n",
      "/usr/local/Cellar/python/2.7.11/Frameworks/Python.framework/Versions/2.7/lib/python2.7/difflib.py:437: UnicodeWarning: Unicode equal comparison failed to convert both arguments to Unicode - interpreting them as being unequal\n",
      "  a[besti+bestsize] == b[bestj+bestsize]:\n",
      "/usr/local/Cellar/python/2.7.11/Frameworks/Python.framework/Versions/2.7/lib/python2.7/difflib.py:416: UnicodeWarning: Unicode equal comparison failed to convert both arguments to Unicode - interpreting them as being unequal\n",
      "  for j in b2j.get(a[i], nothing):\n"
     ]
    },
    {
     "data": {
      "text/html": [
       "<div>\n",
       "<table border=\"1\" class=\"dataframe\">\n",
       "  <thead>\n",
       "    <tr style=\"text-align: right;\">\n",
       "      <th></th>\n",
       "      <th>missing</th>\n",
       "      <th>replacement</th>\n",
       "    </tr>\n",
       "  </thead>\n",
       "  <tbody>\n",
       "    <tr>\n",
       "      <th>1</th>\n",
       "      <td>Brebeuf</td>\n",
       "      <td>Brébeuf</td>\n",
       "    </tr>\n",
       "    <tr>\n",
       "      <th>4</th>\n",
       "      <td>Rachel/Papineau</td>\n",
       "      <td>Rachel / Papineau</td>\n",
       "    </tr>\n",
       "    <tr>\n",
       "      <th>6</th>\n",
       "      <td>CSC</td>\n",
       "      <td>CSC (Côte Sainte-Catherine)</td>\n",
       "    </tr>\n",
       "    <tr>\n",
       "      <th>7</th>\n",
       "      <td>Pont_Jacques-Cartier</td>\n",
       "      <td>Pont_Jacques_Cartier</td>\n",
       "    </tr>\n",
       "    <tr>\n",
       "      <th>14</th>\n",
       "      <td>Rachel/HÃ´tel de Ville</td>\n",
       "      <td>Rachel / Hôtel de Ville</td>\n",
       "    </tr>\n",
       "    <tr>\n",
       "      <th>16</th>\n",
       "      <td>RenÃ©-LÃ©vesque</td>\n",
       "      <td>René-Lévesque</td>\n",
       "    </tr>\n",
       "  </tbody>\n",
       "</table>\n",
       "</div>"
      ],
      "text/plain": [
       "                   missing                  replacement\n",
       "1                  Brebeuf                      Brébeuf\n",
       "4          Rachel/Papineau            Rachel / Papineau\n",
       "6                      CSC  CSC (Côte Sainte-Catherine)\n",
       "7     Pont_Jacques-Cartier         Pont_Jacques_Cartier\n",
       "14  Rachel/HÃ´tel de Ville      Rachel / Hôtel de Ville\n",
       "16         RenÃ©-LÃ©vesque                René-Lévesque"
      ]
     },
     "execution_count": 17,
     "metadata": {},
     "output_type": "execute_result"
    }
   ],
   "source": [
    "# since the above works, let's \n",
    "def get_match(missing_station):\n",
    "    matches = {station: SequenceMatcher(None, \n",
    "          missing_station,station).ratio()\n",
    "                     for station in to_match}\n",
    "    return max(matches, key=matches.get)\n",
    "\n",
    "matches = pd.concat([missing_stations, missing_stations.apply(lambda x: get_match(x))], axis=1)\n",
    "matches.columns = ['missing', 'replacement']\n",
    "matches"
   ]
  },
  {
   "cell_type": "code",
   "execution_count": 18,
   "metadata": {
    "collapsed": false
   },
   "outputs": [],
   "source": [
    "match_dict = dict(zip(matches.missing, matches.replacement))\n",
    "stations.nom_comptage = stations.nom_comptage.apply(lambda x: match_dict.get(x, x))"
   ]
  },
  {
   "cell_type": "code",
   "execution_count": 19,
   "metadata": {
    "collapsed": false
   },
   "outputs": [
    {
     "data": {
      "text/plain": [
       "0                    Saint-Urbain\n",
       "1                         Brébeuf\n",
       "2                   Maisonneuve_1\n",
       "3                   Maisonneuve_2\n",
       "4               Rachel / Papineau\n",
       "5                      University\n",
       "6     CSC (Côte Sainte-Catherine)\n",
       "7            Pont_Jacques_Cartier\n",
       "8                         PierDup\n",
       "9                   Saint-Antoine\n",
       "10                          Viger\n",
       "11                  Maisonneuve_3\n",
       "12                     Notre-Dame\n",
       "13                           Parc\n",
       "14        Rachel / Hôtel de Ville\n",
       "15                          Boyer\n",
       "16                  René-Lévesque\n",
       "17                  Totem_Laurier\n",
       "18                         Berri1\n",
       "19               Parc U-Zelt Test\n",
       "20      Saint-Laurent U-Zelt Test\n",
       "Name: nom_comptage, dtype: object"
      ]
     },
     "execution_count": 19,
     "metadata": {},
     "output_type": "execute_result"
    }
   ],
   "source": [
    "stations.nom_comptage"
   ]
  },
  {
   "cell_type": "code",
   "execution_count": 20,
   "metadata": {
    "collapsed": false
   },
   "outputs": [
    {
     "name": "stdout",
     "output_type": "stream",
     "text": [
      "<class 'pandas.core.frame.DataFrame'>\n",
      "RangeIndex: 21 entries, 0 to 20\n",
      "Data columns (total 5 columns):\n",
      "nom             21 non-null object\n",
      "nom_comptage    21 non-null object\n",
      "coord_X         21 non-null float64\n",
      "coord_Y         21 non-null float64\n",
      "avg_usage       21 non-null float64\n",
      "dtypes: float64(3), object(2)\n",
      "memory usage: 912.0+ bytes\n"
     ]
    },
    {
     "name": "stderr",
     "output_type": "stream",
     "text": [
      "/Users/Stefan/.virtualenvs/ga_ds/lib/python2.7/site-packages/pandas/tools/merge.py:713: UnicodeWarning: Unicode equal comparison failed to convert both arguments to Unicode - interpreting them as being unequal\n",
      "  llab = rizer.factorize(lk)\n"
     ]
    }
   ],
   "source": [
    "stations_summary = stations.merge(avg_bike_usage, \n",
    "                left_on='nom_comptage', right_index=True, how='left').loc[:,\n",
    "                  ['nom', 'nom_comptage', 'coord_X', 'coord_Y', 'avg_usage']]\n",
    "stations_summary.info()"
   ]
  },
  {
   "cell_type": "markdown",
   "metadata": {},
   "source": [
    "<style>\n",
    "    @font-face {\n",
    "        font-family: \"Computer Modern\";\n",
    "        src: url('http://mirrors.ctan.org/fonts/cm-unicode/fonts/otf/cmunss.otf');\n",
    "    }\n",
    "    div.cell{\n",
    "        width:800px;\n",
    "        margin-left:16% !important;\n",
    "        margin-right:auto;\n",
    "    }\n",
    "    h1 {\n",
    "        font-family: Helvetica, serif;\n",
    "    }\n",
    "    h4{\n",
    "        margin-top:12px;\n",
    "        margin-bottom: 3px;\n",
    "       }\n",
    "    div.text_cell_render{\n",
    "        font-family: Computer Modern, \"Helvetica Neue\", Arial, Helvetica, Geneva, sans-serif;\n",
    "        line-height: 145%;\n",
    "        font-size: 130%;\n",
    "        width:800px;\n",
    "        margin-left:auto;\n",
    "        margin-right:auto;\n",
    "    }\n",
    "    .CodeMirror{\n",
    "            font-family: \"Source Code Pro\", source-code-pro,Consolas, monospace;\n",
    "    }\n",
    "    .text_cell_render h5 {\n",
    "        font-weight: 300;\n",
    "        font-size: 22pt;\n",
    "        color: #4057A1;\n",
    "        font-style: italic;\n",
    "        margin-bottom: .5em;\n",
    "        margin-top: 0.5em;\n",
    "        display: block;\n",
    "    }\n",
    "    \n",
    "    .warning{\n",
    "        color: rgb( 240, 20, 20 )\n",
    "        }  "
   ]
  },
  {
   "cell_type": "code",
   "execution_count": 21,
   "metadata": {
    "collapsed": false
   },
   "outputs": [
    {
     "data": {
      "text/html": [
       "<div style=\"width:100%;\"><div style=\"position:relative;width:100%;height:0;padding-bottom:60%;\"><iframe src=\"data:text/html;base64,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\" style=\"position:absolute;width:100%;height:100%;left:0;top:0;\"></iframe></div></div>"
      ],
      "text/plain": [
       "<folium.folium.Map at 0x1053ca8d0>"
      ]
     },
     "execution_count": 21,
     "metadata": {},
     "output_type": "execute_result"
    }
   ],
   "source": [
    "import folium\n",
    "map_center = stations[['coord_Y', 'coord_X']].mean().tolist()\n",
    "map = folium.Map(location=map_center, zoom_start=13)\n",
    "map"
   ]
  },
  {
   "cell_type": "code",
   "execution_count": 22,
   "metadata": {
    "collapsed": false
   },
   "outputs": [],
   "source": [
    "for i, location in stations_summary.iterrows():\n",
    "    folium.CircleMarker(location.loc[['coord_Y', 'coord_X']],\n",
    "                    radius= np.sqrt(location.avg_usage/np.pi)*10,\n",
    "                    popup=location.nom_comptage.decode('ascii', 'ignore'),\n",
    "                    color='#3186cc',\n",
    "                    fill_color='#3186cc',\n",
    "                   ).add_to(map)"
   ]
  },
  {
   "cell_type": "code",
   "execution_count": 23,
   "metadata": {
    "collapsed": false
   },
   "outputs": [
    {
     "data": {
      "text/html": [
       "<div style=\"width:100%;\"><div style=\"position:relative;width:100%;height:0;padding-bottom:60%;\"><iframe src=\"data:text/html;base64,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\" style=\"position:absolute;width:100%;height:100%;left:0;top:0;\"></iframe></div></div>"
      ],
      "text/plain": [
       "<folium.folium.Map at 0x1053ca8d0>"
      ]
     },
     "execution_count": 23,
     "metadata": {},
     "output_type": "execute_result"
    }
   ],
   "source": [
    "map"
   ]
  },
  {
   "cell_type": "code",
   "execution_count": null,
   "metadata": {
    "collapsed": false
   },
   "outputs": [],
   "source": [
    "stations_summary.to_excel('test.xlsx')"
   ]
  },
  {
   "cell_type": "code",
   "execution_count": null,
   "metadata": {
    "collapsed": true
   },
   "outputs": [],
   "source": []
  }
 ],
 "metadata": {
  "kernelspec": {
   "display_name": "Python 2",
   "language": "python",
   "name": "python2"
  },
  "language_info": {
   "codemirror_mode": {
    "name": "ipython",
    "version": 2
   },
   "file_extension": ".py",
   "mimetype": "text/x-python",
   "name": "python",
   "nbconvert_exporter": "python",
   "pygments_lexer": "ipython2",
   "version": "2.7.11"
  }
 },
 "nbformat": 4,
 "nbformat_minor": 0
}
