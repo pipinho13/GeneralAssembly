{
 "cells": [
  {
   "cell_type": "code",
   "execution_count": null,
   "metadata": {
    "collapsed": false
   },
   "outputs": [],
   "source": [
    "import statsmodels.api as sm\n",
    "from sklearn.linear_model import LogisticRegression\n",
    "import numpy as np\n",
    "%matplotlib inline\n",
    "import matplotlib.pyplot as plt\n",
    "plt.style.use('ggplot')"
   ]
  },
  {
   "cell_type": "code",
   "execution_count": 2,
   "metadata": {
    "collapsed": false
   },
   "outputs": [
    {
     "ename": "NameError",
     "evalue": "name 'sm' is not defined",
     "output_type": "error",
     "traceback": [
      "\u001b[0;31m---------------------------------------------------------------------------\u001b[0m",
      "\u001b[0;31mNameError\u001b[0m                                 Traceback (most recent call last)",
      "\u001b[0;32m<ipython-input-2-cd1e67ff7fb3>\u001b[0m in \u001b[0;36m<module>\u001b[0;34m()\u001b[0m\n\u001b[1;32m      1\u001b[0m \u001b[0;31m# Getting some random data\u001b[0m\u001b[0;34m\u001b[0m\u001b[0;34m\u001b[0m\u001b[0m\n\u001b[0;32m----> 2\u001b[0;31m \u001b[0mdata\u001b[0m \u001b[0;34m=\u001b[0m \u001b[0msm\u001b[0m\u001b[0;34m.\u001b[0m\u001b[0mdatasets\u001b[0m\u001b[0;34m.\u001b[0m\u001b[0mspector\u001b[0m\u001b[0;34m.\u001b[0m\u001b[0mload\u001b[0m\u001b[0;34m(\u001b[0m\u001b[0;34m)\u001b[0m\u001b[0;34m\u001b[0m\u001b[0m\n\u001b[0m\u001b[1;32m      3\u001b[0m \u001b[0mX\u001b[0m \u001b[0;34m=\u001b[0m \u001b[0msm\u001b[0m\u001b[0;34m.\u001b[0m\u001b[0madd_constant\u001b[0m\u001b[0;34m(\u001b[0m\u001b[0mdata\u001b[0m\u001b[0;34m.\u001b[0m\u001b[0mexog\u001b[0m\u001b[0;34m,\u001b[0m \u001b[0mprepend\u001b[0m\u001b[0;34m=\u001b[0m\u001b[0mFalse\u001b[0m\u001b[0;34m)\u001b[0m\u001b[0;34m\u001b[0m\u001b[0m\n\u001b[1;32m      4\u001b[0m \u001b[0my\u001b[0m \u001b[0;34m=\u001b[0m \u001b[0mdata\u001b[0m\u001b[0;34m.\u001b[0m\u001b[0mendog\u001b[0m\u001b[0;34m\u001b[0m\u001b[0m\n\u001b[1;32m      5\u001b[0m \u001b[0mfeatures\u001b[0m \u001b[0;34m=\u001b[0m \u001b[0;34m[\u001b[0m\u001b[0;34m'x1'\u001b[0m\u001b[0;34m,\u001b[0m \u001b[0;34m'x2'\u001b[0m\u001b[0;34m,\u001b[0m \u001b[0;34m'x3'\u001b[0m\u001b[0;34m,\u001b[0m \u001b[0;34m'const'\u001b[0m\u001b[0;34m]\u001b[0m\u001b[0;34m\u001b[0m\u001b[0m\n",
      "\u001b[0;31mNameError\u001b[0m: name 'sm' is not defined"
     ]
    }
   ],
   "source": [
    "# Getting some random data\n",
    "data = sm.datasets.spector.load()\n",
    "X = sm.add_constant(data.exog, prepend=False)\n",
    "y = data.endog\n",
    "features = ['x1', 'x2', 'x3', 'const']"
   ]
  },
  {
   "cell_type": "code",
   "execution_count": 50,
   "metadata": {
    "collapsed": false
   },
   "outputs": [
    {
     "data": {
      "text/plain": [
       "array([[  2.66,  20.  ,   0.  ,   1.  ],\n",
       "       [  2.89,  22.  ,   0.  ,   1.  ],\n",
       "       [  3.28,  24.  ,   0.  ,   1.  ],\n",
       "       [  2.92,  12.  ,   0.  ,   1.  ],\n",
       "       [  4.  ,  21.  ,   0.  ,   1.  ]])"
      ]
     },
     "execution_count": 50,
     "metadata": {},
     "output_type": "execute_result"
    }
   ],
   "source": [
    "# That's what they look like\n",
    "X[:5]"
   ]
  },
  {
   "cell_type": "code",
   "execution_count": 8,
   "metadata": {
    "collapsed": false
   },
   "outputs": [
    {
     "data": {
      "text/plain": [
       "array([ 0.,  0.,  0.,  0.,  1.,  0.,  0.,  0.,  0.,  1.,  0.,  0.,  0.,\n",
       "        1.,  0.,  0.,  0.,  0.,  0.,  1.,  0.,  1.,  0.,  0.,  1.,  1.,\n",
       "        1.,  0.,  1.,  1.,  0.,  1.])"
      ]
     },
     "execution_count": 8,
     "metadata": {},
     "output_type": "execute_result"
    }
   ],
   "source": [
    "y"
   ]
  },
  {
   "cell_type": "code",
   "execution_count": 28,
   "metadata": {
    "collapsed": false
   },
   "outputs": [
    {
     "data": {
      "text/html": [
       "<table class=\"simpletable\">\n",
       "<caption>Logit Regression Results</caption>\n",
       "<tr>\n",
       "  <th>Dep. Variable:</th>         <td>y</td>        <th>  No. Observations:  </th>  <td>    32</td> \n",
       "</tr>\n",
       "<tr>\n",
       "  <th>Model:</th>               <td>Logit</td>      <th>  Df Residuals:      </th>  <td>    28</td> \n",
       "</tr>\n",
       "<tr>\n",
       "  <th>Method:</th>               <td>MLE</td>       <th>  Df Model:          </th>  <td>     3</td> \n",
       "</tr>\n",
       "<tr>\n",
       "  <th>Date:</th>          <td>Wed, 10 Aug 2016</td> <th>  Pseudo R-squ.:     </th>  <td>0.3740</td> \n",
       "</tr>\n",
       "<tr>\n",
       "  <th>Time:</th>              <td>10:22:19</td>     <th>  Log-Likelihood:    </th> <td> -12.890</td>\n",
       "</tr>\n",
       "<tr>\n",
       "  <th>converged:</th>           <td>True</td>       <th>  LL-Null:           </th> <td> -20.592</td>\n",
       "</tr>\n",
       "<tr>\n",
       "  <th> </th>                      <td> </td>        <th>  LLR p-value:       </th> <td>0.001502</td>\n",
       "</tr>\n",
       "</table>\n",
       "<table class=\"simpletable\">\n",
       "<tr>\n",
       "    <td></td>       <th>coef</th>     <th>std err</th>      <th>z</th>      <th>P>|z|</th> <th>[95.0% Conf. Int.]</th> \n",
       "</tr>\n",
       "<tr>\n",
       "  <th>x1</th>    <td>    2.8261</td> <td>    1.263</td> <td>    2.238</td> <td> 0.025</td> <td>    0.351     5.301</td>\n",
       "</tr>\n",
       "<tr>\n",
       "  <th>x2</th>    <td>    0.0952</td> <td>    0.142</td> <td>    0.672</td> <td> 0.501</td> <td>   -0.182     0.373</td>\n",
       "</tr>\n",
       "<tr>\n",
       "  <th>x3</th>    <td>    2.3787</td> <td>    1.065</td> <td>    2.234</td> <td> 0.025</td> <td>    0.292     4.465</td>\n",
       "</tr>\n",
       "<tr>\n",
       "  <th>const</th> <td>  -13.0213</td> <td>    4.931</td> <td>   -2.641</td> <td> 0.008</td> <td>  -22.687    -3.356</td>\n",
       "</tr>\n",
       "</table>"
      ],
      "text/plain": [
       "<class 'statsmodels.iolib.summary.Summary'>\n",
       "\"\"\"\n",
       "                           Logit Regression Results                           \n",
       "==============================================================================\n",
       "Dep. Variable:                      y   No. Observations:                   32\n",
       "Model:                          Logit   Df Residuals:                       28\n",
       "Method:                           MLE   Df Model:                            3\n",
       "Date:                Wed, 10 Aug 2016   Pseudo R-squ.:                  0.3740\n",
       "Time:                        10:22:19   Log-Likelihood:                -12.890\n",
       "converged:                       True   LL-Null:                       -20.592\n",
       "                                        LLR p-value:                  0.001502\n",
       "==============================================================================\n",
       "                 coef    std err          z      P>|z|      [95.0% Conf. Int.]\n",
       "------------------------------------------------------------------------------\n",
       "x1             2.8261      1.263      2.238      0.025         0.351     5.301\n",
       "x2             0.0952      0.142      0.672      0.501        -0.182     0.373\n",
       "x3             2.3787      1.065      2.234      0.025         0.292     4.465\n",
       "const        -13.0213      4.931     -2.641      0.008       -22.687    -3.356\n",
       "==============================================================================\n",
       "\"\"\""
      ]
     },
     "execution_count": 28,
     "metadata": {},
     "output_type": "execute_result"
    }
   ],
   "source": [
    "logit_mod = sm.Logit(y, X)\n",
    "logit_res = logit_mod.fit(disp=0)\n",
    "logit_res.summary()"
   ]
  },
  {
   "cell_type": "code",
   "execution_count": 94,
   "metadata": {
    "collapsed": false
   },
   "outputs": [
    {
     "data": {
      "text/plain": [
       "x1        2.8261\n",
       "x2        0.0952\n",
       "x3        2.3787\n",
       "const   -13.0213\n",
       "dtype: float64"
      ]
     },
     "execution_count": 94,
     "metadata": {},
     "output_type": "execute_result"
    }
   ],
   "source": [
    "sm_params = pd.Series(logit_res.params, index=features)\n",
    "sm_params"
   ]
  },
  {
   "cell_type": "code",
   "execution_count": 83,
   "metadata": {
    "collapsed": false
   },
   "outputs": [
    {
     "name": "stdout",
     "output_type": "stream",
     "text": [
      "LogisticRegression(C=1.0, class_weight=None, dual=False, fit_intercept=True,\n",
      "          intercept_scaling=1, max_iter=100, multi_class='ovr', n_jobs=1,\n",
      "          penalty='l2', random_state=None, solver='liblinear', tol=0.0001,\n",
      "          verbose=0, warm_start=False)\n"
     ]
    }
   ],
   "source": [
    "logistic = LogisticRegression()\n",
    "print logistic\n",
    "sk_params = {}\n",
    "for c in np.logspace(-3, 7, 21):\n",
    "    logistic.set_params(C=c)\n",
    "    logistic.fit(X[:, :3], y)\n",
    "    sk_params[c] = np.concatenate((logistic.coef_.ravel(), logistic.intercept_))"
   ]
  },
  {
   "cell_type": "code",
   "execution_count": 84,
   "metadata": {
    "collapsed": false
   },
   "outputs": [
    {
     "data": {
      "text/html": [
       "<div>\n",
       "<table border=\"1\" class=\"dataframe\">\n",
       "  <thead>\n",
       "    <tr style=\"text-align: right;\">\n",
       "      <th></th>\n",
       "      <th>x1</th>\n",
       "      <th>x2</th>\n",
       "      <th>x3</th>\n",
       "      <th>const</th>\n",
       "    </tr>\n",
       "  </thead>\n",
       "  <tbody>\n",
       "    <tr>\n",
       "      <th>-3.0</th>\n",
       "      <td>-0.0019</td>\n",
       "      <td>-0.0185</td>\n",
       "      <td>0.0024</td>\n",
       "      <td>-0.0017</td>\n",
       "    </tr>\n",
       "    <tr>\n",
       "      <th>-2.5</th>\n",
       "      <td>-0.0008</td>\n",
       "      <td>-0.0218</td>\n",
       "      <td>0.0084</td>\n",
       "      <td>-0.0039</td>\n",
       "    </tr>\n",
       "    <tr>\n",
       "      <th>-2.0</th>\n",
       "      <td>0.0037</td>\n",
       "      <td>-0.0237</td>\n",
       "      <td>0.0272</td>\n",
       "      <td>-0.0103</td>\n",
       "    </tr>\n",
       "    <tr>\n",
       "      <th>-1.5</th>\n",
       "      <td>0.0176</td>\n",
       "      <td>-0.0263</td>\n",
       "      <td>0.0839</td>\n",
       "      <td>-0.0306</td>\n",
       "    </tr>\n",
       "    <tr>\n",
       "      <th>-1.0</th>\n",
       "      <td>0.0560</td>\n",
       "      <td>-0.0321</td>\n",
       "      <td>0.2380</td>\n",
       "      <td>-0.0952</td>\n",
       "    </tr>\n",
       "    <tr>\n",
       "      <th>-0.5</th>\n",
       "      <td>0.1445</td>\n",
       "      <td>-0.0423</td>\n",
       "      <td>0.5662</td>\n",
       "      <td>-0.2998</td>\n",
       "    </tr>\n",
       "    <tr>\n",
       "      <th>0.0</th>\n",
       "      <td>0.3221</td>\n",
       "      <td>-0.0500</td>\n",
       "      <td>1.0126</td>\n",
       "      <td>-0.9052</td>\n",
       "    </tr>\n",
       "    <tr>\n",
       "      <th>0.5</th>\n",
       "      <td>0.6687</td>\n",
       "      <td>-0.0408</td>\n",
       "      <td>1.3808</td>\n",
       "      <td>-2.3998</td>\n",
       "    </tr>\n",
       "    <tr>\n",
       "      <th>1.0</th>\n",
       "      <td>1.2296</td>\n",
       "      <td>-0.0093</td>\n",
       "      <td>1.6475</td>\n",
       "      <td>-5.0439</td>\n",
       "    </tr>\n",
       "    <tr>\n",
       "      <th>1.5</th>\n",
       "      <td>1.8635</td>\n",
       "      <td>0.0310</td>\n",
       "      <td>1.9096</td>\n",
       "      <td>-8.1479</td>\n",
       "    </tr>\n",
       "    <tr>\n",
       "      <th>2.0</th>\n",
       "      <td>2.3608</td>\n",
       "      <td>0.0636</td>\n",
       "      <td>2.1383</td>\n",
       "      <td>-10.6388</td>\n",
       "    </tr>\n",
       "    <tr>\n",
       "      <th>2.5</th>\n",
       "      <td>2.6453</td>\n",
       "      <td>0.0829</td>\n",
       "      <td>2.2838</td>\n",
       "      <td>-12.0929</td>\n",
       "    </tr>\n",
       "    <tr>\n",
       "      <th>3.0</th>\n",
       "      <td>2.7637</td>\n",
       "      <td>0.0909</td>\n",
       "      <td>2.3456</td>\n",
       "      <td>-12.7001</td>\n",
       "    </tr>\n",
       "    <tr>\n",
       "      <th>3.5</th>\n",
       "      <td>2.8056</td>\n",
       "      <td>0.0938</td>\n",
       "      <td>2.3677</td>\n",
       "      <td>-12.9158</td>\n",
       "    </tr>\n",
       "    <tr>\n",
       "      <th>4.0</th>\n",
       "      <td>2.8194</td>\n",
       "      <td>0.0947</td>\n",
       "      <td>2.3751</td>\n",
       "      <td>-12.9868</td>\n",
       "    </tr>\n",
       "    <tr>\n",
       "      <th>4.5</th>\n",
       "      <td>2.8238</td>\n",
       "      <td>0.0950</td>\n",
       "      <td>2.3774</td>\n",
       "      <td>-13.0095</td>\n",
       "    </tr>\n",
       "    <tr>\n",
       "      <th>5.0</th>\n",
       "      <td>2.8252</td>\n",
       "      <td>0.0951</td>\n",
       "      <td>2.3781</td>\n",
       "      <td>-13.0167</td>\n",
       "    </tr>\n",
       "    <tr>\n",
       "      <th>5.5</th>\n",
       "      <td>2.8257</td>\n",
       "      <td>0.0951</td>\n",
       "      <td>2.3784</td>\n",
       "      <td>-13.0190</td>\n",
       "    </tr>\n",
       "    <tr>\n",
       "      <th>6.0</th>\n",
       "      <td>2.8258</td>\n",
       "      <td>0.0951</td>\n",
       "      <td>2.3785</td>\n",
       "      <td>-13.0197</td>\n",
       "    </tr>\n",
       "    <tr>\n",
       "      <th>6.5</th>\n",
       "      <td>2.8259</td>\n",
       "      <td>0.0951</td>\n",
       "      <td>2.3785</td>\n",
       "      <td>-13.0200</td>\n",
       "    </tr>\n",
       "    <tr>\n",
       "      <th>7.0</th>\n",
       "      <td>2.8259</td>\n",
       "      <td>0.0951</td>\n",
       "      <td>2.3785</td>\n",
       "      <td>-13.0200</td>\n",
       "    </tr>\n",
       "  </tbody>\n",
       "</table>\n",
       "</div>"
      ],
      "text/plain": [
       "          x1      x2      x3    const\n",
       "-3.0 -0.0019 -0.0185  0.0024  -0.0017\n",
       "-2.5 -0.0008 -0.0218  0.0084  -0.0039\n",
       "-2.0  0.0037 -0.0237  0.0272  -0.0103\n",
       "-1.5  0.0176 -0.0263  0.0839  -0.0306\n",
       "-1.0  0.0560 -0.0321  0.2380  -0.0952\n",
       "-0.5  0.1445 -0.0423  0.5662  -0.2998\n",
       " 0.0  0.3221 -0.0500  1.0126  -0.9052\n",
       " 0.5  0.6687 -0.0408  1.3808  -2.3998\n",
       " 1.0  1.2296 -0.0093  1.6475  -5.0439\n",
       " 1.5  1.8635  0.0310  1.9096  -8.1479\n",
       " 2.0  2.3608  0.0636  2.1383 -10.6388\n",
       " 2.5  2.6453  0.0829  2.2838 -12.0929\n",
       " 3.0  2.7637  0.0909  2.3456 -12.7001\n",
       " 3.5  2.8056  0.0938  2.3677 -12.9158\n",
       " 4.0  2.8194  0.0947  2.3751 -12.9868\n",
       " 4.5  2.8238  0.0950  2.3774 -13.0095\n",
       " 5.0  2.8252  0.0951  2.3781 -13.0167\n",
       " 5.5  2.8257  0.0951  2.3784 -13.0190\n",
       " 6.0  2.8258  0.0951  2.3785 -13.0197\n",
       " 6.5  2.8259  0.0951  2.3785 -13.0200\n",
       " 7.0  2.8259  0.0951  2.3785 -13.0200"
      ]
     },
     "execution_count": 84,
     "metadata": {},
     "output_type": "execute_result"
    }
   ],
   "source": [
    "sk_params = pd.DataFrame(sk_params, index=features).T\n",
    "sk_params.index = np.log10(sk_params.index.values)\n",
    "sk_params"
   ]
  },
  {
   "cell_type": "code",
   "execution_count": 97,
   "metadata": {
    "collapsed": false
   },
   "outputs": [
    {
     "data": {
      "image/png": "[encoded data removed]",
      "text/plain": [
       "<matplotlib.figure.Figure at 0x11a1d1b90>"
      ]
     },
     "metadata": {},
     "output_type": "display_data"
    }
   ],
   "source": [
    "fix, ax = plt.subplots(ncols=2, figsize=(15, 5))\n",
    "sk_params.plot(ax=ax[0])\n",
    "pd.DataFrame({i: sm_params for i in sk_params.index}).T.plot(ax=ax[1]);"
   ]
  }
 ],
 "metadata": {
  "kernelspec": {
   "display_name": "GA Data Science",
   "language": "python",
   "name": "ga_ds"
  },
  "language_info": {
   "codemirror_mode": {
    "name": "ipython",
    "version": 2
   },
   "file_extension": ".py",
   "mimetype": "text/x-python",
   "name": "python",
   "nbconvert_exporter": "python",
   "pygments_lexer": "ipython2",
   "version": "2.7.12"
  },
  "latex_envs": {
   "bibliofile": "biblio.bib",
   "cite_by": "apalike",
   "current_citInitial": 1,
   "eqLabelWithNumbers": true,
   "eqNumInitial": 0
  }
 },
 "nbformat": 4,
 "nbformat_minor": 0
}
